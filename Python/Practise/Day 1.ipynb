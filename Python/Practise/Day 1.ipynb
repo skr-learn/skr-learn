{
 "cells": [
  {
   "cell_type": "markdown",
   "metadata": {
    "application/vnd.databricks.v1+cell": {
     "cellMetadata": {},
     "inputWidgets": {},
     "nuid": "6f3c8ce3-1bc2-4d0e-a2bb-21f840baf79a",
     "showTitle": false,
     "title": ""
    }
   },
   "source": [
    "##### Q 1: Write a Python program to print \"Hello, World!\""
   ]
  },
  {
   "cell_type": "code",
   "execution_count": 0,
   "metadata": {
    "application/vnd.databricks.v1+cell": {
     "cellMetadata": {
      "byteLimit": 2048000,
      "rowLimit": 10000
     },
     "inputWidgets": {},
     "nuid": "6584bbe5-2ec2-497a-9a3b-5dca24547a62",
     "showTitle": false,
     "title": ""
    }
   },
   "outputs": [
    {
     "output_type": "stream",
     "name": "stdout",
     "output_type": "stream",
     "text": [
      "Hello, World!\n"
     ]
    }
   ],
   "source": [
    "## Simple Solution:\n",
    "\n",
    "print(\"Hello, World!\")"
   ]
  },
  {
   "cell_type": "code",
   "execution_count": 0,
   "metadata": {
    "application/vnd.databricks.v1+cell": {
     "cellMetadata": {
      "byteLimit": 2048000,
      "rowLimit": 10000
     },
     "inputWidgets": {},
     "nuid": "e3b162da-1f16-4404-86b8-11a24305075c",
     "showTitle": false,
     "title": ""
    }
   },
   "outputs": [
    {
     "output_type": "stream",
     "name": "stdout",
     "output_type": "stream",
     "text": [
      "Hello, World!\n"
     ]
    }
   ],
   "source": [
    "## Solution by creating class:\n",
    "\n",
    "class hello_world:\n",
    "  def print_hello_world(self):\n",
    "    print(\"Hello, World!\")\n",
    "\n",
    "if __name__ == \"__main__\":\n",
    "  obj = hello_world()   ## Create an instance of the Main class\n",
    "  obj.print_hello_world()   # Call the method to print \"Hello, World!\""
   ]
  },
  {
   "cell_type": "markdown",
   "metadata": {
    "application/vnd.databricks.v1+cell": {
     "cellMetadata": {},
     "inputWidgets": {},
     "nuid": "b1ee5962-6abb-4a95-9bba-f94a56206792",
     "showTitle": false,
     "title": ""
    }
   },
   "source": [
    "##### Q 2: Calculate the sum of two numbers entered by the user."
   ]
  },
  {
   "cell_type": "code",
   "execution_count": 0,
   "metadata": {
    "application/vnd.databricks.v1+cell": {
     "cellMetadata": {
      "byteLimit": 2048000,
      "rowLimit": 10000
     },
     "inputWidgets": {},
     "nuid": "c3d94098-59ac-4921-bfe3-63b93848b497",
     "showTitle": false,
     "title": ""
    }
   },
   "outputs": [
    {
     "output_type": "display_data",
     "data": {
      "text/plain": [
       "Num 1:  5"
      ]
     },
     "metadata": {},
     "output_type": "display_data"
    },
    {
     "output_type": "display_data",
     "data": {
      "text/plain": [
       "Num 2:  4"
      ]
     },
     "metadata": {},
     "output_type": "display_data"
    },
    {
     "output_type": "stream",
     "name": "stdout",
     "output_type": "stream",
     "text": [
      "Sum:  9.0\n"
     ]
    }
   ],
   "source": [
    "num1 = float(input(\"Num 1: \"))\n",
    "num2 = float(input(\"Num 2: \"))\n",
    "add = num1 + num2\n",
    "print(\"Sum: \", add)"
   ]
  },
  {
   "cell_type": "code",
   "execution_count": 0,
   "metadata": {
    "application/vnd.databricks.v1+cell": {
     "cellMetadata": {
      "byteLimit": 2048000,
      "rowLimit": 10000
     },
     "inputWidgets": {},
     "nuid": "6d746db6-eca4-4754-a5f6-6130ec2b3931",
     "showTitle": false,
     "title": ""
    }
   },
   "outputs": [
    {
     "output_type": "display_data",
     "data": {
      "text/plain": [
       "Num 1:  5"
      ]
     },
     "metadata": {},
     "output_type": "display_data"
    },
    {
     "output_type": "display_data",
     "data": {
      "text/plain": [
       "Num 2:  6"
      ]
     },
     "metadata": {},
     "output_type": "display_data"
    },
    {
     "output_type": "stream",
     "name": "stdout",
     "output_type": "stream",
     "text": [
      "Sum:  11.0\n"
     ]
    }
   ],
   "source": [
    "class Sum:\n",
    "  def sum_of_two_num(self, a, b):\n",
    "    add = a + b\n",
    "    return add\n",
    "  \n",
    "if __name__ == \"__main__\":\n",
    "  a = float(input(\"Num 1: \"))\n",
    "  b = float(input(\"Num 2: \"))\n",
    "  obj = Sum()\n",
    "  res = obj.sum_of_two_num(a, b)\n",
    "  print(\"Sum: \", res)"
   ]
  },
  {
   "cell_type": "markdown",
   "metadata": {
    "application/vnd.databricks.v1+cell": {
     "cellMetadata": {},
     "inputWidgets": {},
     "nuid": "e71be497-2f91-4c8d-8a34-7679b6cf5775",
     "showTitle": false,
     "title": ""
    }
   },
   "source": [
    "##### Q 3: Convert temperature from Celsius to Fahrenheit."
   ]
  },
  {
   "cell_type": "code",
   "execution_count": 0,
   "metadata": {
    "application/vnd.databricks.v1+cell": {
     "cellMetadata": {
      "byteLimit": 2048000,
      "rowLimit": 10000
     },
     "inputWidgets": {},
     "nuid": "a7067a7a-25eb-4f89-86aa-16a8ade4ed82",
     "showTitle": false,
     "title": ""
    }
   },
   "outputs": [
    {
     "output_type": "display_data",
     "data": {
      "text/plain": [
       "Enter temperature in celsius:  32"
      ]
     },
     "metadata": {},
     "output_type": "display_data"
    },
    {
     "output_type": "stream",
     "name": "stdout",
     "output_type": "stream",
     "text": [
      "32.0°C is equal to 89.6°F\n"
     ]
    }
   ],
   "source": [
    "def celsius_to_fahrenheit(celsius):\n",
    "  fahrenheit = (celsius * 9/5) + 32\n",
    "  return fahrenheit\n",
    "\n",
    "if __name__ == \"__main__\":\n",
    "  celsius =  float(input(\"Enter temperature in celsius: \"))\n",
    "  fah = celsius_to_fahrenheit(celsius)\n",
    "  print(f\"{celsius}°C is equal to {fah}°F\")"
   ]
  },
  {
   "cell_type": "markdown",
   "metadata": {
    "application/vnd.databricks.v1+cell": {
     "cellMetadata": {},
     "inputWidgets": {},
     "nuid": "24c52255-9ede-4e06-b3ce-89d1090c41ed",
     "showTitle": false,
     "title": ""
    }
   },
   "source": [
    "##### Q 4: Write a Python program to calculate the area of a rectangle given its length and width."
   ]
  },
  {
   "cell_type": "code",
   "execution_count": 0,
   "metadata": {
    "application/vnd.databricks.v1+cell": {
     "cellMetadata": {
      "byteLimit": 2048000,
      "rowLimit": 10000
     },
     "inputWidgets": {},
     "nuid": "0c33a8a7-b0fa-43e2-ba04-0b398b119eb0",
     "showTitle": false,
     "title": ""
    }
   },
   "outputs": [
    {
     "output_type": "display_data",
     "data": {
      "text/plain": [
       "Length:  5"
      ]
     },
     "metadata": {},
     "output_type": "display_data"
    },
    {
     "output_type": "display_data",
     "data": {
      "text/plain": [
       "Width:  3"
      ]
     },
     "metadata": {},
     "output_type": "display_data"
    },
    {
     "output_type": "stream",
     "name": "stdout",
     "output_type": "stream",
     "text": [
      "Area of rectangle: 15.0\n"
     ]
    }
   ],
   "source": [
    "class Rectangle:\n",
    "  def area_rect(self, length, width):\n",
    "    area = (length * width)\n",
    "    return area\n",
    "\n",
    "if __name__ == \"__main__\":\n",
    "  length = float(input(\"Length: \"))\n",
    "  width = float(input(\"Width: \"))\n",
    "  area = Rectangle()\n",
    "  print(f\"Area of rectangle: {area.area_rect(length, width)}\")"
   ]
  },
  {
   "cell_type": "markdown",
   "metadata": {
    "application/vnd.databricks.v1+cell": {
     "cellMetadata": {},
     "inputWidgets": {},
     "nuid": "4cc92e6b-c84d-4a6f-ac3f-abcbfe464c6d",
     "showTitle": false,
     "title": ""
    }
   },
   "source": [
    "##### Q 5: Create a program that takes a user's name and age as input and prints a greeting message."
   ]
  },
  {
   "cell_type": "code",
   "execution_count": 0,
   "metadata": {
    "application/vnd.databricks.v1+cell": {
     "cellMetadata": {
      "byteLimit": 2048000,
      "rowLimit": 10000
     },
     "inputWidgets": {},
     "nuid": "0828674e-c8ee-4cb3-979f-f7dede482d80",
     "showTitle": false,
     "title": ""
    }
   },
   "outputs": [
    {
     "output_type": "display_data",
     "data": {
      "text/plain": [
       "Enter name:  Sumit"
      ]
     },
     "metadata": {},
     "output_type": "display_data"
    },
    {
     "output_type": "display_data",
     "data": {
      "text/plain": [
       "Enter age:  30"
      ]
     },
     "metadata": {},
     "output_type": "display_data"
    },
    {
     "output_type": "stream",
     "name": "stdout",
     "output_type": "stream",
     "text": [
      "Hello Sumit! Your age is 30.\n"
     ]
    }
   ],
   "source": [
    "def user():\n",
    "  name = input(\"Enter name: \")\n",
    "  age = int(input(\"Enter age: \"))\n",
    "  print(f\"Hello {name}! Your age is {age}.\")\n",
    "\n",
    "if __name__ == \"__main__\":\n",
    "  user()"
   ]
  },
  {
   "cell_type": "code",
   "execution_count": 0,
   "metadata": {
    "application/vnd.databricks.v1+cell": {
     "cellMetadata": {
      "byteLimit": 2048000,
      "rowLimit": 10000
     },
     "inputWidgets": {},
     "nuid": "8b44c550-0f72-4a7b-a9c1-660a10628c88",
     "showTitle": false,
     "title": ""
    }
   },
   "outputs": [
    {
     "output_type": "display_data",
     "data": {
      "text/plain": [
       "Enter your name:  Sumit"
      ]
     },
     "metadata": {},
     "output_type": "display_data"
    },
    {
     "output_type": "display_data",
     "data": {
      "text/plain": [
       "Enter your age:  30"
      ]
     },
     "metadata": {},
     "output_type": "display_data"
    },
    {
     "output_type": "stream",
     "name": "stdout",
     "output_type": "stream",
     "text": [
      "Hey Sumit! You are 30 years old.\n"
     ]
    }
   ],
   "source": [
    "class Greeting:\n",
    "  def __init__(self, name, age):\n",
    "    self.name = name\n",
    "    self.age = age\n",
    "  def greet(self):\n",
    "    print(f\"Hey {self.name}! You are {self.age} years old.\")\n",
    "\n",
    "if __name__ == \"__main__\":\n",
    "  name = input(\"Enter your name: \")\n",
    "  age = int(input(\"Enter your age: \"))\n",
    "  user = Greeting(name, age)\n",
    "  user.greet()"
   ]
  },
  {
   "cell_type": "markdown",
   "metadata": {
    "application/vnd.databricks.v1+cell": {
     "cellMetadata": {},
     "inputWidgets": {},
     "nuid": "6790323b-17f8-42c4-974b-d4ea09f999ca",
     "showTitle": false,
     "title": ""
    }
   },
   "source": [
    "##### Q 6: Write a program to check if a number is even or odd."
   ]
  },
  {
   "cell_type": "code",
   "execution_count": 0,
   "metadata": {
    "application/vnd.databricks.v1+cell": {
     "cellMetadata": {
      "byteLimit": 2048000,
      "rowLimit": 10000
     },
     "inputWidgets": {},
     "nuid": "23948f80-7af8-4bf0-9317-be4d5dd9a7da",
     "showTitle": false,
     "title": ""
    }
   },
   "outputs": [
    {
     "output_type": "display_data",
     "data": {
      "text/plain": [
       "Enter number to check even or odd:  23"
      ]
     },
     "metadata": {},
     "output_type": "display_data"
    },
    {
     "output_type": "stream",
     "name": "stdout",
     "output_type": "stream",
     "text": [
      "23 is odd.\n"
     ]
    }
   ],
   "source": [
    "class Number():\n",
    "  def __init__(self, num):\n",
    "    self.num = num\n",
    "  \n",
    "  def num_check(self):\n",
    "    if self.num % 2 == 0:\n",
    "      print(f\"{self.num} is even.\")\n",
    "    else:\n",
    "      print(f\"{self.num} is odd.\")\n",
    "\n",
    "if __name__ == \"__main__\":\n",
    "  num = int(input(\"Enter number to check even or odd: \"))\n",
    "  obj = Number(num)\n",
    "  obj.num_check()"
   ]
  },
  {
   "cell_type": "markdown",
   "metadata": {
    "application/vnd.databricks.v1+cell": {
     "cellMetadata": {},
     "inputWidgets": {},
     "nuid": "dca909c7-9b94-45d0-85ce-28447050a677",
     "showTitle": false,
     "title": ""
    }
   },
   "source": [
    "##### Q 7: Given a list of numbers, find the maximum and minimum values."
   ]
  },
  {
   "cell_type": "code",
   "execution_count": 0,
   "metadata": {
    "application/vnd.databricks.v1+cell": {
     "cellMetadata": {
      "byteLimit": 2048000,
      "rowLimit": 10000
     },
     "inputWidgets": {},
     "nuid": "b1d7b764-9919-4097-9467-ea2a926a8549",
     "showTitle": false,
     "title": ""
    }
   },
   "outputs": [
    {
     "output_type": "stream",
     "name": "stdout",
     "output_type": "stream",
     "text": [
      "10 is maximum number.\n1 is minimum number.\n"
     ]
    }
   ],
   "source": [
    "class MinMaxNumbers:\n",
    "  def __init__(self, numbers):\n",
    "    self.numbers = numbers\n",
    "\n",
    "  def minNum(self):\n",
    "    if not self.numbers:\n",
    "      return print(\"Number List is empty!\")\n",
    "    else:\n",
    "      return min(self.numbers)\n",
    "\n",
    "  def maxNum(self):\n",
    "    if not self.numbers:\n",
    "      return print(\"Number List is empty!\")\n",
    "    else:\n",
    "      return max(self.numbers)\n",
    "    \n",
    "if __name__ == \"__main__\":\n",
    "  numbers = [1,4,6,3,5,2,10]\n",
    "  find = MinMaxNumbers(numbers)\n",
    "  maxNum = find.maxNum()\n",
    "  minNum = find.minNum()\n",
    "  print(f\"{maxNum} is maximum number.\")\n",
    "  print(f\"{minNum} is minimum number.\")"
   ]
  },
  {
   "cell_type": "markdown",
   "metadata": {
    "application/vnd.databricks.v1+cell": {
     "cellMetadata": {},
     "inputWidgets": {},
     "nuid": "1e8c0891-cef9-4f74-9e17-882f613292df",
     "showTitle": false,
     "title": ""
    }
   },
   "source": [
    "##### Q 8: Create a Python function to check if a given string is a palindrome."
   ]
  },
  {
   "cell_type": "code",
   "execution_count": 0,
   "metadata": {
    "application/vnd.databricks.v1+cell": {
     "cellMetadata": {
      "byteLimit": 2048000,
      "rowLimit": 10000
     },
     "inputWidgets": {},
     "nuid": "2b50edec-cff0-4c0f-810c-8fe5387c7bd4",
     "showTitle": false,
     "title": ""
    }
   },
   "outputs": [
    {
     "output_type": "stream",
     "name": "stdout",
     "output_type": "stream",
     "text": [
      "racecar : Palindrome\nhello : Not Palindrome\nmadam : Palindrome\nlevel : Palindrome\nPalindrome : Not Palindrome\n"
     ]
    }
   ],
   "source": [
    "class String:\n",
    "  def __init__(self, string):\n",
    "    self.string = string\n",
    "  \n",
    "  def check_palindrome(self):\n",
    "    string = self.string.lower()\n",
    "    length = len(string)\n",
    "    for i in range(length // 2):\n",
    "      if string[i] != string[length - i - 1]:\n",
    "        return \"Not Palindrome\"\n",
    "    return \"Palindrome\"\n",
    "  \n",
    "if __name__ == \"__main__\":\n",
    "  string = [\"racecar\", \"hello\", \"madam\", \"level\", \"Palindrome\"]\n",
    "  for check_str in string:\n",
    "    pal_check = String(check_str)\n",
    "    result = pal_check.check_palindrome()\n",
    "    print(f\"{check_str} : {result}\")"
   ]
  },
  {
   "cell_type": "markdown",
   "metadata": {
    "application/vnd.databricks.v1+cell": {
     "cellMetadata": {},
     "inputWidgets": {},
     "nuid": "a0337008-5e18-45fc-8c28-4c3e6c4f07b2",
     "showTitle": false,
     "title": ""
    }
   },
   "source": [
    "##### Q 9: Calculate the compound interest for a given principal amount, interest rate, and time period."
   ]
  },
  {
   "cell_type": "code",
   "execution_count": 0,
   "metadata": {
    "application/vnd.databricks.v1+cell": {
     "cellMetadata": {
      "byteLimit": 2048000,
      "rowLimit": 10000
     },
     "inputWidgets": {},
     "nuid": "58cf0c92-5bae-45ec-bfac-bb244135370f",
     "showTitle": false,
     "title": ""
    }
   },
   "outputs": [
    {
     "output_type": "display_data",
     "data": {
      "text/plain": [
       "Enter principal amount:  15000"
      ]
     },
     "metadata": {},
     "output_type": "display_data"
    },
    {
     "output_type": "display_data",
     "data": {
      "text/plain": [
       "Enter interest rate:  7"
      ]
     },
     "metadata": {},
     "output_type": "display_data"
    },
    {
     "output_type": "display_data",
     "data": {
      "text/plain": [
       "Enter time period in years:  5"
      ]
     },
     "metadata": {},
     "output_type": "display_data"
    },
    {
     "output_type": "stream",
     "name": "stdout",
     "output_type": "stream",
     "text": [
      "Compound Interest is 6038.28.\n"
     ]
    }
   ],
   "source": [
    "class Compound_Interest:\n",
    "  def __init__(self, principal, interest_rate, time):\n",
    "    self.principal = principal\n",
    "    self.interest_rate = interest_rate\n",
    "    self.time = time\n",
    "\n",
    "  def ci_calculation(self):\n",
    "    ## amt = p(1+(i/100))**t\n",
    "    ## ci = amt - p\n",
    "    ci = (self.principal*((1 + (self.interest_rate/100))**self.time)) - self.principal\n",
    "    return round(ci, 2)\n",
    "  \n",
    "if __name__ == \"__main__\":\n",
    "  p = float(input(\"Enter principal amount: \"))\n",
    "  i = float(input(\"Enter interest rate: \"))\n",
    "  t = float(input(\"Enter time period in years: \"))\n",
    "  calculation = Compound_Interest(p, i, t)\n",
    "  ci_result = calculation.ci_calculation()\n",
    "  print(f\"Compound Interest is {ci_result}.\")"
   ]
  },
  {
   "cell_type": "markdown",
   "metadata": {
    "application/vnd.databricks.v1+cell": {
     "cellMetadata": {},
     "inputWidgets": {},
     "nuid": "de58ee4c-621e-41ff-8a0c-8c6537f2ac9a",
     "showTitle": false,
     "title": ""
    }
   },
   "source": [
    "##### Q 10: Write a program that converts a given number of days into years, weeks, and days."
   ]
  },
  {
   "cell_type": "code",
   "execution_count": 0,
   "metadata": {
    "application/vnd.databricks.v1+cell": {
     "cellMetadata": {
      "byteLimit": 2048000,
      "rowLimit": 10000
     },
     "inputWidgets": {},
     "nuid": "70eee15e-2576-4974-805a-861df099e695",
     "showTitle": false,
     "title": ""
    }
   },
   "outputs": [
    {
     "output_type": "display_data",
     "data": {
      "text/plain": [
       "Enter number of days:  1178"
      ]
     },
     "metadata": {},
     "output_type": "display_data"
    },
    {
     "output_type": "stream",
     "name": "stdout",
     "output_type": "stream",
     "text": [
      "Converted Days: 3 Years, 11 Weeks, 6 Days\n"
     ]
    }
   ],
   "source": [
    "class Days_converter:\n",
    "  def __init__(self, days):\n",
    "    self.days = days\n",
    "\n",
    "  def conv_years_weeks_days(self):\n",
    "    years = self.days // 365\n",
    "    remaining_days = self.days % 365    ## Calculate remaining days after considering years\n",
    "    weeks = remaining_days // 7   ## Calculate weeks from the remaining days\n",
    "    days = remaining_days % 7\n",
    "    return years, weeks, days\n",
    "  \n",
    "if __name__ == \"__main__\":\n",
    "  days = int(input(\"Enter number of days: \"))\n",
    "  conv = Days_converter(days)\n",
    "  years, weeks, days = conv.conv_years_weeks_days()\n",
    "  print(f\"Converted Days: {years} Years, {weeks} Weeks, {days} Days\")"
   ]
  },
  {
   "cell_type": "markdown",
   "metadata": {
    "application/vnd.databricks.v1+cell": {
     "cellMetadata": {},
     "inputWidgets": {},
     "nuid": "4531cba9-244c-4937-b194-8f5ba7db561b",
     "showTitle": false,
     "title": ""
    }
   },
   "source": [
    "##### Q 11: Given a list of integers, find the sum of all positive numbers."
   ]
  },
  {
   "cell_type": "code",
   "execution_count": 0,
   "metadata": {
    "application/vnd.databricks.v1+cell": {
     "cellMetadata": {
      "byteLimit": 2048000,
      "rowLimit": 10000
     },
     "inputWidgets": {},
     "nuid": "8bdcea17-c565-4976-b02f-ea4d513977bb",
     "showTitle": false,
     "title": ""
    }
   },
   "outputs": [
    {
     "output_type": "stream",
     "name": "stdout",
     "output_type": "stream",
     "text": [
      "Numbers are 1, 4, -4, 0, 6, -2.\nSum of all positive numbers: 11\n"
     ]
    }
   ],
   "source": [
    "class Sum:\n",
    "  def __init__(self, num):\n",
    "    self.num = num\n",
    "  \n",
    "  def sum_positive_nums(self):\n",
    "    total = 0\n",
    "    for i in self.num:\n",
    "      if i > 0:\n",
    "        total += i\n",
    "    return total\n",
    "  \n",
    "if __name__ == \"__main__\":\n",
    "  num = [1, 4, -4, 0, 6, -2]\n",
    "  obj = Sum(num)\n",
    "  result = obj.sum_positive_nums()\n",
    "\n",
    "  all_num = ', '.join(str(element) for element in num)\n",
    "  print(f\"Numbers are {all_num}.\")\n",
    "\n",
    "  print(f\"Sum of all positive numbers: {result}\")"
   ]
  },
  {
   "cell_type": "markdown",
   "metadata": {
    "application/vnd.databricks.v1+cell": {
     "cellMetadata": {},
     "inputWidgets": {},
     "nuid": "518d2482-660a-4a80-8a14-2714fc8b5d78",
     "showTitle": false,
     "title": ""
    }
   },
   "source": [
    "##### Q 12: Create a program that takes a sentence as input and counts the number of words in it"
   ]
  },
  {
   "cell_type": "code",
   "execution_count": 0,
   "metadata": {
    "application/vnd.databricks.v1+cell": {
     "cellMetadata": {
      "byteLimit": 2048000,
      "rowLimit": 10000
     },
     "inputWidgets": {},
     "nuid": "81765f20-a98a-4cae-b769-56df87e995db",
     "showTitle": false,
     "title": ""
    }
   },
   "outputs": [
    {
     "output_type": "display_data",
     "data": {
      "text/plain": [
       "Enter a line:  Hi! He is Ram and He works in Army."
      ]
     },
     "metadata": {},
     "output_type": "display_data"
    },
    {
     "output_type": "stream",
     "name": "stdout",
     "output_type": "stream",
     "text": [
      "Words count: 9\n"
     ]
    }
   ],
   "source": [
    "class Sentence:\n",
    "  def __init__(self, line):\n",
    "    self.line = line\n",
    "\n",
    "  def words_count(self):\n",
    "    line_split = self.line.split(\" \")\n",
    "    count = 0\n",
    "    for word in line_split:\n",
    "      count += 1\n",
    "    return count\n",
    "  \n",
    "if __name__ == \"__main__\":\n",
    "  line = input(\"Enter a line: \")\n",
    "  obj = Sentence(line)\n",
    "  word_count = obj.words_count()\n",
    "  print(f\"Words count: {word_count}\")\n"
   ]
  },
  {
   "cell_type": "markdown",
   "metadata": {
    "application/vnd.databricks.v1+cell": {
     "cellMetadata": {},
     "inputWidgets": {},
     "nuid": "ea3a7afc-89f4-4e20-a408-8f9d152b8ba4",
     "showTitle": false,
     "title": ""
    }
   },
   "source": [
    "##### Q 13: Implement a program that swaps the values of two variables."
   ]
  },
  {
   "cell_type": "code",
   "execution_count": 0,
   "metadata": {
    "application/vnd.databricks.v1+cell": {
     "cellMetadata": {
      "byteLimit": 2048000,
      "rowLimit": 10000
     },
     "inputWidgets": {},
     "nuid": "ee348fe6-2e7e-405a-b1c6-94c733857551",
     "showTitle": false,
     "title": ""
    }
   },
   "outputs": [
    {
     "output_type": "display_data",
     "data": {
      "text/plain": [
       "Enter variable a:  Hello"
      ]
     },
     "metadata": {},
     "output_type": "display_data"
    },
    {
     "output_type": "display_data",
     "data": {
      "text/plain": [
       "Enter variable b:  World"
      ]
     },
     "metadata": {},
     "output_type": "display_data"
    },
    {
     "output_type": "stream",
     "name": "stdout",
     "output_type": "stream",
     "text": [
      "Values before swap: Hello, World\nSwapped values: World, Hello\n"
     ]
    }
   ],
   "source": [
    "class Variables:\n",
    "  def __init__(self, a, b):\n",
    "    self.a = a\n",
    "    self.b = b\n",
    "\n",
    "  def swap(self):\n",
    "    c = self.a\n",
    "    self.a = self.b\n",
    "    self.b = c\n",
    "    return self.a, self.b\n",
    "  \n",
    "if __name__ == \"__main__\":\n",
    "  a = input(\"Enter variable a: \")\n",
    "  b = input(\"Enter variable b: \")\n",
    "  print(f\"Values before swap: {a}, {b}\")\n",
    "  obj = Variables(a, b)\n",
    "  a, b = obj.swap()\n",
    "  print(f\"Swapped values: {a}, {b}\")"
   ]
  }
 ],
 "metadata": {
  "application/vnd.databricks.v1+notebook": {
   "dashboards": [],
   "language": "python",
   "notebookMetadata": {
    "pythonIndentUnit": 2
   },
   "notebookName": "Day 1",
   "widgets": {}
  }
 },
 "nbformat": 4,
 "nbformat_minor": 0
}
