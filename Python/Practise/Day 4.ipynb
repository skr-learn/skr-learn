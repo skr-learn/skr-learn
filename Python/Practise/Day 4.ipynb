{
 "cells": [
  {
   "cell_type": "markdown",
   "metadata": {},
   "source": [
    "FUNCTIONS"
   ]
  },
  {
   "cell_type": "markdown",
   "metadata": {},
   "source": [
    "Q 1: Write a function to calculate the area of a circle given its radius."
   ]
  },
  {
   "cell_type": "code",
   "execution_count": null,
   "metadata": {},
   "outputs": [],
   "source": [
    "class Circle():\n",
    "    def __init__(self, radius):\n",
    "        self.radius = radius\n",
    "\n",
    "    def area_of_circle(self):\n",
    "        area = (22/7) * (self.radius)**2\n",
    "        return area\n",
    "\n",
    "if __name__ == \"__main__\":\n",
    "    radius = input(\"Radius of circle: \")\n",
    "    circle = Circle(radius)\n",
    "    area = circle.area_of_circle()\n",
    "    "
   ]
  }
 ],
 "metadata": {
  "kernelspec": {
   "display_name": "Python 3",
   "language": "python",
   "name": "python3"
  },
  "language_info": {
   "name": "python",
   "version": "3.11.5"
  }
 },
 "nbformat": 4,
 "nbformat_minor": 2
}
