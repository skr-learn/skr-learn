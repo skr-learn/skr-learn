{
 "cells": [
  {
   "cell_type": "markdown",
   "metadata": {},
   "source": [
    "FUNCTIONS"
   ]
  },
  {
   "cell_type": "markdown",
   "metadata": {},
   "source": [
    "EXAMPLE QUESTIONS"
   ]
  },
  {
   "cell_type": "markdown",
   "metadata": {},
   "source": [
    "Q 1: Write a function to calculate the area of a circle given its radius."
   ]
  },
  {
   "cell_type": "code",
   "execution_count": 6,
   "metadata": {},
   "outputs": [
    {
     "name": "stdout",
     "output_type": "stream",
     "text": [
      "Area of circle with radius 7.0 is 154.0\n"
     ]
    }
   ],
   "source": [
    "class Circle():\n",
    "    def __init__(self, radius):\n",
    "        self.radius = radius\n",
    "\n",
    "    def area_of_circle(self):\n",
    "        area = (22/7) * (float(self.radius)**2)\n",
    "        return round(area, 2)\n",
    "\n",
    "if __name__ == \"__main__\":\n",
    "    radius = float(input(\"Radius of circle: \"))\n",
    "    circle = Circle(radius)\n",
    "    area = circle.area_of_circle()\n",
    "    print(f\"Area of circle with radius {radius} is {area}\")\n",
    "    "
   ]
  },
  {
   "cell_type": "markdown",
   "metadata": {},
   "source": [
    "Q 2: Create a function to check if a number is prime."
   ]
  },
  {
   "cell_type": "code",
   "execution_count": 7,
   "metadata": {},
   "outputs": [
    {
     "name": "stdout",
     "output_type": "stream",
     "text": [
      "31 is prime number.\n"
     ]
    }
   ],
   "source": [
    "class Prime():\n",
    "    def __init__(self, num):\n",
    "        self.num = num\n",
    "    def is_prime(self):\n",
    "        if self.num <= 1:\n",
    "            return False\n",
    "        for i in range(2, int(self.num**0.5) + 1):\n",
    "            if self.num % i == 0:\n",
    "                return False\n",
    "        return True\n",
    "    \n",
    "if __name__ == \"__main__\":\n",
    "    num = int(input(\"Enter a number to check if it is prime: \"))\n",
    "    obj = Prime(num)\n",
    "    prime = obj.is_prime()\n",
    "    if prime:\n",
    "        print(f\"{num} is prime number.\")\n",
    "    else:\n",
    "        print(f\"{num} is not prime number.\")"
   ]
  },
  {
   "cell_type": "markdown",
   "metadata": {},
   "source": [
    "Q 3: Implement a function that reverses a given string."
   ]
  },
  {
   "cell_type": "code",
   "execution_count": 8,
   "metadata": {},
   "outputs": [
    {
     "name": "stdout",
     "output_type": "stream",
     "text": [
      "Reverse of hello is olleh\n"
     ]
    }
   ],
   "source": [
    "class Reverse():\n",
    "    def __init__(self, str):\n",
    "        self.str = str\n",
    "    \n",
    "    def reverse_string(self):\n",
    "        return self.str[::-1]\n",
    "    \n",
    "if __name__ == \"__main__\":\n",
    "    str = input(\"Enter a string: \")\n",
    "    obj = Reverse(str)\n",
    "    reverse_str = obj.reverse_string()\n",
    "    print(f\"Reverse of {str} is {reverse_str}\")"
   ]
  },
  {
   "cell_type": "markdown",
   "metadata": {},
   "source": [
    "PRACTISE QUESTIONS"
   ]
  },
  {
   "cell_type": "markdown",
   "metadata": {},
   "source": [
    "\n",
    "1. Given a list of numbers, create a function to find the sum of all positive numbers."
   ]
  },
  {
   "cell_type": "code",
   "execution_count": 9,
   "metadata": {},
   "outputs": [
    {
     "name": "stdout",
     "output_type": "stream",
     "text": [
      "Total sum of positive numbers is 28\n"
     ]
    }
   ],
   "source": [
    "class Sum_Positive():\n",
    "    def __init__(self, num_list):\n",
    "        self.num_list = num_list\n",
    "\n",
    "    def sum_pos_num(self):\n",
    "        sum_pos = 0\n",
    "        for num in self.num_list:\n",
    "            if num > 0:\n",
    "                sum_pos = sum_pos + num\n",
    "        return sum_pos\n",
    "    \n",
    "if __name__ == \"__main__\":\n",
    "    num_list = [5, -2, 4, -7, 8, -9, 10, 1]\n",
    "    obj = Sum_Positive(num_list)\n",
    "    total_sum_pos = obj.sum_pos_num()\n",
    "    print(f\"Total sum of positive numbers is {total_sum_pos}\")"
   ]
  },
  {
   "cell_type": "markdown",
   "metadata": {},
   "source": [
    "2. Write a Python function to check if a given string is a palindrome"
   ]
  },
  {
   "cell_type": "code",
   "execution_count": 4,
   "metadata": {},
   "outputs": [
    {
     "name": "stdout",
     "output_type": "stream",
     "text": [
      "malayalam is palindrome!\n"
     ]
    }
   ],
   "source": [
    "class Palindrome():\n",
    "    def __init__(self, input_str):\n",
    "        self.input_str = input_str\n",
    "\n",
    "    def check_palindrome(self):\n",
    "        return self.input_str == self.input_str[::-1]\n",
    "    \n",
    "if __name__ == \"__main__\":\n",
    "    input_str = input(\"Enter a string: \")\n",
    "    pal_check = Palindrome(input_str)\n",
    "    result = pal_check.check_palindrome()\n",
    "    if result is True:\n",
    "        print(f\"{input_str} is palindrome!\")\n",
    "    else:\n",
    "        print(f\"{input_str} is not palindrome!\")"
   ]
  },
  {
   "cell_type": "markdown",
   "metadata": {},
   "source": [
    "3. Implement a function that returns the factorial of a given number using recursion."
   ]
  },
  {
   "cell_type": "code",
   "execution_count": 13,
   "metadata": {},
   "outputs": [
    {
     "name": "stdout",
     "output_type": "stream",
     "text": [
      "Factorial of 5 is 120\n"
     ]
    }
   ],
   "source": [
    "class Factorial():\n",
    "    def __init__(self, num):\n",
    "        self.num = num\n",
    "    \n",
    "    def calculate_factorial(self):\n",
    "        if self.num == 0 or self.num == 1:\n",
    "            return 1\n",
    "        else:\n",
    "            return self.num * Factorial(self.num - 1).calculate_factorial()\n",
    "\n",
    "if __name__ == \"__main__\":\n",
    "    num = int(input(\"Enter a number: \"))\n",
    "    obj = Factorial(num)\n",
    "    factorial = obj.calculate_factorial()\n",
    "    print(f\"Factorial of {num} is {factorial}\")"
   ]
  }
 ],
 "metadata": {
  "kernelspec": {
   "display_name": "Python 3",
   "language": "python",
   "name": "python3"
  },
  "language_info": {
   "codemirror_mode": {
    "name": "ipython",
    "version": 3
   },
   "file_extension": ".py",
   "mimetype": "text/x-python",
   "name": "python",
   "nbconvert_exporter": "python",
   "pygments_lexer": "ipython3",
   "version": "3.11.5"
  }
 },
 "nbformat": 4,
 "nbformat_minor": 2
}
