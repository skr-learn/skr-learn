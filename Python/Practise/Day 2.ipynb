{
 "cells": [
  {
   "cell_type": "markdown",
   "metadata": {
    "application/vnd.databricks.v1+cell": {
     "cellMetadata": {},
     "inputWidgets": {},
     "nuid": "52ea152b-baf4-4b4a-ad8d-c7b966209a9e",
     "showTitle": false,
     "title": ""
    }
   },
   "source": [
    "#### Example Questions"
   ]
  },
  {
   "cell_type": "markdown",
   "metadata": {
    "application/vnd.databricks.v1+cell": {
     "cellMetadata": {},
     "inputWidgets": {},
     "nuid": "a0ff95e6-b5f7-49c7-b6fa-895db2788178",
     "showTitle": false,
     "title": ""
    }
   },
   "source": [
    "##### Q 1: Create variables for storing a person's name, age, and average test score."
   ]
  },
  {
   "cell_type": "code",
   "execution_count": 0,
   "metadata": {
    "application/vnd.databricks.v1+cell": {
     "cellMetadata": {
      "byteLimit": 2048000,
      "rowLimit": 10000
     },
     "inputWidgets": {},
     "nuid": "e9caeff5-2a2e-4edd-bbfa-56a10b5d5bba",
     "showTitle": false,
     "title": ""
    }
   },
   "outputs": [
    {
     "output_type": "display_data",
     "data": {
      "text/plain": [
       "Enter your name:  Sumit"
      ]
     },
     "metadata": {},
     "output_type": "display_data"
    },
    {
     "output_type": "display_data",
     "data": {
      "text/plain": [
       "Enter your age:  30"
      ]
     },
     "metadata": {},
     "output_type": "display_data"
    },
    {
     "output_type": "display_data",
     "data": {
      "text/plain": [
       "Enter no. of tests:  5"
      ]
     },
     "metadata": {},
     "output_type": "display_data"
    },
    {
     "output_type": "display_data",
     "data": {
      "text/plain": [
       "Enter subject 1 score:  92"
      ]
     },
     "metadata": {},
     "output_type": "display_data"
    },
    {
     "output_type": "display_data",
     "data": {
      "text/plain": [
       "Enter subject 2 score:  87"
      ]
     },
     "metadata": {},
     "output_type": "display_data"
    },
    {
     "output_type": "display_data",
     "data": {
      "text/plain": [
       "Enter subject 3 score:  82"
      ]
     },
     "metadata": {},
     "output_type": "display_data"
    },
    {
     "output_type": "display_data",
     "data": {
      "text/plain": [
       "Enter subject 4 score:  78"
      ]
     },
     "metadata": {},
     "output_type": "display_data"
    },
    {
     "output_type": "display_data",
     "data": {
      "text/plain": [
       "Enter subject 5 score:  97"
      ]
     },
     "metadata": {},
     "output_type": "display_data"
    },
    {
     "output_type": "stream",
     "name": "stdout",
     "output_type": "stream",
     "text": [
      "Your name is Sumit.\nYour age is 30.\nYour average score is 87.2.\n"
     ]
    }
   ],
   "source": [
    "class Person:\n",
    "  def __init__(self, no_of_test):\n",
    "    self.no_of_test = no_of_test\n",
    "\n",
    "  def avg_score(self):\n",
    "    marks = 0\n",
    "    for i in range(1, self.no_of_test+1):\n",
    "      scores = int(input(f\"Enter subject {i} score: \"))\n",
    "      marks = marks + scores\n",
    "    avg_score = marks/self.no_of_test\n",
    "    return round(avg_score, 2)\n",
    "  \n",
    "if __name__ == \"__main__\":\n",
    "    name = input(\"Enter your name: \")\n",
    "    age = int(input(\"Enter your age: \"))\n",
    "    tests = int(input(\"Enter no. of tests: \"))\n",
    "    obj = Person(tests)\n",
    "    avg_marks = obj.avg_score()\n",
    "    print(f\"Your name is {name}.\")\n",
    "    print(f\"Your age is {age}.\")\n",
    "    print(f\"Your average score is {avg_marks}.\")"
   ]
  },
  {
   "cell_type": "code",
   "execution_count": 0,
   "metadata": {
    "application/vnd.databricks.v1+cell": {
     "cellMetadata": {
      "byteLimit": 2048000,
      "rowLimit": 10000
     },
     "inputWidgets": {},
     "nuid": "8804565c-fae2-4cf0-95ab-42bcb032a533",
     "showTitle": false,
     "title": ""
    }
   },
   "outputs": [
    {
     "output_type": "display_data",
     "data": {
      "text/plain": [
       "Enter your name:  Sumit"
      ]
     },
     "metadata": {},
     "output_type": "display_data"
    },
    {
     "output_type": "display_data",
     "data": {
      "text/plain": [
       "Enter your age:  30"
      ]
     },
     "metadata": {},
     "output_type": "display_data"
    },
    {
     "output_type": "display_data",
     "data": {
      "text/plain": [
       "Enter no. of tests:  5"
      ]
     },
     "metadata": {},
     "output_type": "display_data"
    },
    {
     "output_type": "display_data",
     "data": {
      "text/plain": [
       "Enter subject 1 score:  92"
      ]
     },
     "metadata": {},
     "output_type": "display_data"
    },
    {
     "output_type": "display_data",
     "data": {
      "text/plain": [
       "Enter subject 2 score:  97"
      ]
     },
     "metadata": {},
     "output_type": "display_data"
    },
    {
     "output_type": "display_data",
     "data": {
      "text/plain": [
       "Enter subject 3 score:  89"
      ]
     },
     "metadata": {},
     "output_type": "display_data"
    },
    {
     "output_type": "display_data",
     "data": {
      "text/plain": [
       "Enter subject 4 score:  78"
      ]
     },
     "metadata": {},
     "output_type": "display_data"
    },
    {
     "output_type": "display_data",
     "data": {
      "text/plain": [
       "Enter subject 5 score:  86"
      ]
     },
     "metadata": {},
     "output_type": "display_data"
    },
    {
     "output_type": "stream",
     "name": "stdout",
     "output_type": "stream",
     "text": [
      "Your name is Sumit.\nYour age is 30.\nYour average score is 88.4.\n"
     ]
    }
   ],
   "source": [
    "## Covering edge case that if number of tests are entered less than 0.\n",
    "\n",
    "class Person:\n",
    "    def __init__(self, tests):\n",
    "        self.tests = tests\n",
    "\n",
    "    def avg_score(self):\n",
    "        marks = 0\n",
    "        if self.tests > 0:\n",
    "            for i in range(1, self.tests + 1):\n",
    "                scores = int(input(f\"Enter subject {i} score: \"))\n",
    "                marks += scores\n",
    "            avg_score = marks / self.tests\n",
    "            return round(avg_score, 2)\n",
    "        else:\n",
    "            return 0\n",
    "\n",
    "if __name__ == \"__main__\":\n",
    "    name = input(\"Enter your name: \")\n",
    "    age = int(input(\"Enter your age: \"))\n",
    "    tests = int(input(\"Enter no. of tests: \"))\n",
    "    obj = Person(tests)\n",
    "    avg_marks = obj.avg_score()\n",
    "    if avg_marks:\n",
    "        print(f\"Your name is {name}.\")\n",
    "        print(f\"Your age is {age}.\")\n",
    "        print(f\"Your average score is {avg_marks}.\")\n",
    "    else:\n",
    "        print(\"Please enter a valid number of tests greater than 0.\")"
   ]
  },
  {
   "cell_type": "markdown",
   "metadata": {
    "application/vnd.databricks.v1+cell": {
     "cellMetadata": {},
     "inputWidgets": {},
     "nuid": "92ad7eb6-f849-49a8-b1af-04154f892dd2",
     "showTitle": false,
     "title": ""
    }
   },
   "source": [
    "##### Q 2: Concatenate two strings and print the result."
   ]
  },
  {
   "cell_type": "code",
   "execution_count": 0,
   "metadata": {
    "application/vnd.databricks.v1+cell": {
     "cellMetadata": {
      "byteLimit": 2048000,
      "rowLimit": 10000
     },
     "inputWidgets": {},
     "nuid": "043d36bc-1e61-4232-a9d9-fdf5c1199d48",
     "showTitle": false,
     "title": ""
    }
   },
   "outputs": [
    {
     "output_type": "display_data",
     "data": {
      "text/plain": [
       "Enter string 1:  Hello"
      ]
     },
     "metadata": {},
     "output_type": "display_data"
    },
    {
     "output_type": "display_data",
     "data": {
      "text/plain": [
       "Enter string 2:  World"
      ]
     },
     "metadata": {},
     "output_type": "display_data"
    },
    {
     "output_type": "stream",
     "name": "stdout",
     "output_type": "stream",
     "text": [
      "Strings after concatenation: HelloWorld\n"
     ]
    }
   ],
   "source": [
    "class Strings:\n",
    "  def __init__(self, string1, string2):\n",
    "    self.string1 = string1\n",
    "    self.string2 = string2\n",
    "\n",
    "  def concat_strings(self):\n",
    "    str3 = string1 + string2\n",
    "    return str3\n",
    "  \n",
    "if __name__ == \"__main__\":\n",
    "  string1 = input(\"Enter string 1: \")\n",
    "  string2 = input(\"Enter string 2: \")\n",
    "  obj = Strings(string1, string2)\n",
    "  concat_str = obj.concat_strings()\n",
    "  print(f\"Strings after concatenation: {concat_str}\")"
   ]
  },
  {
   "cell_type": "markdown",
   "metadata": {
    "application/vnd.databricks.v1+cell": {
     "cellMetadata": {},
     "inputWidgets": {},
     "nuid": "4660c1f9-2057-41b0-89b4-a06ee2fdd86f",
     "showTitle": false,
     "title": ""
    }
   },
   "source": [
    "##### Q 3: Create a list of fruits and access elements using indexing."
   ]
  },
  {
   "cell_type": "code",
   "execution_count": 0,
   "metadata": {
    "application/vnd.databricks.v1+cell": {
     "cellMetadata": {
      "byteLimit": 2048000,
      "rowLimit": 10000
     },
     "inputWidgets": {},
     "nuid": "298757d8-7a11-4f63-9557-f03aaad82c5a",
     "showTitle": false,
     "title": ""
    }
   },
   "outputs": [
    {
     "output_type": "stream",
     "name": "stdout",
     "output_type": "stream",
     "text": [
      "Element at index 1 is Banana\nElement at index 2 is Orange\nElement at index 3 is Grapes\nElement at index 4 is Watermelon\n"
     ]
    }
   ],
   "source": [
    "class Fruits:\n",
    "  def __init__(self, fruits):\n",
    "    self.fruits = fruits\n",
    "    self.index = index\n",
    "\n",
    "  def accessing_elements(self):\n",
    "    for i in range(1, len(self.fruits)):\n",
    "      print(f\"Element at index {i} is {self.fruits[i]}\")\n",
    "\n",
    "if __name__ == \"__main__\":\n",
    "  fruits = [\"Apple\", \"Banana\", \"Orange\", \"Grapes\", \"Watermelon\"]\n",
    "  obj = Fruits(fruits)\n",
    "  element = obj.accessing_elements()"
   ]
  },
  {
   "cell_type": "markdown",
   "metadata": {
    "application/vnd.databricks.v1+cell": {
     "cellMetadata": {},
     "inputWidgets": {},
     "nuid": "4e9c90fd-b583-404c-a228-ac9e08050234",
     "showTitle": false,
     "title": ""
    }
   },
   "source": [
    "#### Practise Questions"
   ]
  },
  {
   "cell_type": "markdown",
   "metadata": {
    "application/vnd.databricks.v1+cell": {
     "cellMetadata": {},
     "inputWidgets": {},
     "nuid": "1ba5139d-99a2-4f22-b739-f440b6b6d832",
     "showTitle": false,
     "title": ""
    }
   },
   "source": [
    "##### Q 1: Given a list of numbers, find the sum and average."
   ]
  },
  {
   "cell_type": "code",
   "execution_count": 0,
   "metadata": {
    "application/vnd.databricks.v1+cell": {
     "cellMetadata": {
      "byteLimit": 2048000,
      "rowLimit": 10000
     },
     "inputWidgets": {},
     "nuid": "768b3821-0ee1-472c-9e45-83d2ed7132d8",
     "showTitle": false,
     "title": ""
    }
   },
   "outputs": [
    {
     "output_type": "stream",
     "name": "stdout",
     "output_type": "stream",
     "text": [
      "Sum of numbers is 456 and, average of numbers is 76.0\n"
     ]
    }
   ],
   "source": [
    "class Numbers:\n",
    "  def __init__(self, num_list):\n",
    "    self.num_list = num_list\n",
    "\n",
    "  def agg(self):\n",
    "    total = 0\n",
    "    for i in range(len(self.num_list)):\n",
    "      total = total + self.num_list[i]\n",
    "    avg = round(total/len(self.num_list), 2)\n",
    "    return total, avg\n",
    "\n",
    "if __name__ == \"__main__\":\n",
    "  num_list = [76, 45, 87, 89, 92, 67]\n",
    "  obj = Numbers(num_list)\n",
    "  total, avg = obj.agg()\n",
    "  print(f\"Sum of numbers is {total} and, average of numbers is {avg}\")"
   ]
  },
  {
   "cell_type": "markdown",
   "metadata": {
    "application/vnd.databricks.v1+cell": {
     "cellMetadata": {},
     "inputWidgets": {},
     "nuid": "a435a8cc-864b-474c-9a43-e95b14150310",
     "showTitle": false,
     "title": ""
    }
   },
   "source": [
    "##### Q 2: Create a program that takes a temperature in Celsius and converts it to Kelvin."
   ]
  },
  {
   "cell_type": "code",
   "execution_count": 0,
   "metadata": {
    "application/vnd.databricks.v1+cell": {
     "cellMetadata": {
      "byteLimit": 2048000,
      "rowLimit": 10000
     },
     "inputWidgets": {},
     "nuid": "42a98432-ac35-4c81-9611-19877467307d",
     "showTitle": false,
     "title": ""
    }
   },
   "outputs": [
    {
     "output_type": "display_data",
     "data": {
      "text/plain": [
       "Enter temperature in celsius:  78"
      ]
     },
     "metadata": {},
     "output_type": "display_data"
    },
    {
     "output_type": "stream",
     "name": "stdout",
     "output_type": "stream",
     "text": [
      "Temperature in Kelvin: 351.15\n"
     ]
    }
   ],
   "source": [
    "class Temperature:\n",
    "  def __init__(self, celsius):\n",
    "    self.celsius = celsius\n",
    "\n",
    "  def conv_to_kelvin(self):\n",
    "    kelvin = self.celsius + 273.15\n",
    "    return kelvin\n",
    "  \n",
    "if __name__ == \"__main__\":\n",
    "  celsius = float(input(\"Enter temperature in celsius: \"))\n",
    "  obj = Temperature(celsius)\n",
    "  kelvin_temp = obj.conv_to_kelvin()\n",
    "  print(f\"Temperature in Kelvin: {kelvin_temp}\")"
   ]
  },
  {
   "cell_type": "markdown",
   "metadata": {
    "application/vnd.databricks.v1+cell": {
     "cellMetadata": {},
     "inputWidgets": {},
     "nuid": "66abc407-a0b3-4e5a-8756-2c198e4ed75e",
     "showTitle": false,
     "title": ""
    }
   },
   "source": [
    "##### Q 3: Implement a program that checks if a given string is a palindrome."
   ]
  },
  {
   "cell_type": "code",
   "execution_count": 0,
   "metadata": {
    "application/vnd.databricks.v1+cell": {
     "cellMetadata": {
      "byteLimit": 2048000,
      "rowLimit": 10000
     },
     "inputWidgets": {},
     "nuid": "18f454f8-9f18-4381-b855-8fcca79eeb8f",
     "showTitle": true,
     "title": "## Solution-1"
    }
   },
   "outputs": [
    {
     "output_type": "stream",
     "name": "stdout",
     "output_type": "stream",
     "text": [
      "'racecar' is a palindrome\n'hello' is not a palindrome\n'madam' is a palindrome\n'level' is a palindrome\n'Palindrome' is not a palindrome\n"
     ]
    }
   ],
   "source": [
    "class PalindromeChecker:\n",
    "    def __init__(self, strings):\n",
    "        self.strings = strings\n",
    "\n",
    "    def is_palindrome(self, text):\n",
    "        return text == text[::-1]\n",
    "\n",
    "    def check_palindromes(self):\n",
    "        results = []\n",
    "        for string in self.strings:\n",
    "            if self.is_palindrome(string):\n",
    "                results.append(f\"'{string}' is a palindrome\")\n",
    "            else:\n",
    "                results.append(f\"'{string}' is not a palindrome\")\n",
    "        return results\n",
    "\n",
    "if __name__ == \"__main__\":\n",
    "    strings_to_check = [\"racecar\", \"hello\", \"madam\", \"level\", \"Palindrome\"]\n",
    "    checker = PalindromeChecker(strings_to_check)\n",
    "    palindrome_results = checker.check_palindromes()\n",
    "\n",
    "    for result in palindrome_results:\n",
    "        print(result)\n"
   ]
  },
  {
   "cell_type": "code",
   "execution_count": 0,
   "metadata": {
    "application/vnd.databricks.v1+cell": {
     "cellMetadata": {
      "byteLimit": 2048000,
      "rowLimit": 10000
     },
     "inputWidgets": {},
     "nuid": "19df2647-f13b-4720-bb8d-1ab73b930e4f",
     "showTitle": true,
     "title": "## Solution-2"
    }
   },
   "outputs": [
    {
     "output_type": "stream",
     "name": "stdout",
     "output_type": "stream",
     "text": [
      "racecar : Palindrome\nhello : Not Palindrome\nmadam : Palindrome\nlevel : Palindrome\nPalindrome : Not Palindrome\n"
     ]
    }
   ],
   "source": [
    "class Palindrome:\n",
    "  def __init__(self, string):\n",
    "    self.string = string\n",
    "\n",
    "  def check_palindrome(self):\n",
    "    string_in_lower = self.string.lower()\n",
    "\n",
    "    length = len(string_in_lower)\n",
    "    for i in range(length // 2):\n",
    "      if string_in_lower[i] != string_in_lower[length - i - 1]:\n",
    "        return \"Not Palindrome\"\n",
    "    return \"Palindrome\"\n",
    "\n",
    "if __name__ == \"__main__\":\n",
    "  strings = [\"racecar\", \"hello\", \"madam\", \"level\", \"Palindrome\"]\n",
    "  for check_str in strings:\n",
    "    obj = Palindrome(check_str)  # Pass individual string to Palindrome object\n",
    "    check_palindrome = obj.check_palindrome()\n",
    "    print(f\"{check_str} : {check_palindrome}\")\n",
    "    "
   ]
  },
  {
   "cell_type": "markdown",
   "metadata": {
    "application/vnd.databricks.v1+cell": {
     "cellMetadata": {},
     "inputWidgets": {},
     "nuid": "fffcb89b-f70f-4120-a759-fd10f1fb18c5",
     "showTitle": false,
     "title": ""
    }
   },
   "source": [
    "##### Q 4: Create a function to reverse a given string."
   ]
  },
  {
   "cell_type": "code",
   "execution_count": 0,
   "metadata": {
    "application/vnd.databricks.v1+cell": {
     "cellMetadata": {
      "byteLimit": 2048000,
      "rowLimit": 10000
     },
     "inputWidgets": {},
     "nuid": "1a28d29b-6cf4-4cd5-bc2e-7ebe4ceadbd0",
     "showTitle": false,
     "title": ""
    }
   },
   "outputs": [
    {
     "output_type": "display_data",
     "data": {
      "text/plain": [
       "Enter string to reverse:  Hello world"
      ]
     },
     "metadata": {},
     "output_type": "display_data"
    },
    {
     "output_type": "stream",
     "name": "stdout",
     "output_type": "stream",
     "text": [
      "Reverse string: dlrow olleH\n"
     ]
    }
   ],
   "source": [
    "class ReverseString:\n",
    "  def __init__(self, string):\n",
    "    self.string = string\n",
    "\n",
    "  def reverse_string(self):\n",
    "    return self.string[::-1]\n",
    "  \n",
    "if __name__ == \"__main__\":\n",
    "  string = input(\"Enter string to reverse: \")\n",
    "  obj = ReverseString(string)\n",
    "  rev_str = obj.reverse_string()\n",
    "  print(f\"Reverse string: {rev_str}\")"
   ]
  },
  {
   "cell_type": "markdown",
   "metadata": {
    "application/vnd.databricks.v1+cell": {
     "cellMetadata": {},
     "inputWidgets": {},
     "nuid": "f8137631-e909-41b4-b4a0-fc7b8032e606",
     "showTitle": false,
     "title": ""
    }
   },
   "source": [
    "##### Q 5: Given a list of names, concatenate them into a single string separated by spaces."
   ]
  },
  {
   "cell_type": "code",
   "execution_count": 0,
   "metadata": {
    "application/vnd.databricks.v1+cell": {
     "cellMetadata": {
      "byteLimit": 2048000,
      "rowLimit": 10000
     },
     "inputWidgets": {},
     "nuid": "b93f33d7-f2db-400c-9f53-7653952c6458",
     "showTitle": false,
     "title": ""
    }
   },
   "outputs": [
    {
     "output_type": "stream",
     "name": "stdout",
     "output_type": "stream",
     "text": [
      "Concatenated names with space: Alice Bob Charlie David\n"
     ]
    }
   ],
   "source": [
    "class NameConcatenate:\n",
    "  def __init__(self, names):\n",
    "    self.names = names\n",
    "\n",
    "  def concat_names(self):\n",
    "    concat_name = \" \".join(self.names)\n",
    "    return concat_name\n",
    "  \n",
    "if __name__ == \"__main__\":\n",
    "  names = [\"Alice\", \"Bob\", \"Charlie\", \"David\"]\n",
    "  obj = NameConcatenate(names)\n",
    "  concat_name = obj.concat_names()\n",
    "  print(f\"Concatenated names with space: {concat_name}\")\n"
   ]
  },
  {
   "cell_type": "markdown",
   "metadata": {
    "application/vnd.databricks.v1+cell": {
     "cellMetadata": {},
     "inputWidgets": {},
     "nuid": "1c48f1a5-83f8-45f6-a480-b44c6d3c0da0",
     "showTitle": false,
     "title": ""
    }
   },
   "source": [
    "##### Q 6: Write a Python program to check if a given string is a pangram (contains all letters of the alphabet)."
   ]
  },
  {
   "cell_type": "code",
   "execution_count": 0,
   "metadata": {
    "application/vnd.databricks.v1+cell": {
     "cellMetadata": {
      "byteLimit": 2048000,
      "rowLimit": 10000
     },
     "inputWidgets": {},
     "nuid": "b35b7d6c-aa62-49f9-8dd0-b6fa45848f0f",
     "showTitle": false,
     "title": ""
    }
   },
   "outputs": [
    {
     "output_type": "display_data",
     "data": {
      "text/plain": [
       "Enter string to check pangram:  Puzzled women bequeath jerks very exotic gifts"
      ]
     },
     "metadata": {},
     "output_type": "display_data"
    },
    {
     "output_type": "stream",
     "name": "stdout",
     "output_type": "stream",
     "text": [
      "It is pangram!\n"
     ]
    }
   ],
   "source": [
    "class PangramChecker:\n",
    "  def __init__(self, string):\n",
    "    self.string = string\n",
    "\n",
    "  def is_pangram(self):\n",
    "    alphabets = \"abcdefghijklmnopqrstuvwxyz\"\n",
    "    string = self.string.lower()\n",
    "    input_string = \"\".join(char for char in string if char.isalpha())  ## Remove spaces and punctuation from the input string\n",
    "    all_letter_present = True\n",
    "    for letter in alphabets:\n",
    "      if letter not in input_string:\n",
    "        all_letter_present = False\n",
    "        break\n",
    "    return all_letter_present\n",
    "  \n",
    "if __name__ == \"__main__\":\n",
    "  input_string = input(\"Enter string to check pangram: \")\n",
    "  obj = PangramChecker(input_string)\n",
    "  pangram_result = obj.is_pangram()\n",
    "  if pangram_result == True:\n",
    "    print(\"It is pangram!\")\n",
    "  else:\n",
    "    print(\"It is not pangram.\")"
   ]
  },
  {
   "cell_type": "markdown",
   "metadata": {
    "application/vnd.databricks.v1+cell": {
     "cellMetadata": {},
     "inputWidgets": {},
     "nuid": "3843d8c0-f776-4af8-a697-475da7ef15ca",
     "showTitle": false,
     "title": ""
    }
   },
   "source": [
    "##### Q 7: Calculate the area and circumference of a circle given its radius."
   ]
  },
  {
   "cell_type": "code",
   "execution_count": 0,
   "metadata": {
    "application/vnd.databricks.v1+cell": {
     "cellMetadata": {
      "byteLimit": 2048000,
      "rowLimit": 10000
     },
     "inputWidgets": {},
     "nuid": "0b5759fc-349a-4c19-9717-b3b203278058",
     "showTitle": false,
     "title": ""
    }
   },
   "outputs": [
    {
     "output_type": "display_data",
     "data": {
      "text/plain": [
       "Enter radius of circle:  5"
      ]
     },
     "metadata": {},
     "output_type": "display_data"
    },
    {
     "output_type": "stream",
     "name": "stdout",
     "output_type": "stream",
     "text": [
      "Area of circle is 78.5 sq unit.\nCircumference of circle is 31.4 unit.\n"
     ]
    }
   ],
   "source": [
    "class Circle:\n",
    "  def __init__(self, radius):\n",
    "    self.radius = radius\n",
    "\n",
    "  def area_of_circle(self):\n",
    "    return round((3.14*(self.radius)**2), 2)\n",
    "  \n",
    "  def circumference_circle(self):\n",
    "    return round((2*3.14*(self.radius)), 2)\n",
    "  \n",
    "if __name__ == \"__main__\":\n",
    "  radius = float(input(\"Enter radius of circle: \"))\n",
    "  obj = Circle(radius)\n",
    "  area = obj.area_of_circle()\n",
    "  circum = obj.circumference_circle()\n",
    "  print(f\"Area of circle is {area} sq unit.\")\n",
    "  print(f\"Circumference of circle is {circum} unit.\")"
   ]
  },
  {
   "cell_type": "markdown",
   "metadata": {
    "application/vnd.databricks.v1+cell": {
     "cellMetadata": {},
     "inputWidgets": {},
     "nuid": "1e68983a-5700-4ece-bea1-28ee6a486558",
     "showTitle": false,
     "title": ""
    }
   },
   "source": [
    "##### Q 8: Implement a program that converts a given number of minutes into hours and minutes."
   ]
  },
  {
   "cell_type": "code",
   "execution_count": 0,
   "metadata": {
    "application/vnd.databricks.v1+cell": {
     "cellMetadata": {
      "byteLimit": 2048000,
      "rowLimit": 10000
     },
     "inputWidgets": {},
     "nuid": "821a5028-ac58-4d4d-b96d-45636e0b3a04",
     "showTitle": false,
     "title": ""
    }
   },
   "outputs": [
    {
     "output_type": "display_data",
     "data": {
      "text/plain": [
       "Enter time in minutes:  245"
      ]
     },
     "metadata": {},
     "output_type": "display_data"
    },
    {
     "output_type": "stream",
     "name": "stdout",
     "output_type": "stream",
     "text": [
      "Converted time: 4 hours 5 minutes\n"
     ]
    }
   ],
   "source": [
    "class TimeConverter:\n",
    "  def __init__(self, input_time):\n",
    "    self.input_time = input_time\n",
    "\n",
    "  def hours_minutes(self):\n",
    "    hours = self.input_time // 60\n",
    "    minutes = self.input_time % 60\n",
    "    return hours, minutes\n",
    "\n",
    "if __name__ == \"__main__\":\n",
    "  input_time = int(input(\"Enter time in minutes: \"))\n",
    "  obj = TimeConverter(input_time)\n",
    "  hours, minutes = obj.hours_minutes()\n",
    "  print(f\"Converted time: {hours} hours {minutes} minutes\")\n"
   ]
  },
  {
   "cell_type": "markdown",
   "metadata": {
    "application/vnd.databricks.v1+cell": {
     "cellMetadata": {},
     "inputWidgets": {},
     "nuid": "367de12e-d1b4-4e5b-87dc-c81343806f6f",
     "showTitle": false,
     "title": ""
    }
   },
   "source": [
    "##### Q 9: Create a function to count the number of vowels in a given string."
   ]
  },
  {
   "cell_type": "code",
   "execution_count": 0,
   "metadata": {
    "application/vnd.databricks.v1+cell": {
     "cellMetadata": {
      "byteLimit": 2048000,
      "rowLimit": 10000
     },
     "inputWidgets": {},
     "nuid": "8054a336-77c2-4fb2-ab70-6e1b5cf7d8e9",
     "showTitle": false,
     "title": ""
    }
   },
   "outputs": [
    {
     "output_type": "display_data",
     "data": {
      "text/plain": [
       "Enter a string:  My name is Sumit"
      ]
     },
     "metadata": {},
     "output_type": "display_data"
    },
    {
     "output_type": "stream",
     "name": "stdout",
     "output_type": "stream",
     "text": [
      "Vowels count: 5\n"
     ]
    }
   ],
   "source": [
    "class Vowels:\n",
    "  def __init__(self, string):\n",
    "    self.string = string\n",
    "\n",
    "  def count_vowels(self):\n",
    "    count = 0\n",
    "    vowels = [\"a\", \"e\", \"i\", \"o\", \"u\"]\n",
    "    str_lower = self.string.lower()\n",
    "    for letter in str_lower:\n",
    "      if letter in vowels:\n",
    "        count += 1\n",
    "    return count\n",
    "  \n",
    "if __name__ == \"__main__\":\n",
    "  string = input(\"Enter a string: \")\n",
    "  obj = Vowels(string)\n",
    "  count_vowel = obj.count_vowels()\n",
    "  print(f\"Vowels count: {count_vowel}\")"
   ]
  },
  {
   "cell_type": "markdown",
   "metadata": {
    "application/vnd.databricks.v1+cell": {
     "cellMetadata": {},
     "inputWidgets": {},
     "nuid": "f7535329-ee65-4b86-b94f-dc874220248d",
     "showTitle": false,
     "title": ""
    }
   },
   "source": [
    "##### Q 10: Write a program to check if a number is prime."
   ]
  },
  {
   "cell_type": "code",
   "execution_count": 0,
   "metadata": {
    "application/vnd.databricks.v1+cell": {
     "cellMetadata": {
      "byteLimit": 2048000,
      "rowLimit": 10000
     },
     "inputWidgets": {},
     "nuid": "a09eb200-8252-401a-9d14-b34a77c3db0e",
     "showTitle": false,
     "title": ""
    }
   },
   "outputs": [
    {
     "output_type": "display_data",
     "data": {
      "text/plain": [
       "Enter a number:  56"
      ]
     },
     "metadata": {},
     "output_type": "display_data"
    },
    {
     "output_type": "stream",
     "name": "stdout",
     "output_type": "stream",
     "text": [
      "56 is not a prime number.\n"
     ]
    }
   ],
   "source": [
    "def is_prime(n):\n",
    "    if n <= 1:\n",
    "        return False\n",
    "    elif n == 2:\n",
    "        return True\n",
    "    elif n % 2 == 0:\n",
    "        return False\n",
    "    else:\n",
    "        # Start checking for divisibility from 3 up to square root of n (only odd numbers)\n",
    "        for i in range(3, int(n**0.5) + 1, 2):\n",
    "            if n % i == 0:\n",
    "                return False\n",
    "        return True\n",
    "\n",
    "# Input number to check if it's prime or not\n",
    "num = int(input(\"Enter a number: \"))\n",
    "\n",
    "if is_prime(num):\n",
    "    print(f\"{num} is a prime number.\")\n",
    "else:\n",
    "    print(f\"{num} is not a prime number.\")"
   ]
  }
 ],
 "metadata": {
  "application/vnd.databricks.v1+notebook": {
   "dashboards": [],
   "language": "python",
   "notebookMetadata": {
    "pythonIndentUnit": 2
   },
   "notebookName": "Day 2",
   "widgets": {}
  }
 },
 "nbformat": 4,
 "nbformat_minor": 0
}
