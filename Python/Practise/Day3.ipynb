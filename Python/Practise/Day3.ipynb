{
 "cells": [
  {
   "cell_type": "markdown",
   "metadata": {
    "application/vnd.databricks.v1+cell": {
     "cellMetadata": {},
     "inputWidgets": {},
     "nuid": "b63f8989-52fa-4e3c-85ac-a513fcdedf6b",
     "showTitle": false,
     "title": ""
    }
   },
   "source": [
    "#### Example Questions"
   ]
  },
  {
   "cell_type": "markdown",
   "metadata": {
    "application/vnd.databricks.v1+cell": {
     "cellMetadata": {},
     "inputWidgets": {},
     "nuid": "56042f56-f629-4e17-a65a-7c1413eec521",
     "showTitle": false,
     "title": ""
    }
   },
   "source": [
    "##### Write a program that checks if a given number is positive, negative, or zero."
   ]
  },
  {
   "cell_type": "code",
   "execution_count": 0,
   "metadata": {
    "application/vnd.databricks.v1+cell": {
     "cellMetadata": {
      "byteLimit": 2048000,
      "rowLimit": 10000
     },
     "inputWidgets": {},
     "nuid": "5d85d98c-11f8-4cd6-b3f8-4af0b3443355",
     "showTitle": false,
     "title": ""
    }
   },
   "outputs": [
    {
     "output_type": "display_data",
     "data": {
      "text/plain": [
       "Enter a number:  87"
      ]
     },
     "metadata": {},
     "output_type": "display_data"
    },
    {
     "output_type": "stream",
     "name": "stdout",
     "output_type": "stream",
     "text": [
      "Number is positive.\n"
     ]
    },
    {
     "output_type": "display_data",
     "data": {
      "text/plain": [
       "Enter a number:  -90"
      ]
     },
     "metadata": {},
     "output_type": "display_data"
    },
    {
     "output_type": "stream",
     "name": "stdout",
     "output_type": "stream",
     "text": [
      "Number is negative.\n"
     ]
    }
   ],
   "source": [
    "class Number:\n",
    "  def __init__(self, number):\n",
    "    self.number = number\n",
    "\n",
    "  def num_check(self):\n",
    "    if self.number == 0:\n",
    "      print(\"Number is 0.\")\n",
    "    elif self.number > 0:\n",
    "      print(\"Number is positive.\")\n",
    "    else:\n",
    "      print(\"Number is negative.\")\n",
    "\n",
    "if __name__ == \"__main__\":\n",
    "  number = int(input(\"Enter a number: \"))\n",
    "  obj = Number(number)\n",
    "  check_num = obj.num_check()\n",
    "  number2 = int(input(\"Enter a number: \"))\n",
    "  obj = Number(number2)\n",
    "  check_num = obj.num_check()\n"
   ]
  },
  {
   "cell_type": "markdown",
   "metadata": {
    "application/vnd.databricks.v1+cell": {
     "cellMetadata": {},
     "inputWidgets": {},
     "nuid": "c8fcc895-8809-4c4f-93d0-0f9b771a6eab",
     "showTitle": false,
     "title": ""
    }
   },
   "source": [
    "##### Create a loop that prints the first 10 even numbers."
   ]
  },
  {
   "cell_type": "code",
   "execution_count": 0,
   "metadata": {
    "application/vnd.databricks.v1+cell": {
     "cellMetadata": {
      "byteLimit": 2048000,
      "rowLimit": 10000
     },
     "inputWidgets": {},
     "nuid": "5f629d22-05c0-4723-b28b-d9207ec6aa61",
     "showTitle": false,
     "title": ""
    }
   },
   "outputs": [
    {
     "output_type": "display_data",
     "data": {
      "text/plain": [
       "Enter number of even numbers to be printed:  10"
      ]
     },
     "metadata": {},
     "output_type": "display_data"
    },
    {
     "output_type": "stream",
     "name": "stdout",
     "output_type": "stream",
     "text": [
      "0 2 4 6 8 10 12 14 16 18 "
     ]
    }
   ],
   "source": [
    "class EvenNum:\n",
    "  def __init__(self, count):\n",
    "    self.count = count\n",
    "\n",
    "  def first_10_even(self):\n",
    "    num = []\n",
    "    for i in range(self.count*2):\n",
    "      if i % 2 == 0:\n",
    "        num.append(i)\n",
    "    return num\n",
    "  \n",
    "if __name__ == \"__main__\":\n",
    "  count = int(input(\"Enter number of even numbers to be printed: \"))\n",
    "  obj = EvenNum(count)\n",
    "  m = obj.first_10_even()\n",
    "  for i in m:\n",
    "    print(i, end=\" \")\n"
   ]
  },
  {
   "cell_type": "markdown",
   "metadata": {
    "application/vnd.databricks.v1+cell": {
     "cellMetadata": {},
     "inputWidgets": {},
     "nuid": "6b5f704e-2185-4733-8964-7d6e67a42fb6",
     "showTitle": false,
     "title": ""
    }
   },
   "source": [
    "##### Implement a program that finds the largest number in a list."
   ]
  },
  {
   "cell_type": "code",
   "execution_count": 0,
   "metadata": {
    "application/vnd.databricks.v1+cell": {
     "cellMetadata": {
      "byteLimit": 2048000,
      "rowLimit": 10000
     },
     "inputWidgets": {},
     "nuid": "bc95d71b-11e2-40c4-aade-e4616d86124f",
     "showTitle": false,
     "title": ""
    }
   },
   "outputs": [
    {
     "output_type": "stream",
     "name": "stdout",
     "output_type": "stream",
     "text": [
      "23 is largest number in the list.\n"
     ]
    }
   ],
   "source": [
    "class LargestNum:\n",
    "  def __init__(self, num_list):\n",
    "    self.num_list = num_list\n",
    "\n",
    "  def find_largest(self):\n",
    "    largest = self.num_list[0]\n",
    "    for num in self.num_list:\n",
    "      if num > largest:\n",
    "        largest = num  # Update 'largest' if a larger number is found\n",
    "    return largest\n",
    "  \n",
    "if __name__ == \"__main__\":\n",
    "  num_list = [10, 5, 23, 8, 18, 15]\n",
    "  obj = LargestNum(num_list)\n",
    "  largest = obj.find_largest()\n",
    "  print(f\"{largest} is largest number in the list.\")"
   ]
  },
  {
   "cell_type": "markdown",
   "metadata": {
    "application/vnd.databricks.v1+cell": {
     "cellMetadata": {},
     "inputWidgets": {},
     "nuid": "e1abbafb-5b61-4775-854e-351b1a827bc7",
     "showTitle": false,
     "title": ""
    }
   },
   "source": [
    "#### Practise Questions"
   ]
  },
  {
   "cell_type": "markdown",
   "metadata": {
    "application/vnd.databricks.v1+cell": {
     "cellMetadata": {},
     "inputWidgets": {},
     "nuid": "26ac4fff-6b5d-437c-b945-511a57a20c68",
     "showTitle": false,
     "title": ""
    }
   },
   "source": [
    "##### Q 1: Create a program that takes a year as input and checks if it is a leap year or not."
   ]
  },
  {
   "cell_type": "code",
   "execution_count": 0,
   "metadata": {
    "application/vnd.databricks.v1+cell": {
     "cellMetadata": {
      "byteLimit": 2048000,
      "rowLimit": 10000
     },
     "inputWidgets": {},
     "nuid": "6c9826b3-97cf-43a0-9e53-ee26cf267be4",
     "showTitle": false,
     "title": ""
    }
   },
   "outputs": [
    {
     "output_type": "display_data",
     "data": {
      "text/plain": [
       "Enter year to check leap year or not:  2023"
      ]
     },
     "metadata": {},
     "output_type": "display_data"
    },
    {
     "output_type": "stream",
     "name": "stdout",
     "output_type": "stream",
     "text": [
      "2023 is not leap year!\n"
     ]
    }
   ],
   "source": [
    "class LeapYear:\n",
    "  def __init__(self, year):\n",
    "    self.year = year\n",
    "\n",
    "  def check_leap_yr(self):\n",
    "    if (self.year % 4 == 0 and self.year % 100 != 0) or (self.year % 100 == 0):\n",
    "      print(f\"{self.year} is leap year!\")\n",
    "    else:\n",
    "      print(f\"{self.year} is not leap year!\")\n",
    "\n",
    "if __name__ == \"__main__\":\n",
    "  year = int(input(\"Enter year to check leap year or not: \"))\n",
    "  obj = LeapYear(year)\n",
    "  leap_year = obj.check_leap_yr()"
   ]
  },
  {
   "cell_type": "markdown",
   "metadata": {
    "application/vnd.databricks.v1+cell": {
     "cellMetadata": {},
     "inputWidgets": {},
     "nuid": "56c6daab-ae7e-4886-a5b4-7706ba57f318",
     "showTitle": false,
     "title": ""
    }
   },
   "source": [
    "##### Q 2: Given a list of integers, find all the even numbers and store them in a new list."
   ]
  },
  {
   "cell_type": "code",
   "execution_count": 0,
   "metadata": {
    "application/vnd.databricks.v1+cell": {
     "cellMetadata": {
      "byteLimit": 2048000,
      "rowLimit": 10000
     },
     "inputWidgets": {},
     "nuid": "46eb5783-ec0e-4ef5-9ec5-fdc9c88fc8cf",
     "showTitle": false,
     "title": ""
    }
   },
   "outputs": [
    {
     "output_type": "stream",
     "name": "stdout",
     "output_type": "stream",
     "text": [
      "List having even numbers:  [20, 44, 2]\n"
     ]
    }
   ],
   "source": [
    "class IntegerEven:\n",
    "  def __init__(self, input_list):\n",
    "    self.input_list = input_list\n",
    "\n",
    "  def check_even(self):\n",
    "    even_list = []\n",
    "    for i in range(len(self.input_list)):\n",
    "      if self.input_list[i] % 2 == 0:\n",
    "        even_list.append(self.input_list[i])\n",
    "    return even_list\n",
    "  \n",
    "if __name__ == \"__main__\":\n",
    "  input_list = [20, 44, 53, 13, 91, 67, 2]\n",
    "  obj = IntegerEven(input_list)\n",
    "  new_list = obj.check_even()\n",
    "  print(\"List having even numbers: \", new_list)"
   ]
  },
  {
   "cell_type": "markdown",
   "metadata": {
    "application/vnd.databricks.v1+cell": {
     "cellMetadata": {},
     "inputWidgets": {},
     "nuid": "c82c8030-8877-4509-bdc9-8f10f401fd8c",
     "showTitle": false,
     "title": ""
    }
   },
   "source": [
    "##### Q 3: Write a Python program to check if a given number is a prime number."
   ]
  },
  {
   "cell_type": "code",
   "execution_count": 0,
   "metadata": {
    "application/vnd.databricks.v1+cell": {
     "cellMetadata": {
      "byteLimit": 2048000,
      "rowLimit": 10000
     },
     "inputWidgets": {},
     "nuid": "707dd4db-2333-42c9-abb5-cc786140191c",
     "showTitle": false,
     "title": ""
    }
   },
   "outputs": [
    {
     "output_type": "display_data",
     "data": {
      "text/plain": [
       "Enter number to check if it is prime:  30"
      ]
     },
     "metadata": {},
     "output_type": "display_data"
    },
    {
     "output_type": "stream",
     "name": "stdout",
     "output_type": "stream",
     "text": [
      "30 is not a prime number\n2 x 15 = 30\n"
     ]
    }
   ],
   "source": [
    "class PrimeNum:\n",
    "  def __init__(self, input_num):\n",
    "    self.input_num = input_num\n",
    "\n",
    "  def check_prime(self):\n",
    "    if input_num == 1:\n",
    "      print(input_num, \"is not a prime number\")\n",
    "    elif input_num > 1:\n",
    "      for i in range(2,input_num):\n",
    "        if (input_num % i) == 0:\n",
    "          print(input_num,\"is not a prime number\")\n",
    "          print(i,\"x\",input_num//i,\"=\",input_num)\n",
    "          break\n",
    "      else:\n",
    "        print(input_num,\"is a prime number\")\n",
    "    else:\n",
    "      print(input_num,\"is not a prime number\")\n",
    "\n",
    "if __name__ == \"__main__\":\n",
    "  input_num = int(input(\"Enter number to check if it is prime: \"))\n",
    "  obj = PrimeNum(input_num)\n",
    "  check_prime = obj.check_prime()"
   ]
  },
  {
   "cell_type": "markdown",
   "metadata": {
    "application/vnd.databricks.v1+cell": {
     "cellMetadata": {},
     "inputWidgets": {},
     "nuid": "8de97390-4a17-4735-92cd-5f9ed3c54e6f",
     "showTitle": false,
     "title": ""
    }
   },
   "source": [
    "##### Q 4: Create a program that generates the Fibonacci sequence up to a given number of terms."
   ]
  },
  {
   "cell_type": "code",
   "execution_count": 0,
   "metadata": {
    "application/vnd.databricks.v1+cell": {
     "cellMetadata": {
      "byteLimit": 2048000,
      "rowLimit": 10000
     },
     "inputWidgets": {},
     "nuid": "c136b447-2648-422f-a03f-af2a582897df",
     "showTitle": false,
     "title": ""
    }
   },
   "outputs": [
    {
     "output_type": "display_data",
     "data": {
      "text/plain": [
       "Enter terms:  12"
      ]
     },
     "metadata": {},
     "output_type": "display_data"
    },
    {
     "output_type": "stream",
     "name": "stdout",
     "output_type": "stream",
     "text": [
      "Fibonacci seq:  [0, 1, 1, 2, 3, 5, 8, 13, 21, 34, 55, 89]\n"
     ]
    }
   ],
   "source": [
    "class FibonacciSeq:\n",
    "  def __init__(self, terms):\n",
    "    self.terms = terms\n",
    "\n",
    "  def fibo_series(self):\n",
    "    n1 = 0\n",
    "    n2 = 1\n",
    "    seq = [0, 1]\n",
    "    for i in range(2, terms):\n",
    "      nth = n1 + n2\n",
    "      seq.append(nth)\n",
    "      n1 = n2\n",
    "      n2 = nth\n",
    "      i += 1\n",
    "    return seq\n",
    "  \n",
    "if __name__ == \"__main__\":\n",
    "  terms = int(input(\"Enter terms: \"))\n",
    "  obj = FibonacciSeq(terms)\n",
    "  fib_seq = obj.fibo_series()\n",
    "  print(\"Fibonacci seq: \", fib_seq)"
   ]
  },
  {
   "cell_type": "markdown",
   "metadata": {
    "application/vnd.databricks.v1+cell": {
     "cellMetadata": {},
     "inputWidgets": {},
     "nuid": "e7eb01ea-ff16-43fd-9f84-ff9c1a6ac704",
     "showTitle": false,
     "title": ""
    }
   },
   "source": [
    "##### Q 5: Given a list of names, print all names starting with the letter 'A'."
   ]
  },
  {
   "cell_type": "code",
   "execution_count": 0,
   "metadata": {
    "application/vnd.databricks.v1+cell": {
     "cellMetadata": {
      "byteLimit": 2048000,
      "rowLimit": 10000
     },
     "inputWidgets": {},
     "nuid": "ee1fb0e1-7b98-4ab7-86d5-dca20190d877",
     "showTitle": false,
     "title": ""
    }
   },
   "outputs": [
    {
     "output_type": "stream",
     "name": "stdout",
     "output_type": "stream",
     "text": [
      "['Avnish', 'Anish', 'Ajaz']\n"
     ]
    }
   ],
   "source": [
    "class NameStartWithA:\n",
    "  def __init__(self, names):\n",
    "    self.names = names\n",
    "\n",
    "  def name_a(self):\n",
    "    withA = []\n",
    "    for i in self.names:\n",
    "      if i.startswith('A'):\n",
    "        withA.append(i)\n",
    "    return withA\n",
    "  \n",
    "if __name__ == \"__main__\":\n",
    "  names = [\"Avnish\", \"Anish\", \"Basu\", \"Sourav\", \"Varun\", \"Ajaz\"]\n",
    "  obj = NameStartWithA(names)\n",
    "  name_list = obj.name_a()\n",
    "  print(name_list)"
   ]
  },
  {
   "cell_type": "markdown",
   "metadata": {
    "application/vnd.databricks.v1+cell": {
     "cellMetadata": {},
     "inputWidgets": {},
     "nuid": "6a627bdf-dd61-4f58-acd5-3efa757ae4c6",
     "showTitle": false,
     "title": ""
    }
   },
   "source": [
    "##### Q 6: Implement a program that prints the multiplication table of a given number."
   ]
  },
  {
   "cell_type": "code",
   "execution_count": 0,
   "metadata": {
    "application/vnd.databricks.v1+cell": {
     "cellMetadata": {
      "byteLimit": 2048000,
      "rowLimit": 10000
     },
     "inputWidgets": {},
     "nuid": "81405468-cadd-4aa6-bb2d-0ee7e3728166",
     "showTitle": false,
     "title": ""
    }
   },
   "outputs": [
    {
     "output_type": "display_data",
     "data": {
      "text/plain": [
       "Enter number:  22"
      ]
     },
     "metadata": {},
     "output_type": "display_data"
    },
    {
     "output_type": "stream",
     "name": "stdout",
     "output_type": "stream",
     "text": [
      "Table of 22: \n22 x 1 = 22\n22 x 2 = 44\n22 x 3 = 66\n22 x 4 = 88\n22 x 5 = 110\n22 x 6 = 132\n22 x 7 = 154\n22 x 8 = 176\n22 x 9 = 198\n22 x 10 = 220\n"
     ]
    }
   ],
   "source": [
    "class Table:\n",
    "  def __init__(self, num):\n",
    "    self.num = num\n",
    "\n",
    "  def multiplication(self):\n",
    "    for i in range(1, 11):\n",
    "      print(f\"{self.num} x {i} = {self.num*i}\")\n",
    "\n",
    "if __name__ == \"__main__\":\n",
    "  num = int(input(\"Enter number: \"))\n",
    "  print(f\"Table of {num}: \")\n",
    "  obj = Table(num)\n",
    "  table = obj.multiplication()"
   ]
  },
  {
   "cell_type": "markdown",
   "metadata": {
    "application/vnd.databricks.v1+cell": {
     "cellMetadata": {},
     "inputWidgets": {},
     "nuid": "5b06c5a1-4287-4eb8-8a62-7d60b6af6622",
     "showTitle": false,
     "title": ""
    }
   },
   "source": [
    "##### Q 7: Write a program that calculates the factorial of a given number."
   ]
  },
  {
   "cell_type": "code",
   "execution_count": 0,
   "metadata": {
    "application/vnd.databricks.v1+cell": {
     "cellMetadata": {
      "byteLimit": 2048000,
      "rowLimit": 10000
     },
     "inputWidgets": {},
     "nuid": "e0430edd-9ed2-4496-8dc6-20b43b187f9a",
     "showTitle": false,
     "title": ""
    }
   },
   "outputs": [
    {
     "output_type": "display_data",
     "data": {
      "text/plain": [
       "Enter a number:  5"
      ]
     },
     "metadata": {},
     "output_type": "display_data"
    },
    {
     "output_type": "stream",
     "name": "stdout",
     "output_type": "stream",
     "text": [
      "Factorial of 5 is 120.\n"
     ]
    }
   ],
   "source": [
    "class Factorial:\n",
    "  def __init__(self, num):\n",
    "    self.num = num\n",
    "  \n",
    "  def factorialOfNum(self):\n",
    "    total = 1\n",
    "    for i in range(1, self.num+1):\n",
    "      total = total * i\n",
    "    return total\n",
    "  \n",
    "if __name__ == \"__main__\":\n",
    "  num = int(input(\"Enter a number: \"))\n",
    "  obj = Factorial(num)\n",
    "  fact_sum = obj.factorialOfNum()\n",
    "  print(f\"Factorial of {num} is {fact_sum}.\")"
   ]
  },
  {
   "cell_type": "markdown",
   "metadata": {
    "application/vnd.databricks.v1+cell": {
     "cellMetadata": {},
     "inputWidgets": {},
     "nuid": "1c51055a-1cff-4b9f-907a-8ad5f9c21291",
     "showTitle": false,
     "title": ""
    }
   },
   "source": [
    "##### Q 8: Create a loop that prints all prime numbers between 1 and 50."
   ]
  },
  {
   "cell_type": "code",
   "execution_count": 0,
   "metadata": {
    "application/vnd.databricks.v1+cell": {
     "cellMetadata": {
      "byteLimit": 2048000,
      "rowLimit": 10000
     },
     "inputWidgets": {},
     "nuid": "44346552-b6ed-4792-94af-0058fdf746d9",
     "showTitle": false,
     "title": ""
    }
   },
   "outputs": [
    {
     "output_type": "stream",
     "name": "stdout",
     "output_type": "stream",
     "text": [
      "Prime numbers between 1 and 50:\n2, 3, 5, 7, 11, 13, 17, 19, 23, 29, 31, 37, 41, 43, 47, "
     ]
    }
   ],
   "source": [
    "class PrimeNumbers:\n",
    "    @staticmethod\n",
    "    def is_prime(num):\n",
    "        if num < 2:\n",
    "            return False\n",
    "        for i in range(2, int(num ** 0.5) + 1):\n",
    "            if num % i == 0:\n",
    "                return False\n",
    "        return True\n",
    "\n",
    "    @staticmethod\n",
    "    def print_prime_numbers():\n",
    "        print(\"Prime numbers between 1 and 50:\")\n",
    "        for number in range(1, 51):\n",
    "            if PrimeNumbers.is_prime(number):\n",
    "                print(number, end=\", \")\n",
    "\n",
    "# Create an instance of the PrimeNumbers class\n",
    "prime_instance = PrimeNumbers()\n",
    "\n",
    "# Call the method to print prime numbers between 1 and 50\n",
    "prime_instance.print_prime_numbers()\n"
   ]
  }
 ],
 "metadata": {
  "application/vnd.databricks.v1+notebook": {
   "dashboards": [],
   "language": "python",
   "notebookMetadata": {
    "pythonIndentUnit": 2
   },
   "notebookName": "Day3",
   "widgets": {}
  }
 },
 "nbformat": 4,
 "nbformat_minor": 0
}
