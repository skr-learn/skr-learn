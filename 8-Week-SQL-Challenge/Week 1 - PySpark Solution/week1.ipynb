{
 "cells": [
  {
   "cell_type": "code",
   "execution_count": 0,
   "metadata": {
    "application/vnd.databricks.v1+cell": {
     "cellMetadata": {},
     "inputWidgets": {},
     "nuid": "3d753217-22f2-4d05-9232-344c5fcecf07",
     "showTitle": false,
     "title": ""
    }
   },
   "outputs": [],
   "source": [
    "from pyspark.sql import *\n",
    "from pyspark.sql.functions import *"
   ]
  },
  {
   "cell_type": "markdown",
   "metadata": {
    "application/vnd.databricks.v1+cell": {
     "cellMetadata": {},
     "inputWidgets": {},
     "nuid": "d39d1e83-5033-4d06-951f-aec10884b935",
     "showTitle": false,
     "title": ""
    }
   },
   "source": [
    "##### Reading all files"
   ]
  },
  {
   "cell_type": "code",
   "execution_count": 0,
   "metadata": {
    "application/vnd.databricks.v1+cell": {
     "cellMetadata": {},
     "inputWidgets": {},
     "nuid": "0af3669d-9b2d-42ad-b23f-df20f646e5d1",
     "showTitle": false,
     "title": ""
    }
   },
   "outputs": [],
   "source": [
    "sales_df = spark.read.option(\"header\", True).csv(\"/FileStore/tables/sales.csv\")\n",
    "menu_df = spark.read.option(\"header\", True).csv(\"/FileStore/tables/menu.csv\")\n",
    "members_df = spark.read.option(\"header\", True).csv(\"/FileStore/tables/members.csv\")"
   ]
  },
  {
   "cell_type": "code",
   "execution_count": 0,
   "metadata": {
    "application/vnd.databricks.v1+cell": {
     "cellMetadata": {},
     "inputWidgets": {},
     "nuid": "cc5d60e9-ed4a-4938-b3d6-c619d2bfbdbb",
     "showTitle": false,
     "title": ""
    }
   },
   "outputs": [
    {
     "output_type": "display_data",
     "data": {
      "text/html": [
       "<style scoped>\n",
       "  .table-result-container {\n",
       "    max-height: 300px;\n",
       "    overflow: auto;\n",
       "  }\n",
       "  table, th, td {\n",
       "    border: 1px solid black;\n",
       "    border-collapse: collapse;\n",
       "  }\n",
       "  th, td {\n",
       "    padding: 5px;\n",
       "  }\n",
       "  th {\n",
       "    text-align: left;\n",
       "  }\n",
       "</style><div class='table-result-container'><table class='table-result'><thead style='background-color: white'><tr><th>customer_id</th><th>order_date</th><th>product_id</th></tr></thead><tbody><tr><td>A</td><td>2021-01-01</td><td>1</td></tr><tr><td>A</td><td>2021-01-01</td><td>2</td></tr><tr><td>A</td><td>2021-01-07</td><td>2</td></tr><tr><td>A</td><td>2021-01-10</td><td>3</td></tr><tr><td>A</td><td>2021-01-11</td><td>3</td></tr><tr><td>A</td><td>2021-01-11</td><td>3</td></tr><tr><td>B</td><td>2021-01-01</td><td>2</td></tr><tr><td>B</td><td>2021-01-02</td><td>2</td></tr><tr><td>B</td><td>2021-01-04</td><td>1</td></tr><tr><td>B</td><td>2021-01-11</td><td>1</td></tr><tr><td>B</td><td>2021-01-16</td><td>3</td></tr><tr><td>B</td><td>2021-02-01</td><td>3</td></tr><tr><td>C</td><td>2021-01-01</td><td>3</td></tr><tr><td>C</td><td>2021-01-01</td><td>3</td></tr><tr><td>C</td><td>2021-01-07</td><td>3</td></tr></tbody></table></div>"
      ]
     },
     "metadata": {
      "application/vnd.databricks.v1+output": {
       "addedWidgets": {},
       "aggData": [],
       "aggError": "",
       "aggOverflow": false,
       "aggSchema": [],
       "aggSeriesLimitReached": false,
       "aggType": "",
       "arguments": {},
       "columnCustomDisplayInfos": {},
       "data": [
        [
         "A",
         "2021-01-01",
         "1"
        ],
        [
         "A",
         "2021-01-01",
         "2"
        ],
        [
         "A",
         "2021-01-07",
         "2"
        ],
        [
         "A",
         "2021-01-10",
         "3"
        ],
        [
         "A",
         "2021-01-11",
         "3"
        ],
        [
         "A",
         "2021-01-11",
         "3"
        ],
        [
         "B",
         "2021-01-01",
         "2"
        ],
        [
         "B",
         "2021-01-02",
         "2"
        ],
        [
         "B",
         "2021-01-04",
         "1"
        ],
        [
         "B",
         "2021-01-11",
         "1"
        ],
        [
         "B",
         "2021-01-16",
         "3"
        ],
        [
         "B",
         "2021-02-01",
         "3"
        ],
        [
         "C",
         "2021-01-01",
         "3"
        ],
        [
         "C",
         "2021-01-01",
         "3"
        ],
        [
         "C",
         "2021-01-07",
         "3"
        ]
       ],
       "datasetInfos": [],
       "dbfsResultPath": null,
       "isJsonSchema": true,
       "metadata": {},
       "overflow": false,
       "plotOptions": {
        "customPlotOptions": {},
        "displayType": "table",
        "pivotAggregation": null,
        "pivotColumns": null,
        "xColumns": null,
        "yColumns": null
       },
       "removedWidgets": [],
       "schema": [
        {
         "metadata": "{}",
         "name": "customer_id",
         "type": "\"string\""
        },
        {
         "metadata": "{}",
         "name": "order_date",
         "type": "\"string\""
        },
        {
         "metadata": "{}",
         "name": "product_id",
         "type": "\"string\""
        }
       ],
       "type": "table"
      }
     },
     "output_type": "display_data"
    }
   ],
   "source": [
    "display(sales_df)"
   ]
  },
  {
   "cell_type": "markdown",
   "metadata": {
    "application/vnd.databricks.v1+cell": {
     "cellMetadata": {},
     "inputWidgets": {},
     "nuid": "991245db-cc08-4e8e-a472-fe182b520a06",
     "showTitle": false,
     "title": ""
    }
   },
   "source": [
    "##### Question 1: What is the total amount each customer spent at the restaurant?"
   ]
  },
  {
   "cell_type": "code",
   "execution_count": 0,
   "metadata": {
    "application/vnd.databricks.v1+cell": {
     "cellMetadata": {},
     "inputWidgets": {},
     "nuid": "fd52ee22-a50e-499d-977a-db8fbc70be06",
     "showTitle": false,
     "title": ""
    }
   },
   "outputs": [
    {
     "output_type": "display_data",
     "data": {
      "text/html": [
       "<style scoped>\n",
       "  .table-result-container {\n",
       "    max-height: 300px;\n",
       "    overflow: auto;\n",
       "  }\n",
       "  table, th, td {\n",
       "    border: 1px solid black;\n",
       "    border-collapse: collapse;\n",
       "  }\n",
       "  th, td {\n",
       "    padding: 5px;\n",
       "  }\n",
       "  th {\n",
       "    text-align: left;\n",
       "  }\n",
       "</style><div class='table-result-container'><table class='table-result'><thead style='background-color: white'><tr><th>customer_id</th><th>totalspent</th></tr></thead><tbody><tr><td>A</td><td>76.0</td></tr><tr><td>B</td><td>74.0</td></tr><tr><td>C</td><td>36.0</td></tr></tbody></table></div>"
      ]
     },
     "metadata": {
      "application/vnd.databricks.v1+output": {
       "addedWidgets": {},
       "aggData": [],
       "aggError": "",
       "aggOverflow": false,
       "aggSchema": [],
       "aggSeriesLimitReached": false,
       "aggType": "",
       "arguments": {},
       "columnCustomDisplayInfos": {},
       "data": [
        [
         "A",
         76.0
        ],
        [
         "B",
         74.0
        ],
        [
         "C",
         36.0
        ]
       ],
       "datasetInfos": [],
       "dbfsResultPath": null,
       "isJsonSchema": true,
       "metadata": {},
       "overflow": false,
       "plotOptions": {
        "customPlotOptions": {},
        "displayType": "table",
        "pivotAggregation": null,
        "pivotColumns": null,
        "xColumns": null,
        "yColumns": null
       },
       "removedWidgets": [],
       "schema": [
        {
         "metadata": "{}",
         "name": "customer_id",
         "type": "\"string\""
        },
        {
         "metadata": "{}",
         "name": "totalspent",
         "type": "\"double\""
        }
       ],
       "type": "table"
      }
     },
     "output_type": "display_data"
    }
   ],
   "source": [
    "total_spent_df = (sales_df\n",
    "                  .join(menu_df, \"product_id\")\n",
    "                  .groupBy(\"customer_id\").agg({'price':'sum'})\n",
    "                  .withColumnRenamed(\"sum(price)\", \"totalspent\")\n",
    "                  .orderBy(\"customer_id\")\n",
    "                 )\n",
    "\n",
    "display(total_spent_df)"
   ]
  },
  {
   "cell_type": "markdown",
   "metadata": {
    "application/vnd.databricks.v1+cell": {
     "cellMetadata": {},
     "inputWidgets": {},
     "nuid": "fa555a81-ce7f-4496-962e-b34991f0ac9b",
     "showTitle": false,
     "title": ""
    }
   },
   "source": [
    "##### Question 2: How many days has each customer visited the restaurant?"
   ]
  },
  {
   "cell_type": "code",
   "execution_count": 0,
   "metadata": {
    "application/vnd.databricks.v1+cell": {
     "cellMetadata": {},
     "inputWidgets": {},
     "nuid": "cedb9646-4aae-4863-bc45-41c8928520d5",
     "showTitle": false,
     "title": ""
    }
   },
   "outputs": [
    {
     "output_type": "display_data",
     "data": {
      "text/html": [
       "<style scoped>\n",
       "  .table-result-container {\n",
       "    max-height: 300px;\n",
       "    overflow: auto;\n",
       "  }\n",
       "  table, th, td {\n",
       "    border: 1px solid black;\n",
       "    border-collapse: collapse;\n",
       "  }\n",
       "  th, td {\n",
       "    padding: 5px;\n",
       "  }\n",
       "  th {\n",
       "    text-align: left;\n",
       "  }\n",
       "</style><div class='table-result-container'><table class='table-result'><thead style='background-color: white'><tr><th>customer_id</th><th>visit_count</th></tr></thead><tbody><tr><td>B</td><td>6</td></tr><tr><td>C</td><td>2</td></tr><tr><td>A</td><td>4</td></tr></tbody></table></div>"
      ]
     },
     "metadata": {
      "application/vnd.databricks.v1+output": {
       "addedWidgets": {},
       "aggData": [],
       "aggError": "",
       "aggOverflow": false,
       "aggSchema": [],
       "aggSeriesLimitReached": false,
       "aggType": "",
       "arguments": {},
       "columnCustomDisplayInfos": {},
       "data": [
        [
         "B",
         6
        ],
        [
         "C",
         2
        ],
        [
         "A",
         4
        ]
       ],
       "datasetInfos": [],
       "dbfsResultPath": null,
       "isJsonSchema": true,
       "metadata": {},
       "overflow": false,
       "plotOptions": {
        "customPlotOptions": {},
        "displayType": "table",
        "pivotAggregation": null,
        "pivotColumns": null,
        "xColumns": null,
        "yColumns": null
       },
       "removedWidgets": [],
       "schema": [
        {
         "metadata": "{}",
         "name": "customer_id",
         "type": "\"string\""
        },
        {
         "metadata": "{}",
         "name": "visit_count",
         "type": "\"long\""
        }
       ],
       "type": "table"
      }
     },
     "output_type": "display_data"
    }
   ],
   "source": [
    "visitcount_df = (sales_df\n",
    "                .groupBy(\"customer_id\")\n",
    "                .agg(countDistinct(\"order_date\").alias(\"visit_count\"))\n",
    "                )\n",
    "\n",
    "display(visitcount_df)"
   ]
  },
  {
   "cell_type": "markdown",
   "metadata": {
    "application/vnd.databricks.v1+cell": {
     "cellMetadata": {},
     "inputWidgets": {},
     "nuid": "814b2e3b-f08a-4c7d-88f4-1e526b5dca01",
     "showTitle": false,
     "title": ""
    }
   },
   "source": [
    "##### Question 3: What was the first item from the menu purchased by each customer?"
   ]
  },
  {
   "cell_type": "code",
   "execution_count": 0,
   "metadata": {
    "application/vnd.databricks.v1+cell": {
     "cellMetadata": {},
     "inputWidgets": {},
     "nuid": "e4220720-25ce-46d1-829e-aeaf84a09b3e",
     "showTitle": false,
     "title": ""
    }
   },
   "outputs": [
    {
     "output_type": "display_data",
     "data": {
      "text/html": [
       "<style scoped>\n",
       "  .table-result-container {\n",
       "    max-height: 300px;\n",
       "    overflow: auto;\n",
       "  }\n",
       "  table, th, td {\n",
       "    border: 1px solid black;\n",
       "    border-collapse: collapse;\n",
       "  }\n",
       "  th, td {\n",
       "    padding: 5px;\n",
       "  }\n",
       "  th {\n",
       "    text-align: left;\n",
       "  }\n",
       "</style><div class='table-result-container'><table class='table-result'><thead style='background-color: white'><tr><th>customer_id</th><th>product_name</th><th>order_date</th></tr></thead><tbody><tr><td>A</td><td>sushi</td><td>2021-01-01</td></tr><tr><td>A</td><td>curry</td><td>2021-01-01</td></tr><tr><td>B</td><td>curry</td><td>2021-01-01</td></tr><tr><td>C</td><td>ramen</td><td>2021-01-01</td></tr></tbody></table></div>"
      ]
     },
     "metadata": {
      "application/vnd.databricks.v1+output": {
       "addedWidgets": {},
       "aggData": [],
       "aggError": "",
       "aggOverflow": false,
       "aggSchema": [],
       "aggSeriesLimitReached": false,
       "aggType": "",
       "arguments": {},
       "columnCustomDisplayInfos": {},
       "data": [
        [
         "A",
         "sushi",
         "2021-01-01"
        ],
        [
         "A",
         "curry",
         "2021-01-01"
        ],
        [
         "B",
         "curry",
         "2021-01-01"
        ],
        [
         "C",
         "ramen",
         "2021-01-01"
        ]
       ],
       "datasetInfos": [],
       "dbfsResultPath": null,
       "isJsonSchema": true,
       "metadata": {},
       "overflow": false,
       "plotOptions": {
        "customPlotOptions": {},
        "displayType": "table",
        "pivotAggregation": null,
        "pivotColumns": null,
        "xColumns": null,
        "yColumns": null
       },
       "removedWidgets": [],
       "schema": [
        {
         "metadata": "{}",
         "name": "customer_id",
         "type": "\"string\""
        },
        {
         "metadata": "{}",
         "name": "product_name",
         "type": "\"string\""
        },
        {
         "metadata": "{}",
         "name": "order_date",
         "type": "\"string\""
        }
       ],
       "type": "table"
      }
     },
     "output_type": "display_data"
    }
   ],
   "source": [
    "windowSpec = Window.partitionBy(\"customer_id\").orderBy(\"order_date\")\n",
    "\n",
    "first_item_df = (sales_df\n",
    "               .withColumn(\"rank\", dense_rank().over(windowSpec))\n",
    "               .filter(\"rank == 1\")\n",
    "               .join(menu_df, \"product_id\")\n",
    "               .select(\"customer_id\", \"product_name\", \"order_date\")\n",
    "               .distinct())\n",
    "\n",
    "display(first_item_df)"
   ]
  },
  {
   "cell_type": "markdown",
   "metadata": {
    "application/vnd.databricks.v1+cell": {
     "cellMetadata": {},
     "inputWidgets": {},
     "nuid": "9b48e36b-93fd-4e56-90b8-44224ee4fd3b",
     "showTitle": false,
     "title": ""
    }
   },
   "source": [
    "##### Question 4: What is the most purchased item on the menu and how many times was it purchased by all customers?"
   ]
  },
  {
   "cell_type": "code",
   "execution_count": 0,
   "metadata": {
    "application/vnd.databricks.v1+cell": {
     "cellMetadata": {},
     "inputWidgets": {},
     "nuid": "071c0c6d-cb59-4989-aeee-4a284873ff69",
     "showTitle": false,
     "title": ""
    }
   },
   "outputs": [
    {
     "output_type": "display_data",
     "data": {
      "text/html": [
       "<style scoped>\n",
       "  .table-result-container {\n",
       "    max-height: 300px;\n",
       "    overflow: auto;\n",
       "  }\n",
       "  table, th, td {\n",
       "    border: 1px solid black;\n",
       "    border-collapse: collapse;\n",
       "  }\n",
       "  th, td {\n",
       "    padding: 5px;\n",
       "  }\n",
       "  th {\n",
       "    text-align: left;\n",
       "  }\n",
       "</style><div class='table-result-container'><table class='table-result'><thead style='background-color: white'><tr><th>product_name</th><th>orders</th></tr></thead><tbody><tr><td>ramen</td><td>8</td></tr></tbody></table></div>"
      ]
     },
     "metadata": {
      "application/vnd.databricks.v1+output": {
       "addedWidgets": {},
       "aggData": [],
       "aggError": "",
       "aggOverflow": false,
       "aggSchema": [],
       "aggSeriesLimitReached": false,
       "aggType": "",
       "arguments": {},
       "columnCustomDisplayInfos": {},
       "data": [
        [
         "ramen",
         8
        ]
       ],
       "datasetInfos": [],
       "dbfsResultPath": null,
       "isJsonSchema": true,
       "metadata": {},
       "overflow": false,
       "plotOptions": {
        "customPlotOptions": {},
        "displayType": "table",
        "pivotAggregation": null,
        "pivotColumns": null,
        "xColumns": null,
        "yColumns": null
       },
       "removedWidgets": [],
       "schema": [
        {
         "metadata": "{}",
         "name": "product_name",
         "type": "\"string\""
        },
        {
         "metadata": "{}",
         "name": "orders",
         "type": "\"long\""
        }
       ],
       "type": "table"
      }
     },
     "output_type": "display_data"
    }
   ],
   "source": [
    "max_ordered_df = (sales_df\n",
    "                 .join(menu_df, \"product_id\")\n",
    "                 .groupBy(\"product_id\", \"product_name\")\n",
    "                 .agg(count(\"product_id\").alias(\"orders\"))\n",
    "                 .orderBy(\"orders\", ascending = 0)\n",
    "                 .select(\"product_name\", \"orders\")\n",
    "                 .limit(1))\n",
    "\n",
    "display(max_ordered_df)"
   ]
  },
  {
   "cell_type": "markdown",
   "metadata": {
    "application/vnd.databricks.v1+cell": {
     "cellMetadata": {},
     "inputWidgets": {},
     "nuid": "74d9da39-9b87-4568-82ef-b689ead8b279",
     "showTitle": false,
     "title": ""
    }
   },
   "source": [
    "##### Question 5: Which item was the most popular for each customer?"
   ]
  },
  {
   "cell_type": "code",
   "execution_count": 0,
   "metadata": {
    "application/vnd.databricks.v1+cell": {
     "cellMetadata": {},
     "inputWidgets": {},
     "nuid": "61fb0897-b4ca-492e-bf2d-8cead8583185",
     "showTitle": false,
     "title": ""
    }
   },
   "outputs": [
    {
     "output_type": "display_data",
     "data": {
      "text/html": [
       "<style scoped>\n",
       "  .table-result-container {\n",
       "    max-height: 300px;\n",
       "    overflow: auto;\n",
       "  }\n",
       "  table, th, td {\n",
       "    border: 1px solid black;\n",
       "    border-collapse: collapse;\n",
       "  }\n",
       "  th, td {\n",
       "    padding: 5px;\n",
       "  }\n",
       "  th {\n",
       "    text-align: left;\n",
       "  }\n",
       "</style><div class='table-result-container'><table class='table-result'><thead style='background-color: white'><tr><th>customer_id</th><th>order_date</th><th>product_id</th></tr></thead><tbody><tr><td>A</td><td>2021-01-01</td><td>1</td></tr><tr><td>A</td><td>2021-01-01</td><td>2</td></tr><tr><td>A</td><td>2021-01-07</td><td>2</td></tr><tr><td>A</td><td>2021-01-10</td><td>3</td></tr><tr><td>A</td><td>2021-01-11</td><td>3</td></tr><tr><td>A</td><td>2021-01-11</td><td>3</td></tr><tr><td>B</td><td>2021-01-01</td><td>2</td></tr><tr><td>B</td><td>2021-01-02</td><td>2</td></tr><tr><td>B</td><td>2021-01-04</td><td>1</td></tr><tr><td>B</td><td>2021-01-11</td><td>1</td></tr><tr><td>B</td><td>2021-01-16</td><td>3</td></tr><tr><td>B</td><td>2021-02-01</td><td>3</td></tr><tr><td>C</td><td>2021-01-01</td><td>3</td></tr><tr><td>C</td><td>2021-01-01</td><td>3</td></tr><tr><td>C</td><td>2021-01-07</td><td>3</td></tr></tbody></table></div>"
      ]
     },
     "metadata": {
      "application/vnd.databricks.v1+output": {
       "addedWidgets": {},
       "aggData": [],
       "aggError": "",
       "aggOverflow": false,
       "aggSchema": [],
       "aggSeriesLimitReached": false,
       "aggType": "",
       "arguments": {},
       "columnCustomDisplayInfos": {},
       "data": [
        [
         "A",
         "2021-01-01",
         "1"
        ],
        [
         "A",
         "2021-01-01",
         "2"
        ],
        [
         "A",
         "2021-01-07",
         "2"
        ],
        [
         "A",
         "2021-01-10",
         "3"
        ],
        [
         "A",
         "2021-01-11",
         "3"
        ],
        [
         "A",
         "2021-01-11",
         "3"
        ],
        [
         "B",
         "2021-01-01",
         "2"
        ],
        [
         "B",
         "2021-01-02",
         "2"
        ],
        [
         "B",
         "2021-01-04",
         "1"
        ],
        [
         "B",
         "2021-01-11",
         "1"
        ],
        [
         "B",
         "2021-01-16",
         "3"
        ],
        [
         "B",
         "2021-02-01",
         "3"
        ],
        [
         "C",
         "2021-01-01",
         "3"
        ],
        [
         "C",
         "2021-01-01",
         "3"
        ],
        [
         "C",
         "2021-01-07",
         "3"
        ]
       ],
       "datasetInfos": [],
       "dbfsResultPath": null,
       "isJsonSchema": true,
       "metadata": {},
       "overflow": false,
       "plotOptions": {
        "customPlotOptions": {},
        "displayType": "table",
        "pivotAggregation": null,
        "pivotColumns": null,
        "xColumns": null,
        "yColumns": null
       },
       "removedWidgets": [],
       "schema": [
        {
         "metadata": "{}",
         "name": "customer_id",
         "type": "\"string\""
        },
        {
         "metadata": "{}",
         "name": "order_date",
         "type": "\"string\""
        },
        {
         "metadata": "{}",
         "name": "product_id",
         "type": "\"string\""
        }
       ],
       "type": "table"
      }
     },
     "output_type": "display_data"
    }
   ],
   "source": [
    "display(sales_df)"
   ]
  },
  {
   "cell_type": "code",
   "execution_count": 0,
   "metadata": {
    "application/vnd.databricks.v1+cell": {
     "cellMetadata": {},
     "inputWidgets": {},
     "nuid": "773d0218-de8d-4a4a-8826-a7be83feb166",
     "showTitle": false,
     "title": ""
    }
   },
   "outputs": [],
   "source": [
    "import pyspark.sql.functions as f\n",
    "from pyspark.sql.functions import *\n",
    "from pyspark.sql.window import Window"
   ]
  },
  {
   "cell_type": "code",
   "execution_count": 0,
   "metadata": {
    "application/vnd.databricks.v1+cell": {
     "cellMetadata": {},
     "inputWidgets": {},
     "nuid": "03c0fa8f-5991-4e3d-ae6d-db19e698406b",
     "showTitle": false,
     "title": ""
    }
   },
   "outputs": [
    {
     "output_type": "display_data",
     "data": {
      "text/html": [
       "<style scoped>\n",
       "  .table-result-container {\n",
       "    max-height: 300px;\n",
       "    overflow: auto;\n",
       "  }\n",
       "  table, th, td {\n",
       "    border: 1px solid black;\n",
       "    border-collapse: collapse;\n",
       "  }\n",
       "  th, td {\n",
       "    padding: 5px;\n",
       "  }\n",
       "  th {\n",
       "    text-align: left;\n",
       "  }\n",
       "</style><div class='table-result-container'><table class='table-result'><thead style='background-color: white'><tr><th>product_id</th><th>customer_id</th><th>order_date</th><th>product_name</th><th>price</th></tr></thead><tbody><tr><td>1</td><td>A</td><td>2021-01-01</td><td>sushi</td><td>10</td></tr><tr><td>2</td><td>A</td><td>2021-01-01</td><td>curry</td><td>15</td></tr><tr><td>2</td><td>A</td><td>2021-01-07</td><td>curry</td><td>15</td></tr><tr><td>3</td><td>A</td><td>2021-01-10</td><td>ramen</td><td>12</td></tr><tr><td>3</td><td>A</td><td>2021-01-11</td><td>ramen</td><td>12</td></tr><tr><td>3</td><td>A</td><td>2021-01-11</td><td>ramen</td><td>12</td></tr><tr><td>2</td><td>B</td><td>2021-01-01</td><td>curry</td><td>15</td></tr><tr><td>2</td><td>B</td><td>2021-01-02</td><td>curry</td><td>15</td></tr><tr><td>1</td><td>B</td><td>2021-01-04</td><td>sushi</td><td>10</td></tr><tr><td>1</td><td>B</td><td>2021-01-11</td><td>sushi</td><td>10</td></tr><tr><td>3</td><td>B</td><td>2021-01-16</td><td>ramen</td><td>12</td></tr><tr><td>3</td><td>B</td><td>2021-02-01</td><td>ramen</td><td>12</td></tr><tr><td>3</td><td>C</td><td>2021-01-01</td><td>ramen</td><td>12</td></tr><tr><td>3</td><td>C</td><td>2021-01-01</td><td>ramen</td><td>12</td></tr><tr><td>3</td><td>C</td><td>2021-01-07</td><td>ramen</td><td>12</td></tr></tbody></table></div>"
      ]
     },
     "metadata": {
      "application/vnd.databricks.v1+output": {
       "addedWidgets": {},
       "aggData": [],
       "aggError": "",
       "aggOverflow": false,
       "aggSchema": [],
       "aggSeriesLimitReached": false,
       "aggType": "",
       "arguments": {},
       "columnCustomDisplayInfos": {},
       "data": [
        [
         "1",
         "A",
         "2021-01-01",
         "sushi",
         "10"
        ],
        [
         "2",
         "A",
         "2021-01-01",
         "curry",
         "15"
        ],
        [
         "2",
         "A",
         "2021-01-07",
         "curry",
         "15"
        ],
        [
         "3",
         "A",
         "2021-01-10",
         "ramen",
         "12"
        ],
        [
         "3",
         "A",
         "2021-01-11",
         "ramen",
         "12"
        ],
        [
         "3",
         "A",
         "2021-01-11",
         "ramen",
         "12"
        ],
        [
         "2",
         "B",
         "2021-01-01",
         "curry",
         "15"
        ],
        [
         "2",
         "B",
         "2021-01-02",
         "curry",
         "15"
        ],
        [
         "1",
         "B",
         "2021-01-04",
         "sushi",
         "10"
        ],
        [
         "1",
         "B",
         "2021-01-11",
         "sushi",
         "10"
        ],
        [
         "3",
         "B",
         "2021-01-16",
         "ramen",
         "12"
        ],
        [
         "3",
         "B",
         "2021-02-01",
         "ramen",
         "12"
        ],
        [
         "3",
         "C",
         "2021-01-01",
         "ramen",
         "12"
        ],
        [
         "3",
         "C",
         "2021-01-01",
         "ramen",
         "12"
        ],
        [
         "3",
         "C",
         "2021-01-07",
         "ramen",
         "12"
        ]
       ],
       "datasetInfos": [],
       "dbfsResultPath": null,
       "isJsonSchema": true,
       "metadata": {},
       "overflow": false,
       "plotOptions": {
        "customPlotOptions": {},
        "displayType": "table",
        "pivotAggregation": null,
        "pivotColumns": null,
        "xColumns": null,
        "yColumns": null
       },
       "removedWidgets": [],
       "schema": [
        {
         "metadata": "{}",
         "name": "product_id",
         "type": "\"string\""
        },
        {
         "metadata": "{}",
         "name": "customer_id",
         "type": "\"string\""
        },
        {
         "metadata": "{}",
         "name": "order_date",
         "type": "\"string\""
        },
        {
         "metadata": "{}",
         "name": "product_name",
         "type": "\"string\""
        },
        {
         "metadata": "{}",
         "name": "price",
         "type": "\"string\""
        }
       ],
       "type": "table"
      }
     },
     "output_type": "display_data"
    }
   ],
   "source": [
    "popular_data = sales_df.join(menu_df, \"product_id\")\n",
    "display(popular_data)"
   ]
  },
  {
   "cell_type": "code",
   "execution_count": 0,
   "metadata": {
    "application/vnd.databricks.v1+cell": {
     "cellMetadata": {},
     "inputWidgets": {},
     "nuid": "a8bb4eab-4e17-43fc-8a65-58605490e6ef",
     "showTitle": false,
     "title": ""
    }
   },
   "outputs": [
    {
     "output_type": "display_data",
     "data": {
      "text/html": [
       "<style scoped>\n",
       "  .table-result-container {\n",
       "    max-height: 300px;\n",
       "    overflow: auto;\n",
       "  }\n",
       "  table, th, td {\n",
       "    border: 1px solid black;\n",
       "    border-collapse: collapse;\n",
       "  }\n",
       "  th, td {\n",
       "    padding: 5px;\n",
       "  }\n",
       "  th {\n",
       "    text-align: left;\n",
       "  }\n",
       "</style><div class='table-result-container'><table class='table-result'><thead style='background-color: white'><tr><th>customer_id</th><th>product_name</th><th>no_of_times_ordered</th></tr></thead><tbody><tr><td>A</td><td>ramen</td><td>3</td></tr><tr><td>A</td><td>sushi</td><td>1</td></tr><tr><td>A</td><td>curry</td><td>2</td></tr><tr><td>B</td><td>ramen</td><td>2</td></tr><tr><td>B</td><td>sushi</td><td>2</td></tr><tr><td>B</td><td>curry</td><td>2</td></tr><tr><td>C</td><td>ramen</td><td>3</td></tr></tbody></table></div>"
      ]
     },
     "metadata": {
      "application/vnd.databricks.v1+output": {
       "addedWidgets": {},
       "aggData": [],
       "aggError": "",
       "aggOverflow": false,
       "aggSchema": [],
       "aggSeriesLimitReached": false,
       "aggType": "",
       "arguments": {},
       "columnCustomDisplayInfos": {},
       "data": [
        [
         "A",
         "ramen",
         3
        ],
        [
         "A",
         "sushi",
         1
        ],
        [
         "A",
         "curry",
         2
        ],
        [
         "B",
         "ramen",
         2
        ],
        [
         "B",
         "sushi",
         2
        ],
        [
         "B",
         "curry",
         2
        ],
        [
         "C",
         "ramen",
         3
        ]
       ],
       "datasetInfos": [],
       "dbfsResultPath": null,
       "isJsonSchema": true,
       "metadata": {},
       "overflow": false,
       "plotOptions": {
        "customPlotOptions": {},
        "displayType": "table",
        "pivotAggregation": null,
        "pivotColumns": null,
        "xColumns": null,
        "yColumns": null
       },
       "removedWidgets": [],
       "schema": [
        {
         "metadata": "{}",
         "name": "customer_id",
         "type": "\"string\""
        },
        {
         "metadata": "{}",
         "name": "product_name",
         "type": "\"string\""
        },
        {
         "metadata": "{}",
         "name": "no_of_times_ordered",
         "type": "\"long\""
        }
       ],
       "type": "table"
      }
     },
     "output_type": "display_data"
    }
   ],
   "source": [
    "famous = popular_data.groupBy(\"customer_id\", \"product_name\").agg(count(\"product_name\").alias(\"no_of_times_ordered\")).orderBy(\"customer_id\")\n",
    "\n",
    "display(famous)"
   ]
  },
  {
   "cell_type": "code",
   "execution_count": 0,
   "metadata": {
    "application/vnd.databricks.v1+cell": {
     "cellMetadata": {},
     "inputWidgets": {},
     "nuid": "b90eab82-8e63-42e0-ad0a-16983bd32d6c",
     "showTitle": false,
     "title": ""
    }
   },
   "outputs": [
    {
     "output_type": "display_data",
     "data": {
      "text/html": [
       "<style scoped>\n",
       "  .table-result-container {\n",
       "    max-height: 300px;\n",
       "    overflow: auto;\n",
       "  }\n",
       "  table, th, td {\n",
       "    border: 1px solid black;\n",
       "    border-collapse: collapse;\n",
       "  }\n",
       "  th, td {\n",
       "    padding: 5px;\n",
       "  }\n",
       "  th {\n",
       "    text-align: left;\n",
       "  }\n",
       "</style><div class='table-result-container'><table class='table-result'><thead style='background-color: white'><tr><th>customer_id</th><th>product_name</th><th>no_of_times_ordered</th></tr></thead><tbody><tr><td>A</td><td>ramen</td><td>3</td></tr><tr><td>B</td><td>sushi</td><td>2</td></tr><tr><td>B</td><td>ramen</td><td>2</td></tr><tr><td>B</td><td>curry</td><td>2</td></tr><tr><td>C</td><td>ramen</td><td>3</td></tr></tbody></table></div>"
      ]
     },
     "metadata": {
      "application/vnd.databricks.v1+output": {
       "addedWidgets": {},
       "aggData": [],
       "aggError": "",
       "aggOverflow": false,
       "aggSchema": [],
       "aggSeriesLimitReached": false,
       "aggType": "",
       "arguments": {},
       "columnCustomDisplayInfos": {},
       "data": [
        [
         "A",
         "ramen",
         3
        ],
        [
         "B",
         "sushi",
         2
        ],
        [
         "B",
         "ramen",
         2
        ],
        [
         "B",
         "curry",
         2
        ],
        [
         "C",
         "ramen",
         3
        ]
       ],
       "datasetInfos": [],
       "dbfsResultPath": null,
       "isJsonSchema": true,
       "metadata": {},
       "overflow": false,
       "plotOptions": {
        "customPlotOptions": {},
        "displayType": "table",
        "pivotAggregation": null,
        "pivotColumns": null,
        "xColumns": null,
        "yColumns": null
       },
       "removedWidgets": [],
       "schema": [
        {
         "metadata": "{}",
         "name": "customer_id",
         "type": "\"string\""
        },
        {
         "metadata": "{}",
         "name": "product_name",
         "type": "\"string\""
        },
        {
         "metadata": "{}",
         "name": "no_of_times_ordered",
         "type": "\"long\""
        }
       ],
       "type": "table"
      }
     },
     "output_type": "display_data"
    }
   ],
   "source": [
    "w = Window.partitionBy(\"customer_id\").orderBy(desc(\"no_of_times_ordered\"))\n",
    "\n",
    "famous = famous.withColumn(\"rank\", dense_rank().over(w)).filter(\"rank == 1\").drop(\"rank\")\n",
    "\n",
    "display(famous)"
   ]
  },
  {
   "cell_type": "markdown",
   "metadata": {
    "application/vnd.databricks.v1+cell": {
     "cellMetadata": {},
     "inputWidgets": {},
     "nuid": "288f15c8-4985-4fe6-b0aa-501db403ec3a",
     "showTitle": false,
     "title": ""
    }
   },
   "source": [
    "#####Question 6:  Which item was purchased first by the customer after they became a member?"
   ]
  },
  {
   "cell_type": "code",
   "execution_count": 0,
   "metadata": {
    "application/vnd.databricks.v1+cell": {
     "cellMetadata": {},
     "inputWidgets": {},
     "nuid": "cc469445-e31b-40db-a2da-e995dbe52bad",
     "showTitle": false,
     "title": ""
    }
   },
   "outputs": [
    {
     "output_type": "stream",
     "name": "stdout",
     "output_type": "stream",
     "text": [
      "+-----------+------------+----------+----------+\n|customer_id|product_name| join_date|order_date|\n+-----------+------------+----------+----------+\n|          A|       curry|2021-01-07|2021-01-07|\n|          B|       sushi|2021-01-09|2021-01-11|\n+-----------+------------+----------+----------+\n\n"
     ]
    }
   ],
   "source": [
    "first_purchased = members_df.join(sales_df, \"customer_id\").join(menu_df, \"product_id\").filter(\"order_date >= join_date\")\n",
    "# menu_df.show()\n",
    "\n",
    "w = Window.partitionBy(\"customer_id\").orderBy(\"order_date\")\n",
    "\n",
    "first_purchased.withColumn(\"rank\", dense_rank().over(w)).filter(\"rank == 1\").drop(\"rank\").select(\"customer_id\", \"product_name\", \"join_date\", \"order_date\").show()"
   ]
  },
  {
   "cell_type": "markdown",
   "metadata": {
    "application/vnd.databricks.v1+cell": {
     "cellMetadata": {},
     "inputWidgets": {},
     "nuid": "7e7bc803-7767-4735-841a-960401016d5a",
     "showTitle": false,
     "title": ""
    }
   },
   "source": [
    "#####Question 7:  Which item was purchased just before the customer became a member?"
   ]
  },
  {
   "cell_type": "code",
   "execution_count": 0,
   "metadata": {
    "application/vnd.databricks.v1+cell": {
     "cellMetadata": {},
     "inputWidgets": {},
     "nuid": "b5570365-9e9f-4423-975a-3ebff0258fb3",
     "showTitle": false,
     "title": ""
    }
   },
   "outputs": [
    {
     "output_type": "display_data",
     "data": {
      "text/html": [
       "<style scoped>\n",
       "  .table-result-container {\n",
       "    max-height: 300px;\n",
       "    overflow: auto;\n",
       "  }\n",
       "  table, th, td {\n",
       "    border: 1px solid black;\n",
       "    border-collapse: collapse;\n",
       "  }\n",
       "  th, td {\n",
       "    padding: 5px;\n",
       "  }\n",
       "  th {\n",
       "    text-align: left;\n",
       "  }\n",
       "</style><div class='table-result-container'><table class='table-result'><thead style='background-color: white'><tr><th>customer_id</th><th>order_date</th><th>product_name</th></tr></thead><tbody><tr><td>A</td><td>2021-01-01</td><td>sushi</td></tr><tr><td>A</td><td>2021-01-01</td><td>curry</td></tr><tr><td>B</td><td>2021-01-04</td><td>sushi</td></tr></tbody></table></div>"
      ]
     },
     "metadata": {
      "application/vnd.databricks.v1+output": {
       "addedWidgets": {},
       "aggData": [],
       "aggError": "",
       "aggOverflow": false,
       "aggSchema": [],
       "aggSeriesLimitReached": false,
       "aggType": "",
       "arguments": {},
       "columnCustomDisplayInfos": {},
       "data": [
        [
         "A",
         "2021-01-01",
         "sushi"
        ],
        [
         "A",
         "2021-01-01",
         "curry"
        ],
        [
         "B",
         "2021-01-04",
         "sushi"
        ]
       ],
       "datasetInfos": [],
       "dbfsResultPath": null,
       "isJsonSchema": true,
       "metadata": {},
       "overflow": false,
       "plotOptions": {
        "customPlotOptions": {},
        "displayType": "table",
        "pivotAggregation": null,
        "pivotColumns": null,
        "xColumns": null,
        "yColumns": null
       },
       "removedWidgets": [],
       "schema": [
        {
         "metadata": "{}",
         "name": "customer_id",
         "type": "\"string\""
        },
        {
         "metadata": "{}",
         "name": "order_date",
         "type": "\"string\""
        },
        {
         "metadata": "{}",
         "name": "product_name",
         "type": "\"string\""
        }
       ],
       "type": "table"
      }
     },
     "output_type": "display_data"
    }
   ],
   "source": [
    "all_data = members_df.join(sales_df, \"customer_id\").join(menu_df, \"product_id\")\n",
    "just_before = all_data.filter(\"order_date < join_date\")\n",
    "\n",
    "w = Window.partitionBy(\"customer_id\").orderBy(desc(\"order_date\"))\n",
    "\n",
    "just_before_purchase = just_before.withColumn(\"rank\", dense_rank().over(w)).filter(\"rank == 1\").drop(\"rank\").select(\"customer_id\", \"order_date\", \"product_name\")\n",
    "display(just_before_purchase)"
   ]
  },
  {
   "cell_type": "markdown",
   "metadata": {
    "application/vnd.databricks.v1+cell": {
     "cellMetadata": {},
     "inputWidgets": {},
     "nuid": "caae5d9c-ab56-400a-9d08-f18916ca4da4",
     "showTitle": false,
     "title": ""
    }
   },
   "source": [
    "#####Question 8:  What is the total items and amount spent for each member before they became a member?"
   ]
  },
  {
   "cell_type": "code",
   "execution_count": 0,
   "metadata": {
    "application/vnd.databricks.v1+cell": {
     "cellMetadata": {},
     "inputWidgets": {},
     "nuid": "3a5b29f0-b4f0-4b13-9bac-d1469135146c",
     "showTitle": false,
     "title": ""
    }
   },
   "outputs": [
    {
     "output_type": "stream",
     "name": "stdout",
     "output_type": "stream",
     "text": [
      "+-----------+-----------------+----------+\n|customer_id|count(product_id)|sum(price)|\n+-----------+-----------------+----------+\n|          A|                2|      25.0|\n|          B|                2|      40.0|\n+-----------+-----------------+----------+\n\n"
     ]
    }
   ],
   "source": [
    "just_before.groupBy(\"customer_id\").agg(countDistinct(\"product_id\"), sum(\"price\")).orderBy(\"customer_id\").show()"
   ]
  },
  {
   "cell_type": "markdown",
   "metadata": {
    "application/vnd.databricks.v1+cell": {
     "cellMetadata": {},
     "inputWidgets": {},
     "nuid": "4fbcf312-d958-4af4-a33d-93f84938d792",
     "showTitle": false,
     "title": ""
    }
   },
   "source": [
    "#####Question 9: If each $1 spent equates to 10 points and sushi has a 2x points multiplier — how many points would each customer have?"
   ]
  },
  {
   "cell_type": "code",
   "execution_count": 0,
   "metadata": {
    "application/vnd.databricks.v1+cell": {
     "cellMetadata": {},
     "inputWidgets": {},
     "nuid": "582ded88-24ba-4c6c-9b6c-9d26c371f8a2",
     "showTitle": false,
     "title": ""
    }
   },
   "outputs": [
    {
     "output_type": "stream",
     "name": "stdout",
     "output_type": "stream",
     "text": [
      "+-----------+------------+\n|customer_id|total_points|\n+-----------+------------+\n|          A|       860.0|\n|          B|       940.0|\n|          C|       360.0|\n+-----------+------------+\n\n"
     ]
    }
   ],
   "source": [
    "sales_menu = sales_df.join(menu_df, \"product_id\")\n",
    "sales_menu \\\n",
    ".withColumn(\"points\", when(col('product_id') == 1,col('price')*20).otherwise(col('price')*10)) \\\n",
    ".groupBy(\"customer_id\").agg(sum(\"points\").alias(\"total_points\")) \\\n",
    ".orderBy(\"customer_id\") \\\n",
    ".show()"
   ]
  },
  {
   "cell_type": "markdown",
   "metadata": {
    "application/vnd.databricks.v1+cell": {
     "cellMetadata": {},
     "inputWidgets": {},
     "nuid": "4e028380-313f-4e69-bca0-5b6f17957be7",
     "showTitle": false,
     "title": ""
    }
   },
   "source": [
    "#####Question 10: In the first week after a customer joins the program (including their join date) they earn 2x points on all items, not just sushi — how many points do customer A and B have at the end of January?"
   ]
  }
 ],
 "metadata": {
  "application/vnd.databricks.v1+notebook": {
   "dashboards": [],
   "language": "python",
   "notebookMetadata": {
    "pythonIndentUnit": 2
   },
   "notebookName": "week1",
   "widgets": {}
  }
 },
 "nbformat": 4,
 "nbformat_minor": 0
}
