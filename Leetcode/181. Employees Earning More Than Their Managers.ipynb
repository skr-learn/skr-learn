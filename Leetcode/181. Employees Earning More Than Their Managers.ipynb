{
 "cells": [
  {
   "cell_type": "markdown",
   "metadata": {
    "application/vnd.databricks.v1+cell": {
     "cellMetadata": {},
     "inputWidgets": {},
     "nuid": "c05511ef-0141-4216-b57f-e6745b1d7e80",
     "showTitle": false,
     "title": ""
    }
   },
   "source": [
    "##### 181. Employees Earning More Than Their Managers\n",
    "\n",
    "The Employee table holds all employees including their managers. Every employee has an Id, and there is also a column for the manager Id.<br>\n",
    "+----+-------+--------+-----------+<br>\n",
    "| Id | Name | Salary | ManagerId |<br>\n",
    "+----+-------+--------+-----------+<br>\n",
    "| 1 | Joe | 70000 | 3 |<br>\n",
    "| 2 | Henry | 80000 | 4 |<br>\n",
    "| 3 | Sam | 60000 | NULL |<br>\n",
    "| 4 | Max | 90000 | NULL |<br>\n",
    "+----+-------+--------+-----------+<br>\n",
    "\n",
    "##### Given the Employee table, write a SQL query that finds out employees who earn more than their managers. For the above table, Joe is the only employee who earns more than his manager.<br>\n",
    "+----------+<br>\n",
    "| Employee |<br>\n",
    "+----------+<br>\n",
    "| Joe |<br>\n",
    "+----------+<br>"
   ]
  },
  {
   "cell_type": "markdown",
   "metadata": {
    "application/vnd.databricks.v1+cell": {
     "cellMetadata": {},
     "inputWidgets": {},
     "nuid": "d8483a87-c467-4e7e-80a2-868ab0dcb4a2",
     "showTitle": false,
     "title": ""
    }
   },
   "source": [
    "##### PySpark Solution"
   ]
  },
  {
   "cell_type": "code",
   "execution_count": 0,
   "metadata": {
    "application/vnd.databricks.v1+cell": {
     "cellMetadata": {
      "byteLimit": 2048000,
      "rowLimit": 10000
     },
     "inputWidgets": {},
     "nuid": "22241d33-490e-443b-a5c8-5c516e8bfceb",
     "showTitle": false,
     "title": ""
    }
   },
   "outputs": [],
   "source": [
    "df_emp = (spark\n",
    "          .createDataFrame(\n",
    "            data = [(1, 'Joe', 70000, 3),\n",
    "                    (2, 'Henry', 80000, 4),\n",
    "                    (3, 'Sam', 60000, None),\n",
    "                    (4, 'Max', 90000, None)\n",
    "                    ],\n",
    "            schema = ['Id', 'Name', 'Salary', 'ManagerId']\n",
    "            )\n",
    "          )\n",
    "\n",
    "# display(df_emp)"
   ]
  },
  {
   "cell_type": "code",
   "execution_count": 0,
   "metadata": {
    "application/vnd.databricks.v1+cell": {
     "cellMetadata": {
      "byteLimit": 2048000,
      "rowLimit": 10000
     },
     "inputWidgets": {},
     "nuid": "4cb11de1-cbfd-47ac-b2ee-fc1578906b86",
     "showTitle": false,
     "title": ""
    }
   },
   "outputs": [
    {
     "output_type": "display_data",
     "data": {
      "text/html": [
       "<style scoped>\n",
       "  .table-result-container {\n",
       "    max-height: 300px;\n",
       "    overflow: auto;\n",
       "  }\n",
       "  table, th, td {\n",
       "    border: 1px solid black;\n",
       "    border-collapse: collapse;\n",
       "  }\n",
       "  th, td {\n",
       "    padding: 5px;\n",
       "  }\n",
       "  th {\n",
       "    text-align: left;\n",
       "  }\n",
       "</style><div class='table-result-container'><table class='table-result'><thead style='background-color: white'><tr><th>Name</th></tr></thead><tbody><tr><td>Joe</td></tr></tbody></table></div>"
      ]
     },
     "metadata": {
      "application/vnd.databricks.v1+output": {
       "addedWidgets": {},
       "aggData": [],
       "aggError": "",
       "aggOverflow": false,
       "aggSchema": [],
       "aggSeriesLimitReached": false,
       "aggType": "",
       "arguments": {},
       "columnCustomDisplayInfos": {},
       "data": [
        [
         "Joe"
        ]
       ],
       "datasetInfos": [],
       "dbfsResultPath": null,
       "isJsonSchema": true,
       "metadata": {},
       "overflow": false,
       "plotOptions": {
        "customPlotOptions": {},
        "displayType": "table",
        "pivotAggregation": null,
        "pivotColumns": null,
        "xColumns": null,
        "yColumns": null
       },
       "removedWidgets": [],
       "schema": [
        {
         "metadata": "{}",
         "name": "Name",
         "type": "\"string\""
        }
       ],
       "type": "table"
      }
     },
     "output_type": "display_data"
    }
   ],
   "source": [
    "from pyspark.sql.functions import col\n",
    "\n",
    "df_emp_man = (df_emp.alias(\"emp\")\n",
    "              .join(df_emp.alias(\"manager\"),\n",
    "                    col(\"emp.ManagerId\") == col(\"manager.Id\"),\n",
    "                    'inner'\n",
    "                    )\n",
    "              .filter(col(\"emp.Salary\") > col(\"manager.Salary\"))\n",
    "              .select(col(\"emp.Name\"))\n",
    "              )\n",
    "\n",
    "df_emp_man.display()"
   ]
  }
 ],
 "metadata": {
  "application/vnd.databricks.v1+notebook": {
   "dashboards": [],
   "language": "python",
   "notebookMetadata": {
    "pythonIndentUnit": 2
   },
   "notebookName": "181. Employees Earning More Than Their Managers",
   "widgets": {}
  }
 },
 "nbformat": 4,
 "nbformat_minor": 0
}
