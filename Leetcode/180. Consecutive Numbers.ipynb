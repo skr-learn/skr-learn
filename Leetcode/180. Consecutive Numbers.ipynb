{
 "cells": [
  {
   "cell_type": "markdown",
   "metadata": {
    "application/vnd.databricks.v1+cell": {
     "cellMetadata": {},
     "inputWidgets": {},
     "nuid": "f485ef7e-f700-4b0f-80af-6049b4a90df2",
     "showTitle": false,
     "title": ""
    }
   },
   "source": [
    "##### 180. Consecutive Numbers\n",
    "\n",
    "##### Write a SQL query to find all numbers that appear at least three times consecutively. <br>\n",
    "+----+-----+<br>\n",
    "| Id | Num |<br>\n",
    "+----+-----+<br>\n",
    "| 1 | 1 |<br>\n",
    "| 2 | 1 |<br>\n",
    "| 3 | 1 |<br>\n",
    "| 4 | 2 |<br>\n",
    "| 5 | 1 |<br>\n",
    "| 6 | 2 |<br>\n",
    "| 7 | 2 |<br>\n",
    "+----+-----+<br>\n",
    "For example, given the above Logs table, 1 is the only number that appears consecutively for at least three times.<br>\n",
    "+-----------------+<br>\n",
    "| ConsecutiveNums |<br>\n",
    "+-----------------+<br>\n",
    "| 1 |<br>\n",
    "+-----------------+<br>"
   ]
  },
  {
   "cell_type": "markdown",
   "metadata": {
    "application/vnd.databricks.v1+cell": {
     "cellMetadata": {},
     "inputWidgets": {},
     "nuid": "cd7c7992-bd79-40d0-a13f-89499c5ff1f2",
     "showTitle": false,
     "title": ""
    }
   },
   "source": [
    "##### PySpark Solution"
   ]
  },
  {
   "cell_type": "code",
   "execution_count": 0,
   "metadata": {
    "application/vnd.databricks.v1+cell": {
     "cellMetadata": {
      "byteLimit": 2048000,
      "rowLimit": 10000
     },
     "inputWidgets": {},
     "nuid": "dd084d81-0900-47fd-92f7-e46de508d089",
     "showTitle": false,
     "title": ""
    }
   },
   "outputs": [],
   "source": [
    "df_num = (spark\n",
    "          .createDataFrame(\n",
    "            data = [(1,1), (2,1), (3,1), (4,2), (5,2), (6,2), (7,3), (8,1), (9,3)],\n",
    "            schema = ['Id', 'Num']\n",
    "            )\n",
    "          )\n",
    "\n",
    "# df_num.display()"
   ]
  },
  {
   "cell_type": "code",
   "execution_count": 0,
   "metadata": {
    "application/vnd.databricks.v1+cell": {
     "cellMetadata": {
      "byteLimit": 2048000,
      "rowLimit": 10000
     },
     "inputWidgets": {},
     "nuid": "23b92249-b1cc-4a75-930b-23e8c8d294ef",
     "showTitle": false,
     "title": ""
    }
   },
   "outputs": [
    {
     "output_type": "display_data",
     "data": {
      "text/html": [
       "<style scoped>\n",
       "  .table-result-container {\n",
       "    max-height: 300px;\n",
       "    overflow: auto;\n",
       "  }\n",
       "  table, th, td {\n",
       "    border: 1px solid black;\n",
       "    border-collapse: collapse;\n",
       "  }\n",
       "  th, td {\n",
       "    padding: 5px;\n",
       "  }\n",
       "  th {\n",
       "    text-align: left;\n",
       "  }\n",
       "</style><div class='table-result-container'><table class='table-result'><thead style='background-color: white'><tr><th>Id</th><th>Num</th><th>Next_num</th><th>Next_to_next_num</th></tr></thead><tbody><tr><td>1</td><td>1</td><td>1</td><td>1</td></tr><tr><td>2</td><td>1</td><td>1</td><td>2</td></tr><tr><td>3</td><td>1</td><td>2</td><td>2</td></tr><tr><td>4</td><td>2</td><td>2</td><td>2</td></tr><tr><td>5</td><td>2</td><td>2</td><td>3</td></tr><tr><td>6</td><td>2</td><td>3</td><td>1</td></tr><tr><td>7</td><td>3</td><td>1</td><td>3</td></tr><tr><td>8</td><td>1</td><td>3</td><td>null</td></tr><tr><td>9</td><td>3</td><td>null</td><td>null</td></tr></tbody></table></div>"
      ]
     },
     "metadata": {
      "application/vnd.databricks.v1+output": {
       "addedWidgets": {},
       "aggData": [],
       "aggError": "",
       "aggOverflow": false,
       "aggSchema": [],
       "aggSeriesLimitReached": false,
       "aggType": "",
       "arguments": {},
       "columnCustomDisplayInfos": {},
       "data": [
        [
         1,
         1,
         1,
         1
        ],
        [
         2,
         1,
         1,
         2
        ],
        [
         3,
         1,
         2,
         2
        ],
        [
         4,
         2,
         2,
         2
        ],
        [
         5,
         2,
         2,
         3
        ],
        [
         6,
         2,
         3,
         1
        ],
        [
         7,
         3,
         1,
         3
        ],
        [
         8,
         1,
         3,
         null
        ],
        [
         9,
         3,
         null,
         null
        ]
       ],
       "datasetInfos": [],
       "dbfsResultPath": null,
       "isJsonSchema": true,
       "metadata": {},
       "overflow": false,
       "plotOptions": {
        "customPlotOptions": {},
        "displayType": "table",
        "pivotAggregation": null,
        "pivotColumns": null,
        "xColumns": null,
        "yColumns": null
       },
       "removedWidgets": [],
       "schema": [
        {
         "metadata": "{}",
         "name": "Id",
         "type": "\"long\""
        },
        {
         "metadata": "{}",
         "name": "Num",
         "type": "\"long\""
        },
        {
         "metadata": "{}",
         "name": "Next_num",
         "type": "\"long\""
        },
        {
         "metadata": "{}",
         "name": "Next_to_next_num",
         "type": "\"long\""
        }
       ],
       "type": "table"
      }
     },
     "output_type": "display_data"
    },
    {
     "output_type": "display_data",
     "data": {
      "text/html": [
       "<style scoped>\n",
       "  .table-result-container {\n",
       "    max-height: 300px;\n",
       "    overflow: auto;\n",
       "  }\n",
       "  table, th, td {\n",
       "    border: 1px solid black;\n",
       "    border-collapse: collapse;\n",
       "  }\n",
       "  th, td {\n",
       "    padding: 5px;\n",
       "  }\n",
       "  th {\n",
       "    text-align: left;\n",
       "  }\n",
       "</style><div class='table-result-container'><table class='table-result'><thead style='background-color: white'><tr><th>ConsecutiveNums</th></tr></thead><tbody><tr><td>1</td></tr><tr><td>2</td></tr></tbody></table></div>"
      ]
     },
     "metadata": {
      "application/vnd.databricks.v1+output": {
       "addedWidgets": {},
       "aggData": [],
       "aggError": "",
       "aggOverflow": false,
       "aggSchema": [],
       "aggSeriesLimitReached": false,
       "aggType": "",
       "arguments": {},
       "columnCustomDisplayInfos": {},
       "data": [
        [
         1
        ],
        [
         2
        ]
       ],
       "datasetInfos": [],
       "dbfsResultPath": null,
       "isJsonSchema": true,
       "metadata": {},
       "overflow": false,
       "plotOptions": {
        "customPlotOptions": {},
        "displayType": "table",
        "pivotAggregation": null,
        "pivotColumns": null,
        "xColumns": null,
        "yColumns": null
       },
       "removedWidgets": [],
       "schema": [
        {
         "metadata": "{}",
         "name": "ConsecutiveNums",
         "type": "\"long\""
        }
       ],
       "type": "table"
      }
     },
     "output_type": "display_data"
    }
   ],
   "source": [
    "from pyspark.sql.functions import lead\n",
    "\n",
    "df_num_lead = (df_num\n",
    "               .withColumn(\"Next_num\", lead('Num', 1).over(Window.orderBy('Id')))\n",
    "               .withColumn(\"Next_to_next_num\", lead('Next_num', 1).over(Window.orderBy('Id')))\n",
    "               )\n",
    "\n",
    "df_num_lead.display()\n",
    "\n",
    "df_num_most = (df_num_lead\n",
    "               .filter((col(\"Num\") == col(\"Next_num\")) & (col(\"Next_num\") == col(\"Next_to_next_num\")))\n",
    "               .select(col(\"Num\").alias(\"ConsecutiveNums\"))\n",
    "               )\n",
    "\n",
    "df_num_most.display()"
   ]
  }
 ],
 "metadata": {
  "application/vnd.databricks.v1+notebook": {
   "dashboards": [],
   "language": "python",
   "notebookMetadata": {
    "pythonIndentUnit": 2
   },
   "notebookName": "180. Consecutive Numbers",
   "widgets": {}
  }
 },
 "nbformat": 4,
 "nbformat_minor": 0
}
