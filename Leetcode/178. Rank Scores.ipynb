{
 "cells": [
  {
   "cell_type": "markdown",
   "metadata": {
    "application/vnd.databricks.v1+cell": {
     "cellMetadata": {},
     "inputWidgets": {},
     "nuid": "b22391c1-c1cf-4e18-925d-e11f681027a3",
     "showTitle": false,
     "title": ""
    }
   },
   "source": [
    "##### 178. Rank Scores\n",
    "\n",
    "##### Write a SQL query to rank scores. If there is a tie between two scores, both should have the same ranking. Note that after a tie, the next ranking number should be the next consecutive integer value. In other words, there should be no \"holes\" between ranks. <br>\n",
    "+----+-------+<br>\n",
    "| Id | Score |<br>\n",
    "+----+-------+<br>\n",
    "| 1 | 3.50 |<br>\n",
    "| 2 | 3.65 |<br>\n",
    "| 3 | 4.00 |<br>\n",
    "| 4 | 3.85 |<br>\n",
    "| 5 | 4.00 |<br>\n",
    "| 6 | 3.65 |<br>\n",
    "+----+-------+<br>\n",
    "For example, given the above Scores table, your query should generate the following report (order by highest score):<br>\n",
    "+-------+------+<br>\n",
    "| Score | Rank |<br>\n",
    "+-------+------+<br>\n",
    "| 4.00 | 1 |<br>\n",
    "| 4.00 | 1 |<br>\n",
    "| 3.85 | 2 |<br>\n",
    "| 3.65 | 3 |<br>\n",
    "| 3.65 | 3 |<br>\n",
    "| 3.50 | 4 |<br>\n",
    "+-------+------+<br>"
   ]
  },
  {
   "cell_type": "markdown",
   "metadata": {
    "application/vnd.databricks.v1+cell": {
     "cellMetadata": {},
     "inputWidgets": {},
     "nuid": "db334f2f-0bc8-4ddb-9605-05af77b7fdb2",
     "showTitle": false,
     "title": ""
    }
   },
   "source": [
    "##### PySpark Solution"
   ]
  },
  {
   "cell_type": "code",
   "execution_count": 0,
   "metadata": {
    "application/vnd.databricks.v1+cell": {
     "cellMetadata": {
      "byteLimit": 2048000,
      "rowLimit": 10000
     },
     "inputWidgets": {},
     "nuid": "9206dd69-674e-49bf-9ece-6f14cb4fcde4",
     "showTitle": false,
     "title": ""
    }
   },
   "outputs": [],
   "source": [
    "df_score = (spark\n",
    "            .createDataFrame(\n",
    "              data = [(1, 3.50), (2, 3.65), (3, 4.00), (4, 3.85), (5, 4.00), (6, 3.65)],\n",
    "              schema = ['Id', 'Score']\n",
    "              )\n",
    "            )\n",
    "\n",
    "# df_score.display()"
   ]
  },
  {
   "cell_type": "code",
   "execution_count": 0,
   "metadata": {
    "application/vnd.databricks.v1+cell": {
     "cellMetadata": {
      "byteLimit": 2048000,
      "rowLimit": 10000
     },
     "inputWidgets": {},
     "nuid": "97418d3d-0e2d-480d-948d-956038a49c20",
     "showTitle": false,
     "title": ""
    }
   },
   "outputs": [
    {
     "output_type": "display_data",
     "data": {
      "text/html": [
       "<style scoped>\n",
       "  .table-result-container {\n",
       "    max-height: 300px;\n",
       "    overflow: auto;\n",
       "  }\n",
       "  table, th, td {\n",
       "    border: 1px solid black;\n",
       "    border-collapse: collapse;\n",
       "  }\n",
       "  th, td {\n",
       "    padding: 5px;\n",
       "  }\n",
       "  th {\n",
       "    text-align: left;\n",
       "  }\n",
       "</style><div class='table-result-container'><table class='table-result'><thead style='background-color: white'><tr><th>Score</th><th>Rank</th></tr></thead><tbody><tr><td>4.0</td><td>1</td></tr><tr><td>4.0</td><td>1</td></tr><tr><td>3.85</td><td>2</td></tr><tr><td>3.65</td><td>3</td></tr><tr><td>3.65</td><td>3</td></tr><tr><td>3.5</td><td>4</td></tr></tbody></table></div>"
      ]
     },
     "metadata": {
      "application/vnd.databricks.v1+output": {
       "addedWidgets": {},
       "aggData": [],
       "aggError": "",
       "aggOverflow": false,
       "aggSchema": [],
       "aggSeriesLimitReached": false,
       "aggType": "",
       "arguments": {},
       "columnCustomDisplayInfos": {},
       "data": [
        [
         4.0,
         1
        ],
        [
         4.0,
         1
        ],
        [
         3.85,
         2
        ],
        [
         3.65,
         3
        ],
        [
         3.65,
         3
        ],
        [
         3.5,
         4
        ]
       ],
       "datasetInfos": [],
       "dbfsResultPath": null,
       "isJsonSchema": true,
       "metadata": {},
       "overflow": false,
       "plotOptions": {
        "customPlotOptions": {},
        "displayType": "table",
        "pivotAggregation": null,
        "pivotColumns": null,
        "xColumns": null,
        "yColumns": null
       },
       "removedWidgets": [],
       "schema": [
        {
         "metadata": "{}",
         "name": "Score",
         "type": "\"double\""
        },
        {
         "metadata": "{}",
         "name": "Rank",
         "type": "\"integer\""
        }
       ],
       "type": "table"
      }
     },
     "output_type": "display_data"
    }
   ],
   "source": [
    "from pyspark.sql.window import Window\n",
    "from pyspark.sql.functions import dense_rank\n",
    "\n",
    "scoreWindow = Window.orderBy(col('Score').desc())\n",
    "\n",
    "df_score_rank = (df_score\n",
    "                 .withColumn('Rank', dense_rank().over(scoreWindow))\n",
    "                 .drop('Id')\n",
    "                 )\n",
    "                 \n",
    "df_score_rank.display()"
   ]
  }
 ],
 "metadata": {
  "application/vnd.databricks.v1+notebook": {
   "dashboards": [],
   "language": "python",
   "notebookMetadata": {
    "pythonIndentUnit": 2
   },
   "notebookName": "178. Rank Scores",
   "widgets": {}
  }
 },
 "nbformat": 4,
 "nbformat_minor": 0
}
