{
 "cells": [
  {
   "cell_type": "code",
   "execution_count": 0,
   "metadata": {
    "application/vnd.databricks.v1+cell": {
     "cellMetadata": {
      "byteLimit": 2048000,
      "rowLimit": 10000
     },
     "inputWidgets": {},
     "nuid": "6a258e4f-b58a-4875-94ac-d660c33e41db",
     "showTitle": false,
     "title": ""
    }
   },
   "outputs": [
    {
     "output_type": "display_data",
     "data": {
      "text/html": [
       "<style scoped>\n",
       "  .table-result-container {\n",
       "    max-height: 300px;\n",
       "    overflow: auto;\n",
       "  }\n",
       "  table, th, td {\n",
       "    border: 1px solid black;\n",
       "    border-collapse: collapse;\n",
       "  }\n",
       "  th, td {\n",
       "    padding: 5px;\n",
       "  }\n",
       "  th {\n",
       "    text-align: left;\n",
       "  }\n",
       "</style><div class='table-result-container'><table class='table-result'><thead style='background-color: white'><tr><th>City1</th><th>City2</th><th>City3</th></tr></thead><tbody><tr><td>Mumbai</td><td></td><td>Kolkata</td></tr><tr><td></td><td>Kolkata</td><td></td></tr><tr><td>Vizag</td><td>Chennai</td><td></td></tr><tr><td></td><td></td><td>Bengaluru</td></tr></tbody></table></div>"
      ]
     },
     "metadata": {
      "application/vnd.databricks.v1+output": {
       "addedWidgets": {},
       "aggData": [],
       "aggError": "",
       "aggOverflow": false,
       "aggSchema": [],
       "aggSeriesLimitReached": false,
       "aggType": "",
       "arguments": {},
       "columnCustomDisplayInfos": {},
       "data": [
        [
         "Mumbai",
         "",
         "Kolkata"
        ],
        [
         "",
         "Kolkata",
         ""
        ],
        [
         "Vizag",
         "Chennai",
         ""
        ],
        [
         "",
         "",
         "Bengaluru"
        ]
       ],
       "datasetInfos": [],
       "dbfsResultPath": null,
       "isJsonSchema": true,
       "metadata": {},
       "overflow": false,
       "plotOptions": {
        "customPlotOptions": {},
        "displayType": "table",
        "pivotAggregation": null,
        "pivotColumns": null,
        "xColumns": null,
        "yColumns": null
       },
       "removedWidgets": [],
       "schema": [
        {
         "metadata": "{}",
         "name": "City1",
         "type": "\"string\""
        },
        {
         "metadata": "{}",
         "name": "City2",
         "type": "\"string\""
        },
        {
         "metadata": "{}",
         "name": "City3",
         "type": "\"string\""
        }
       ],
       "type": "table"
      }
     },
     "output_type": "display_data"
    }
   ],
   "source": [
    "schema = \"City1 string, City2 string, City3 string\"\n",
    "\n",
    "data = [(\"Mumbai\", \"\", \"Kolkata\"), (\"\", \"Kolkata\", \"\"), (\"Vizag\", \"Chennai\", \"\"), (\"\", \"\", \"Bengaluru\")]\n",
    "\n",
    "df = spark.createDataFrame(data = data, schema = schema)\n",
    "\n",
    "display(df)"
   ]
  },
  {
   "cell_type": "code",
   "execution_count": 0,
   "metadata": {
    "application/vnd.databricks.v1+cell": {
     "cellMetadata": {
      "byteLimit": 2048000,
      "rowLimit": 10000
     },
     "inputWidgets": {},
     "nuid": "dcceff20-59ff-40e6-a3e1-d7c5f2b20c99",
     "showTitle": false,
     "title": ""
    }
   },
   "outputs": [
    {
     "output_type": "display_data",
     "data": {
      "text/html": [
       "<style scoped>\n",
       "  .table-result-container {\n",
       "    max-height: 300px;\n",
       "    overflow: auto;\n",
       "  }\n",
       "  table, th, td {\n",
       "    border: 1px solid black;\n",
       "    border-collapse: collapse;\n",
       "  }\n",
       "  th, td {\n",
       "    padding: 5px;\n",
       "  }\n",
       "  th {\n",
       "    text-align: left;\n",
       "  }\n",
       "</style><div class='table-result-container'><table class='table-result'><thead style='background-color: white'><tr><th>City1</th><th>City2</th><th>City3</th></tr></thead><tbody><tr><td>Mumbai</td><td>null</td><td>Kolkata</td></tr><tr><td>null</td><td>Kolkata</td><td>null</td></tr><tr><td>Vizag</td><td>Chennai</td><td>null</td></tr><tr><td>null</td><td>null</td><td>Bengaluru</td></tr></tbody></table></div>"
      ]
     },
     "metadata": {
      "application/vnd.databricks.v1+output": {
       "addedWidgets": {},
       "aggData": [],
       "aggError": "",
       "aggOverflow": false,
       "aggSchema": [],
       "aggSeriesLimitReached": false,
       "aggType": "",
       "arguments": {},
       "columnCustomDisplayInfos": {},
       "data": [
        [
         "Mumbai",
         null,
         "Kolkata"
        ],
        [
         null,
         "Kolkata",
         null
        ],
        [
         "Vizag",
         "Chennai",
         null
        ],
        [
         null,
         null,
         "Bengaluru"
        ]
       ],
       "datasetInfos": [],
       "dbfsResultPath": null,
       "isJsonSchema": true,
       "metadata": {},
       "overflow": false,
       "plotOptions": {
        "customPlotOptions": {},
        "displayType": "table",
        "pivotAggregation": null,
        "pivotColumns": null,
        "xColumns": null,
        "yColumns": null
       },
       "removedWidgets": [],
       "schema": [
        {
         "metadata": "{}",
         "name": "City1",
         "type": "\"string\""
        },
        {
         "metadata": "{}",
         "name": "City2",
         "type": "\"string\""
        },
        {
         "metadata": "{}",
         "name": "City3",
         "type": "\"string\""
        }
       ],
       "type": "table"
      }
     },
     "output_type": "display_data"
    }
   ],
   "source": [
    "## Cleaning the empty values\n",
    "from pyspark.sql.functions import col, when\n",
    "\n",
    "df2 = (df\n",
    "       .withColumn(\"City1\", when(col(\"City1\") == '', None).otherwise(col(\"City1\")))\n",
    "       .withColumn(\"City2\", when(col(\"City2\") == '', None).otherwise(col(\"City2\")))\n",
    "       .withColumn(\"City3\", when(col(\"City3\") == '', None).otherwise(col(\"City3\")))\n",
    "       )\n",
    "\n",
    "df2.display()"
   ]
  },
  {
   "cell_type": "code",
   "execution_count": 0,
   "metadata": {
    "application/vnd.databricks.v1+cell": {
     "cellMetadata": {
      "byteLimit": 2048000,
      "rowLimit": 10000
     },
     "inputWidgets": {},
     "nuid": "050f4866-2a05-4007-9259-6543b5670f1a",
     "showTitle": false,
     "title": ""
    }
   },
   "outputs": [
    {
     "output_type": "display_data",
     "data": {
      "text/html": [
       "<style scoped>\n",
       "  .table-result-container {\n",
       "    max-height: 300px;\n",
       "    overflow: auto;\n",
       "  }\n",
       "  table, th, td {\n",
       "    border: 1px solid black;\n",
       "    border-collapse: collapse;\n",
       "  }\n",
       "  th, td {\n",
       "    padding: 5px;\n",
       "  }\n",
       "  th {\n",
       "    text-align: left;\n",
       "  }\n",
       "</style><div class='table-result-container'><table class='table-result'><thead style='background-color: white'><tr><th>City</th></tr></thead><tbody><tr><td>Mumbai</td></tr><tr><td>Kolkata</td></tr><tr><td>Vizag</td></tr><tr><td>Bengaluru</td></tr></tbody></table></div>"
      ]
     },
     "metadata": {
      "application/vnd.databricks.v1+output": {
       "addedWidgets": {},
       "aggData": [],
       "aggError": "",
       "aggOverflow": false,
       "aggSchema": [],
       "aggSeriesLimitReached": false,
       "aggType": "",
       "arguments": {},
       "columnCustomDisplayInfos": {},
       "data": [
        [
         "Mumbai"
        ],
        [
         "Kolkata"
        ],
        [
         "Vizag"
        ],
        [
         "Bengaluru"
        ]
       ],
       "datasetInfos": [],
       "dbfsResultPath": null,
       "isJsonSchema": true,
       "metadata": {},
       "overflow": false,
       "plotOptions": {
        "customPlotOptions": {},
        "displayType": "table",
        "pivotAggregation": null,
        "pivotColumns": null,
        "xColumns": null,
        "yColumns": null
       },
       "removedWidgets": [],
       "schema": [
        {
         "metadata": "{}",
         "name": "City",
         "type": "\"string\""
        }
       ],
       "type": "table"
      }
     },
     "output_type": "display_data"
    }
   ],
   "source": [
    "from pyspark.sql.functions import coalesce\n",
    "\n",
    "df3 = (df2\n",
    "       .withColumn(\"City\", coalesce(col(\"City1\"), col(\"City2\"), col(\"City3\")))\n",
    "       .select(\"City\")\n",
    "       )\n",
    "\n",
    "df3.display()"
   ]
  }
 ],
 "metadata": {
  "application/vnd.databricks.v1+notebook": {
   "dashboards": [],
   "language": "python",
   "notebookMetadata": {
    "pythonIndentUnit": 2
   },
   "notebookName": "InterviewQuestion1",
   "widgets": {}
  }
 },
 "nbformat": 4,
 "nbformat_minor": 0
}
