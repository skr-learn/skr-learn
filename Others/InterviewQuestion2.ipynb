{
 "cells": [
  {
   "cell_type": "markdown",
   "metadata": {
    "application/vnd.databricks.v1+cell": {
     "cellMetadata": {},
     "inputWidgets": {},
     "nuid": "5d3555c7-945e-48d7-a6b8-bae10239a0ae",
     "showTitle": false,
     "title": ""
    }
   },
   "source": [
    "##### Find total visits made by each person, the most frequently visited floor, and all the resources used by that person."
   ]
  },
  {
   "cell_type": "code",
   "execution_count": 0,
   "metadata": {
    "application/vnd.databricks.v1+cell": {
     "cellMetadata": {
      "byteLimit": 2048000,
      "rowLimit": 10000
     },
     "inputWidgets": {},
     "nuid": "c44a46ae-22ce-4907-b068-b696fa33f649",
     "showTitle": false,
     "title": ""
    }
   },
   "outputs": [],
   "source": [
    "from pyspark.sql.functions import *\n",
    "from pyspark.sql.window import Window"
   ]
  },
  {
   "cell_type": "code",
   "execution_count": 0,
   "metadata": {
    "application/vnd.databricks.v1+cell": {
     "cellMetadata": {
      "byteLimit": 2048000,
      "rowLimit": 10000
     },
     "inputWidgets": {},
     "nuid": "7b2b2d22-9871-4c6a-a7f0-7d9ae5a9b2a4",
     "showTitle": false,
     "title": ""
    }
   },
   "outputs": [],
   "source": [
    "data = [\n",
    "    ('A', 'Bangalore', 'A@gmail.com', 1, 'CPU'),\n",
    "    ('A', 'Bangalore', 'A1@gmail.com', 1, 'CPU'),\n",
    "    ('A', 'Bangalore', 'A2@gmail.com', 2, 'DESKTOP'),\n",
    "    ('B', 'Bangalore', 'B@gmail.com', 2, 'DESKTOP'),\n",
    "    ('B', 'Bangalore', 'B1@gmail.com', 2, 'DESKTOP'),\n",
    "    ('B', 'Bangalore', 'B2@gmail.com', 1, 'MONITOR')\n",
    "]\n",
    "\n",
    "schema = \"name string, address string, email string, floor int, resources string\"\n",
    "\n",
    "df = spark.createDataFrame(data, schema)"
   ]
  },
  {
   "cell_type": "code",
   "execution_count": 0,
   "metadata": {
    "application/vnd.databricks.v1+cell": {
     "cellMetadata": {
      "byteLimit": 2048000,
      "rowLimit": 10000
     },
     "inputWidgets": {},
     "nuid": "e4aa3095-e0fb-4781-bd95-2ef73abe947d",
     "showTitle": false,
     "title": ""
    }
   },
   "outputs": [],
   "source": [
    "# Calculate_total_visits_and_concatenate_resources\n",
    "df1 = df.groupBy(\"name\") \\\n",
    "    .agg(\n",
    "        count(\"floor\").alias(\"total_visits\"),\n",
    "        concat_ws(',', sort_array(collect_set(\"resources\"))).alias(\"resources\")\n",
    "    )"
   ]
  },
  {
   "cell_type": "code",
   "execution_count": 0,
   "metadata": {
    "application/vnd.databricks.v1+cell": {
     "cellMetadata": {
      "byteLimit": 2048000,
      "rowLimit": 10000
     },
     "inputWidgets": {},
     "nuid": "cbc887b7-455e-4688-b899-4cf0f01830bc",
     "showTitle": false,
     "title": ""
    }
   },
   "outputs": [],
   "source": [
    "# Identify_the_most_frequently_visited_floor\n",
    "df_temp = (\n",
    "    df.groupBy(\"name\", \"floor\")\n",
    "    .agg(count(\"floor\").alias(\"floor_count\"))\n",
    ")"
   ]
  },
  {
   "cell_type": "code",
   "execution_count": 0,
   "metadata": {
    "application/vnd.databricks.v1+cell": {
     "cellMetadata": {
      "byteLimit": 2048000,
      "rowLimit": 10000
     },
     "inputWidgets": {},
     "nuid": "448db650-420c-4d8a-b8da-57a43ca7c02b",
     "showTitle": false,
     "title": ""
    }
   },
   "outputs": [],
   "source": [
    "window = Window.partitionBy(\"name\").orderBy(col(\"floor_count\").desc())\n",
    "df2 = (\n",
    "    df_temp.withColumn(\"rn\", row_number().over(window))\n",
    "    .filter(\"rn == 1\")\n",
    "    .select(\"name\", col(\"floor\").alias(\"frequent_visited_floor\"))\n",
    ")"
   ]
  },
  {
   "cell_type": "code",
   "execution_count": 0,
   "metadata": {
    "application/vnd.databricks.v1+cell": {
     "cellMetadata": {
      "byteLimit": 2048000,
      "rowLimit": 10000
     },
     "inputWidgets": {},
     "nuid": "8bfb63de-c2e6-4de0-a2d1-954369896446",
     "showTitle": false,
     "title": ""
    }
   },
   "outputs": [
    {
     "output_type": "display_data",
     "data": {
      "text/html": [
       "<style scoped>\n",
       "  .table-result-container {\n",
       "    max-height: 300px;\n",
       "    overflow: auto;\n",
       "  }\n",
       "  table, th, td {\n",
       "    border: 1px solid black;\n",
       "    border-collapse: collapse;\n",
       "  }\n",
       "  th, td {\n",
       "    padding: 5px;\n",
       "  }\n",
       "  th {\n",
       "    text-align: left;\n",
       "  }\n",
       "</style><div class='table-result-container'><table class='table-result'><thead style='background-color: white'><tr><th>name</th><th>total_visits</th><th>resources</th><th>frequent_visited_floor</th></tr></thead><tbody><tr><td>A</td><td>3</td><td>CPU,DESKTOP</td><td>1</td></tr><tr><td>B</td><td>3</td><td>DESKTOP,MONITOR</td><td>2</td></tr></tbody></table></div>"
      ]
     },
     "metadata": {
      "application/vnd.databricks.v1+output": {
       "addedWidgets": {},
       "aggData": [],
       "aggError": "",
       "aggOverflow": false,
       "aggSchema": [],
       "aggSeriesLimitReached": false,
       "aggType": "",
       "arguments": {},
       "columnCustomDisplayInfos": {},
       "data": [
        [
         "A",
         3,
         "CPU,DESKTOP",
         1
        ],
        [
         "B",
         3,
         "DESKTOP,MONITOR",
         2
        ]
       ],
       "datasetInfos": [],
       "dbfsResultPath": null,
       "isJsonSchema": true,
       "metadata": {},
       "overflow": false,
       "plotOptions": {
        "customPlotOptions": {},
        "displayType": "table",
        "pivotAggregation": null,
        "pivotColumns": null,
        "xColumns": null,
        "yColumns": null
       },
       "removedWidgets": [],
       "schema": [
        {
         "metadata": "{}",
         "name": "name",
         "type": "\"string\""
        },
        {
         "metadata": "{}",
         "name": "total_visits",
         "type": "\"long\""
        },
        {
         "metadata": "{}",
         "name": "resources",
         "type": "\"string\""
        },
        {
         "metadata": "{}",
         "name": "frequent_visited_floor",
         "type": "\"integer\""
        }
       ],
       "type": "table"
      }
     },
     "output_type": "display_data"
    }
   ],
   "source": [
    "# Join_the_results\n",
    "df_final = df1.join(df2, \"name\")\n",
    "\n",
    "df_final.display()"
   ]
  }
 ],
 "metadata": {
  "application/vnd.databricks.v1+notebook": {
   "dashboards": [],
   "language": "python",
   "notebookMetadata": {
    "pythonIndentUnit": 2
   },
   "notebookName": "InterviewQuestion2",
   "widgets": {}
  }
 },
 "nbformat": 4,
 "nbformat_minor": 0
}
