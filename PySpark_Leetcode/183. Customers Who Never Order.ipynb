{
 "cells": [
  {
   "cell_type": "markdown",
   "metadata": {
    "application/vnd.databricks.v1+cell": {
     "cellMetadata": {},
     "inputWidgets": {},
     "nuid": "fcab25d9-222e-4428-a3b0-ce00eae91c1a",
     "showTitle": false,
     "title": ""
    }
   },
   "source": [
    "##### 183. Customers Who Never Order\n",
    "\n",
    "##### Suppose that a website contains two tables, the Customers table and the Orders table. Write a SQL query to find all customers who never order anything. <br>\n",
    "\n",
    "Table: Customers.<br>\n",
    "+----+-------+<br>\n",
    "| Id | Name |<br>\n",
    "+----+-------+<br>\n",
    "| 1 | Joe |<br>\n",
    "| 2 | Henry |<br>\n",
    "| 3 | Sam |<br>\n",
    "| 4 | Max |<br>\n",
    "+----+-------+<br>\n",
    "\n",
    "Table: Orders.<br>\n",
    "+----+------------+<br>\n",
    "| Id | CustomerId |<br>\n",
    "+----+------------+<br>\n",
    "| 1 | 3 |<br>\n",
    "| 2 | 1 |<br>\n",
    "+----+------------+<br>\n",
    "\n",
    "Using the above tables as example, return the following:<br>\n",
    "+-----------+<br>\n",
    "| Customers |<br>\n",
    "+-----------+<br>\n",
    "| Henry |<br>\n",
    "| Max |<br>\n",
    "+-----------+<br>"
   ]
  },
  {
   "cell_type": "code",
   "execution_count": 0,
   "metadata": {
    "application/vnd.databricks.v1+cell": {
     "cellMetadata": {
      "byteLimit": 2048000,
      "rowLimit": 10000
     },
     "inputWidgets": {},
     "nuid": "06d33686-c091-47cc-bf63-8fe658bfbe6e",
     "showTitle": false,
     "title": ""
    }
   },
   "outputs": [],
   "source": [
    "df_customers = (spark\n",
    "                .createDataFrame(\n",
    "                  data = [(1, 'Joe'), (2, 'Henry'), (3, 'Sam'), (4, 'Max')],\n",
    "                  schema = ['Id', 'Name']\n",
    "                  )\n",
    "                )\n",
    "\n",
    "df_orders = (spark\n",
    "             .createDataFrame(\n",
    "               data = [(1, 3), (2, 1)],\n",
    "               schema = ['Id', 'CustomerId']\n",
    "               )\n",
    "             )"
   ]
  },
  {
   "cell_type": "code",
   "execution_count": 0,
   "metadata": {
    "application/vnd.databricks.v1+cell": {
     "cellMetadata": {
      "byteLimit": 2048000,
      "rowLimit": 10000
     },
     "inputWidgets": {},
     "nuid": "1d41a47b-c342-4e5a-93a7-303574d59a57",
     "showTitle": false,
     "title": ""
    }
   },
   "outputs": [
    {
     "output_type": "display_data",
     "data": {
      "text/html": [
       "<style scoped>\n",
       "  .table-result-container {\n",
       "    max-height: 300px;\n",
       "    overflow: auto;\n",
       "  }\n",
       "  table, th, td {\n",
       "    border: 1px solid black;\n",
       "    border-collapse: collapse;\n",
       "  }\n",
       "  th, td {\n",
       "    padding: 5px;\n",
       "  }\n",
       "  th {\n",
       "    text-align: left;\n",
       "  }\n",
       "</style><div class='table-result-container'><table class='table-result'><thead style='background-color: white'><tr><th>Name</th></tr></thead><tbody><tr><td>Henry</td></tr><tr><td>Max</td></tr></tbody></table></div>"
      ]
     },
     "metadata": {
      "application/vnd.databricks.v1+output": {
       "addedWidgets": {},
       "aggData": [],
       "aggError": "",
       "aggOverflow": false,
       "aggSchema": [],
       "aggSeriesLimitReached": false,
       "aggType": "",
       "arguments": {},
       "columnCustomDisplayInfos": {},
       "data": [
        [
         "Henry"
        ],
        [
         "Max"
        ]
       ],
       "datasetInfos": [],
       "dbfsResultPath": null,
       "isJsonSchema": true,
       "metadata": {},
       "overflow": false,
       "plotOptions": {
        "customPlotOptions": {},
        "displayType": "table",
        "pivotAggregation": null,
        "pivotColumns": null,
        "xColumns": null,
        "yColumns": null
       },
       "removedWidgets": [],
       "schema": [
        {
         "metadata": "{}",
         "name": "Name",
         "type": "\"string\""
        }
       ],
       "type": "table"
      }
     },
     "output_type": "display_data"
    }
   ],
   "source": [
    "from pyspark.sql.functions import col\n",
    "\n",
    "df_no_order = (df_customers\n",
    "               .join(df_orders, df_customers[\"Id\"] == df_orders[\"CustomerId\"], 'left')\n",
    "               .select(\"Name\")\n",
    "               .filter(col(\"CustomerId\").isNull())\n",
    "               )\n",
    "\n",
    "display(df_no_order)"
   ]
  }
 ],
 "metadata": {
  "application/vnd.databricks.v1+notebook": {
   "dashboards": [],
   "language": "python",
   "notebookMetadata": {
    "pythonIndentUnit": 2
   },
   "notebookName": "183. Customers Who Never Order",
   "widgets": {}
  }
 },
 "nbformat": 4,
 "nbformat_minor": 0
}
