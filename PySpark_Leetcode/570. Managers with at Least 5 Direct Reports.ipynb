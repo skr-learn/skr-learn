{
 "cells": [
  {
   "cell_type": "markdown",
   "metadata": {
    "application/vnd.databricks.v1+cell": {
     "cellMetadata": {
      "byteLimit": 2048000,
      "rowLimit": 10000
     },
     "inputWidgets": {},
     "nuid": "8d47488b-b06c-4b4b-a3c2-f83f480c36d1",
     "showTitle": false,
     "title": ""
    }
   },
   "source": [
    "The Employee table holds all employees including their managers. Every employee has an Id, and there is also a column for the manager Id. <br>\n",
    "+------+----------+-----------+----------+ <br>\n",
    "|Id |Name |Department |ManagerId | <br>\n",
    "+------+----------+-----------+----------+ <br>\n",
    "|101 |John |A |null | <br>\n",
    "|102 |Dan |A |101 | <br>\n",
    "|103 |James |A |101 | <br>\n",
    "|104 |Amy |A |101 | <br>\n",
    "|105 |Anne |A |101 | <br>\n",
    "|106 |Ron |B |101 | <br>\n",
    "+------+----------+-----------+----------+ <br>\n",
    "**Given the Employee table, write a SQL query that finds out managers with at least 5 direct report. For the above table, your SQL query should return:** <br>\n",
    "+-------+ <br>\n",
    "| Name | <br>\n",
    "+-------+ <br>\n",
    "| John | <br>\n",
    "+-------+ <br>\n",
    "**Note**: No one would report to himself."
   ]
  },
  {
   "cell_type": "markdown",
   "metadata": {
    "application/vnd.databricks.v1+cell": {
     "cellMetadata": {
      "byteLimit": 2048000,
      "rowLimit": 10000
     },
     "inputWidgets": {},
     "nuid": "af0e67a5-2f92-4a96-9ee3-033a37d2da33",
     "showTitle": false,
     "title": ""
    }
   },
   "source": [
    "Creating dataset"
   ]
  },
  {
   "cell_type": "code",
   "execution_count": 0,
   "metadata": {
    "application/vnd.databricks.v1+cell": {
     "cellMetadata": {
      "byteLimit": 2048000,
      "rowLimit": 10000
     },
     "inputWidgets": {},
     "nuid": "0de7b232-7c4a-4250-812b-56f599626e6f",
     "showTitle": false,
     "title": ""
    }
   },
   "outputs": [
    {
     "output_type": "display_data",
     "data": {
      "text/html": [
       "<style scoped>\n",
       "  .table-result-container {\n",
       "    max-height: 300px;\n",
       "    overflow: auto;\n",
       "  }\n",
       "  table, th, td {\n",
       "    border: 1px solid black;\n",
       "    border-collapse: collapse;\n",
       "  }\n",
       "  th, td {\n",
       "    padding: 5px;\n",
       "  }\n",
       "  th {\n",
       "    text-align: left;\n",
       "  }\n",
       "</style><div class='table-result-container'><table class='table-result'><thead style='background-color: white'><tr><th>Id</th><th>Name</th><th>Department</th><th>ManagerId</th></tr></thead><tbody><tr><td>101</td><td>John</td><td>A</td><td>null</td></tr><tr><td>102</td><td>Dan</td><td>A</td><td>101</td></tr><tr><td>103</td><td>James</td><td>A</td><td>101</td></tr><tr><td>104</td><td>Amy</td><td>A</td><td>101</td></tr><tr><td>105</td><td>Anne</td><td>C</td><td>101</td></tr><tr><td>106</td><td>Dany</td><td>D</td><td>102</td></tr><tr><td>107</td><td>Jamy</td><td>D</td><td>102</td></tr><tr><td>108</td><td>Amno</td><td>C</td><td>101</td></tr><tr><td>109</td><td>Antony</td><td>B</td><td>102</td></tr><tr><td>110</td><td>Samy</td><td>B</td><td>103</td></tr><tr><td>111</td><td>Ronny</td><td>B</td><td>102</td></tr></tbody></table></div>"
      ]
     },
     "metadata": {
      "application/vnd.databricks.v1+output": {
       "addedWidgets": {},
       "aggData": [],
       "aggError": "",
       "aggOverflow": false,
       "aggSchema": [],
       "aggSeriesLimitReached": false,
       "aggType": "",
       "arguments": {},
       "columnCustomDisplayInfos": {},
       "data": [
        [
         101,
         "John",
         "A",
         null
        ],
        [
         102,
         "Dan",
         "A",
         101
        ],
        [
         103,
         "James",
         "A",
         101
        ],
        [
         104,
         "Amy",
         "A",
         101
        ],
        [
         105,
         "Anne",
         "C",
         101
        ],
        [
         106,
         "Dany",
         "D",
         102
        ],
        [
         107,
         "Jamy",
         "D",
         102
        ],
        [
         108,
         "Amno",
         "C",
         101
        ],
        [
         109,
         "Antony",
         "B",
         102
        ],
        [
         110,
         "Samy",
         "B",
         103
        ],
        [
         111,
         "Ronny",
         "B",
         102
        ]
       ],
       "datasetInfos": [],
       "dbfsResultPath": null,
       "isJsonSchema": true,
       "metadata": {},
       "overflow": false,
       "plotOptions": {
        "customPlotOptions": {},
        "displayType": "table",
        "pivotAggregation": null,
        "pivotColumns": null,
        "xColumns": null,
        "yColumns": null
       },
       "removedWidgets": [],
       "schema": [
        {
         "metadata": "{}",
         "name": "Id",
         "type": "\"integer\""
        },
        {
         "metadata": "{}",
         "name": "Name",
         "type": "\"string\""
        },
        {
         "metadata": "{}",
         "name": "Department",
         "type": "\"string\""
        },
        {
         "metadata": "{}",
         "name": "ManagerId",
         "type": "\"integer\""
        }
       ],
       "type": "table"
      }
     },
     "output_type": "display_data"
    }
   ],
   "source": [
    "from pyspark.sql.types import StructType, StructField, IntegerType, StringType\n",
    "\n",
    "# schema = StructType([\n",
    "#   StructField(\"Id\", IntegerType(), True),\n",
    "#   StructField(\"Name\", StringType(), True),\n",
    "#   StructField(\"Department\", StringType(), True),\n",
    "#   StructField(\"ManagerId\", IntegerType(), True)\n",
    "# ])\n",
    "schema = \"Id int, Name string, Department string, ManagerId int\"\n",
    "data = [(101, \"John\", \"A\", None), \n",
    "         (102, \"Dan\", \"A\", 101), \n",
    "         (103, \"James\", \"A\", 101), \n",
    "         (104, \"Amy\", \"A\", 101), \n",
    "         (105, \"Anne\", \"C\", 101), \n",
    "         (106, \"Dany\", \"D\", 102), \n",
    "         (107, \"Jamy\", \"D\", 102), \n",
    "         (108, \"Amno\", \"C\", 101), \n",
    "         (109, \"Antony\", \"B\", 102),\n",
    "         (110, \"Samy\", \"B\", 103),\n",
    "         (111, \"Ronny\", \"B\", 102)]\n",
    "\n",
    "df = spark.createDataFrame(data = data, schema = schema)\n",
    "\n",
    "df.display()"
   ]
  },
  {
   "cell_type": "code",
   "execution_count": 0,
   "metadata": {
    "application/vnd.databricks.v1+cell": {
     "cellMetadata": {
      "byteLimit": 2048000,
      "rowLimit": 10000
     },
     "inputWidgets": {},
     "nuid": "3106f35e-5c79-4e09-946f-59bc41d634f8",
     "showTitle": false,
     "title": ""
    }
   },
   "outputs": [
    {
     "output_type": "display_data",
     "data": {
      "text/html": [
       "<style scoped>\n",
       "  .table-result-container {\n",
       "    max-height: 300px;\n",
       "    overflow: auto;\n",
       "  }\n",
       "  table, th, td {\n",
       "    border: 1px solid black;\n",
       "    border-collapse: collapse;\n",
       "  }\n",
       "  th, td {\n",
       "    padding: 5px;\n",
       "  }\n",
       "  th {\n",
       "    text-align: left;\n",
       "  }\n",
       "</style><div class='table-result-container'><table class='table-result'><thead style='background-color: white'><tr><th>Name</th></tr></thead><tbody><tr><td>John</td></tr></tbody></table></div>"
      ]
     },
     "metadata": {
      "application/vnd.databricks.v1+output": {
       "addedWidgets": {},
       "aggData": [],
       "aggError": "",
       "aggOverflow": false,
       "aggSchema": [],
       "aggSeriesLimitReached": false,
       "aggType": "",
       "arguments": {},
       "columnCustomDisplayInfos": {},
       "data": [
        [
         "John"
        ]
       ],
       "datasetInfos": [],
       "dbfsResultPath": null,
       "isJsonSchema": true,
       "metadata": {},
       "overflow": false,
       "plotOptions": {
        "customPlotOptions": {},
        "displayType": "table",
        "pivotAggregation": null,
        "pivotColumns": null,
        "xColumns": null,
        "yColumns": null
       },
       "removedWidgets": [],
       "schema": [
        {
         "metadata": "{}",
         "name": "Name",
         "type": "\"string\""
        }
       ],
       "type": "table"
      }
     },
     "output_type": "display_data"
    }
   ],
   "source": [
    "from pyspark.sql.functions import col, count\n",
    "\n",
    "df_manager = (df.alias(\"df1\")\n",
    "              .join(df.alias(\"df2\"), col(\"df1.ManagerId\") == col(\"df2.Id\"), \"inner\")\n",
    "              .groupBy(\"df1.ManagerId\")\n",
    "              .agg(count(\"*\").alias(\"reportee_count\"))\n",
    "              .filter(\"reportee_count >= 5\")\n",
    "              .select(\"ManagerId\")\n",
    "              )\n",
    "\n",
    "df_manager_with_5reportee = (df_manager.alias(\"dfm\")\n",
    "                             .join(df.alias(\"dfe\"), col(\"dfm.ManagerId\") == col(\"dfe.Id\"), \"inner\")\n",
    "                             .select(\"dfe.Name\"))\n",
    "\n",
    "df_manager_with_5reportee.display()"
   ]
  }
 ],
 "metadata": {
  "application/vnd.databricks.v1+notebook": {
   "dashboards": [],
   "language": "python",
   "notebookMetadata": {
    "pythonIndentUnit": 2
   },
   "notebookName": "570. Managers with at Least 5 Direct Reports",
   "widgets": {}
  }
 },
 "nbformat": 4,
 "nbformat_minor": 0
}
