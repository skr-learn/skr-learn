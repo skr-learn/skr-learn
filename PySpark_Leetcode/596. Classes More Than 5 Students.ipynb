{
 "cells": [
  {
   "cell_type": "markdown",
   "metadata": {
    "application/vnd.databricks.v1+cell": {
     "cellMetadata": {},
     "inputWidgets": {},
     "nuid": "9dbe25b6-8ed8-449a-8539-1c79f9c64af5",
     "showTitle": false,
     "title": ""
    }
   },
   "source": [
    "There is a table courses with columns: student and class. For example, the table:\n",
    "\n",
    "| student | class |\n",
    "|----------|-----------|\n",
    "| A | Math |\n",
    "| B | English |\n",
    "| C | Math |\n",
    "| D | Biology |\n",
    "| E | Math |\n",
    "| F | Computer |\n",
    "| G | Math |\n",
    "| H | Math |\n",
    "| I | Math |\n",
    "\n",
    "Please list out all classes which have more than or equal to 5 students. Expected output:\n",
    "\n",
    "| class |\n",
    "|---------|\n",
    "| Math |\n",
    "\n",
    "Note:\n",
    "The students should not be counted duplicate in each course."
   ]
  },
  {
   "cell_type": "code",
   "execution_count": 0,
   "metadata": {
    "application/vnd.databricks.v1+cell": {
     "cellMetadata": {
      "byteLimit": 2048000,
      "rowLimit": 10000
     },
     "inputWidgets": {},
     "nuid": "1bb5a681-8d9d-4a19-a6f3-b24cf938a3b6",
     "showTitle": false,
     "title": ""
    }
   },
   "outputs": [
    {
     "output_type": "display_data",
     "data": {
      "text/html": [
       "<style scoped>\n",
       "  .table-result-container {\n",
       "    max-height: 300px;\n",
       "    overflow: auto;\n",
       "  }\n",
       "  table, th, td {\n",
       "    border: 1px solid black;\n",
       "    border-collapse: collapse;\n",
       "  }\n",
       "  th, td {\n",
       "    padding: 5px;\n",
       "  }\n",
       "  th {\n",
       "    text-align: left;\n",
       "  }\n",
       "</style><div class='table-result-container'><table class='table-result'><thead style='background-color: white'><tr><th>student</th><th>class</th></tr></thead><tbody><tr><td>A</td><td>Math</td></tr><tr><td>B</td><td>English</td></tr><tr><td>C</td><td>Math</td></tr><tr><td>D</td><td>Biology</td></tr><tr><td>E</td><td>Math</td></tr><tr><td>F</td><td>Computer</td></tr><tr><td>G</td><td>Math</td></tr><tr><td>H</td><td>Math</td></tr><tr><td>I</td><td>Math</td></tr></tbody></table></div>"
      ]
     },
     "metadata": {
      "application/vnd.databricks.v1+output": {
       "addedWidgets": {},
       "aggData": [],
       "aggError": "",
       "aggOverflow": false,
       "aggSchema": [],
       "aggSeriesLimitReached": false,
       "aggType": "",
       "arguments": {},
       "columnCustomDisplayInfos": {},
       "data": [
        [
         "A",
         "Math"
        ],
        [
         "B",
         "English"
        ],
        [
         "C",
         "Math"
        ],
        [
         "D",
         "Biology"
        ],
        [
         "E",
         "Math"
        ],
        [
         "F",
         "Computer"
        ],
        [
         "G",
         "Math"
        ],
        [
         "H",
         "Math"
        ],
        [
         "I",
         "Math"
        ]
       ],
       "datasetInfos": [],
       "dbfsResultPath": null,
       "isJsonSchema": true,
       "metadata": {},
       "overflow": false,
       "plotOptions": {
        "customPlotOptions": {},
        "displayType": "table",
        "pivotAggregation": null,
        "pivotColumns": null,
        "xColumns": null,
        "yColumns": null
       },
       "removedWidgets": [],
       "schema": [
        {
         "metadata": "{}",
         "name": "student",
         "type": "\"string\""
        },
        {
         "metadata": "{}",
         "name": "class",
         "type": "\"string\""
        }
       ],
       "type": "table"
      }
     },
     "output_type": "display_data"
    }
   ],
   "source": [
    "from pyspark.sql.types import StructField, StructType, StringType\n",
    "\n",
    "schema = StructType([\n",
    "    StructField(\"student\", StringType(), True),\n",
    "    StructField(\"class\", StringType(), True)\n",
    "    ])\n",
    "\n",
    "data = [(\"A\", \"Math\"),\n",
    "        (\"B\", \"English\"),\n",
    "        (\"C\", \"Math\"),\n",
    "        (\"D\", \"Biology\"),\n",
    "        (\"E\", \"Math\"),\n",
    "        (\"F\", \"Computer\"),\n",
    "        (\"G\", \"Math\"),\n",
    "        (\"H\", \"Math\"),\n",
    "        (\"I\", \"Math\")]\n",
    "\n",
    "df_courses = spark.createDataFrame(data, schema=schema)\n",
    "\n",
    "df_courses.display()"
   ]
  },
  {
   "cell_type": "code",
   "execution_count": 0,
   "metadata": {
    "application/vnd.databricks.v1+cell": {
     "cellMetadata": {
      "byteLimit": 2048000,
      "rowLimit": 10000
     },
     "inputWidgets": {},
     "nuid": "6205f59f-1f92-486f-9f78-35a7d3f6287c",
     "showTitle": false,
     "title": ""
    }
   },
   "outputs": [
    {
     "output_type": "display_data",
     "data": {
      "text/html": [
       "<style scoped>\n",
       "  .table-result-container {\n",
       "    max-height: 300px;\n",
       "    overflow: auto;\n",
       "  }\n",
       "  table, th, td {\n",
       "    border: 1px solid black;\n",
       "    border-collapse: collapse;\n",
       "  }\n",
       "  th, td {\n",
       "    padding: 5px;\n",
       "  }\n",
       "  th {\n",
       "    text-align: left;\n",
       "  }\n",
       "</style><div class='table-result-container'><table class='table-result'><thead style='background-color: white'><tr><th>class</th></tr></thead><tbody><tr><td>Math</td></tr></tbody></table></div>"
      ]
     },
     "metadata": {
      "application/vnd.databricks.v1+output": {
       "addedWidgets": {},
       "aggData": [],
       "aggError": "",
       "aggOverflow": false,
       "aggSchema": [],
       "aggSeriesLimitReached": false,
       "aggType": "",
       "arguments": {},
       "columnCustomDisplayInfos": {},
       "data": [
        [
         "Math"
        ]
       ],
       "datasetInfos": [],
       "dbfsResultPath": null,
       "isJsonSchema": true,
       "metadata": {},
       "overflow": false,
       "plotOptions": {
        "customPlotOptions": {},
        "displayType": "table",
        "pivotAggregation": null,
        "pivotColumns": null,
        "xColumns": null,
        "yColumns": null
       },
       "removedWidgets": [],
       "schema": [
        {
         "metadata": "{}",
         "name": "class",
         "type": "\"string\""
        }
       ],
       "type": "table"
      }
     },
     "output_type": "display_data"
    }
   ],
   "source": [
    "from pyspark.sql import functions as F\n",
    "\n",
    "df_class_count = df_courses.groupBy(\"class\").agg(F.count(\"Student\").alias(\"class_count\"))\n",
    "df_max_class = df_class_count.select(\"class\").filter(\"class_count >= 5\")\n",
    "\n",
    "display(df_max_class)"
   ]
  }
 ],
 "metadata": {
  "application/vnd.databricks.v1+notebook": {
   "dashboards": [],
   "language": "python",
   "notebookMetadata": {
    "pythonIndentUnit": 2
   },
   "notebookName": "596. Classes More Than 5 Students",
   "widgets": {}
  }
 },
 "nbformat": 4,
 "nbformat_minor": 0
}
