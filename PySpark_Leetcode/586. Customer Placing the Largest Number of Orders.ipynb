{
 "cells": [
  {
   "cell_type": "markdown",
   "metadata": {
    "application/vnd.databricks.v1+cell": {
     "cellMetadata": {},
     "inputWidgets": {},
     "nuid": "a2242ecc-bafc-4005-8775-017597a1fd7f",
     "showTitle": false,
     "title": ""
    }
   },
   "source": [
    "**Query the customer_number from the orders table for the customer who has placed the largest number of orders.**\n",
    "\n",
    "It is guaranteed that exactly one customer will have placed more orders than any other customer.\n",
    "\n",
    "The **orders** table is defined as follows:\n",
    "\n",
    "| Column | Type |\n",
    "|-------------------|-----------|\n",
    "| order_number (PK) | int |\n",
    "| customer_number | int |\n",
    "| order_date | date |\n",
    "| required_date | date |\n",
    "| shipped_date | date |\n",
    "| status | char(15) |\n",
    "| comment | char(200) |\n",
    "\n",
    "Sample **Input**:\n",
    "\n",
    "| order_number | customer_number | order_date | required_date | shipped_date | status | comment |\n",
    "|--------------|-----------------|------------|---------------|--------------|--------|---------|\n",
    "| 1 | 1 | 2017-04-09 | 2017-04-13 | 2017-04-12 | Closed | |\n",
    "| 2 | 2 | 2017-04-15 | 2017-04-20 | 2017-04-18 | Closed | |\n",
    "| 3 | 3 | 2017-04-16 | 2017-04-25 | 2017-04-20 | Closed | |\n",
    "| 4 | 3 | 2017-04-18 | 2017-04-28 | 2017-04-25 | Closed | |\n",
    "\n",
    "Sample **Output**:\n",
    "\n",
    "| customer_number |\n",
    "|-----------------|\n",
    "| 3 |\n",
    "\n",
    "Explanation:\n",
    "- The customer with number '3' has two orders, which is greater than either customer '1' or '2' because each of them only has one order. So the result is customer_number '3'.\n",
    "\n",
    "**Follow up**: What if more than one customer have the largest number of orders, can you find all the customer_number in this case?"
   ]
  },
  {
   "cell_type": "code",
   "execution_count": 0,
   "metadata": {
    "application/vnd.databricks.v1+cell": {
     "cellMetadata": {
      "byteLimit": 2048000,
      "rowLimit": 10000
     },
     "inputWidgets": {},
     "nuid": "cf08625f-e376-43ea-8d55-a862ac7634a2",
     "showTitle": false,
     "title": ""
    }
   },
   "outputs": [
    {
     "output_type": "display_data",
     "data": {
      "text/html": [
       "<style scoped>\n",
       "  .table-result-container {\n",
       "    max-height: 300px;\n",
       "    overflow: auto;\n",
       "  }\n",
       "  table, th, td {\n",
       "    border: 1px solid black;\n",
       "    border-collapse: collapse;\n",
       "  }\n",
       "  th, td {\n",
       "    padding: 5px;\n",
       "  }\n",
       "  th {\n",
       "    text-align: left;\n",
       "  }\n",
       "</style><div class='table-result-container'><table class='table-result'><thead style='background-color: white'><tr><th>order_number</th><th>customer_number</th><th>order_date</th><th>required_date</th><th>shipped_date</th><th>status</th><th>comment</th></tr></thead><tbody><tr><td>1</td><td>1</td><td>2017-04-09</td><td>2017-04-13</td><td>2017-04-12</td><td>Closed</td><td>null</td></tr><tr><td>2</td><td>2</td><td>2017-04-15</td><td>2017-04-20</td><td>2017-04-18</td><td>Closed</td><td>null</td></tr><tr><td>3</td><td>3</td><td>2017-04-16</td><td>2017-04-25</td><td>2017-04-20</td><td>Closed</td><td>null</td></tr><tr><td>4</td><td>3</td><td>2017-04-18</td><td>2017-04-28</td><td>2017-04-25</td><td>Closed</td><td>null</td></tr></tbody></table></div>"
      ]
     },
     "metadata": {
      "application/vnd.databricks.v1+output": {
       "addedWidgets": {},
       "aggData": [],
       "aggError": "",
       "aggOverflow": false,
       "aggSchema": [],
       "aggSeriesLimitReached": false,
       "aggType": "",
       "arguments": {},
       "columnCustomDisplayInfos": {},
       "data": [
        [
         1,
         1,
         "2017-04-09",
         "2017-04-13",
         "2017-04-12",
         "Closed",
         null
        ],
        [
         2,
         2,
         "2017-04-15",
         "2017-04-20",
         "2017-04-18",
         "Closed",
         null
        ],
        [
         3,
         3,
         "2017-04-16",
         "2017-04-25",
         "2017-04-20",
         "Closed",
         null
        ],
        [
         4,
         3,
         "2017-04-18",
         "2017-04-28",
         "2017-04-25",
         "Closed",
         null
        ]
       ],
       "datasetInfos": [],
       "dbfsResultPath": null,
       "isJsonSchema": true,
       "metadata": {},
       "overflow": false,
       "plotOptions": {
        "customPlotOptions": {},
        "displayType": "table",
        "pivotAggregation": null,
        "pivotColumns": null,
        "xColumns": null,
        "yColumns": null
       },
       "removedWidgets": [],
       "schema": [
        {
         "metadata": "{}",
         "name": "order_number",
         "type": "\"integer\""
        },
        {
         "metadata": "{}",
         "name": "customer_number",
         "type": "\"integer\""
        },
        {
         "metadata": "{}",
         "name": "order_date",
         "type": "\"date\""
        },
        {
         "metadata": "{}",
         "name": "required_date",
         "type": "\"date\""
        },
        {
         "metadata": "{}",
         "name": "shipped_date",
         "type": "\"date\""
        },
        {
         "metadata": "{}",
         "name": "status",
         "type": "\"string\""
        },
        {
         "metadata": "{}",
         "name": "comment",
         "type": "\"string\""
        }
       ],
       "type": "table"
      }
     },
     "output_type": "display_data"
    }
   ],
   "source": [
    "from pyspark.sql.functions import col, count\n",
    "from pyspark.sql.types import StructField, StructType, IntegerType, StringType, DateType\n",
    "\n",
    "schema = StructType([\n",
    "  StructField(\"order_number\", IntegerType(), True),\n",
    "  StructField(\"customer_number\", IntegerType(), True),\n",
    "  StructField(\"order_date\", StringType(), True),\n",
    "  StructField(\"required_date\", StringType(), True),\n",
    "  StructField(\"shipped_date\", StringType(), True),\n",
    "  StructField(\"status\", StringType(), True),\n",
    "  StructField(\"comment\", StringType(), True)\n",
    "])\n",
    "\n",
    "data = [(1, 1, \"2017-04-09\", \"2017-04-13\", \"2017-04-12\", \"Closed\", None),\n",
    "        (2, 2, \"2017-04-15\", \"2017-04-20\", \"2017-04-18\", \"Closed\", None),\n",
    "        (3, 3, \"2017-04-16\", \"2017-04-25\", \"2017-04-20\", \"Closed\", None),\n",
    "        (4, 3, \"2017-04-18\", \"2017-04-28\", \"2017-04-25\", \"Closed\", None)]\n",
    "\n",
    "df = spark.createDataFrame(data, schema)\n",
    "\n",
    "df = (df\n",
    "      .withColumn(\"order_date\", col(\"order_date\").cast(DateType()))\n",
    "      .withColumn(\"required_date\", col(\"required_date\").cast(DateType()))\n",
    "      .withColumn(\"shipped_date\", col(\"shipped_date\").cast(DateType()))\n",
    "      )\n",
    "\n",
    "display(df)"
   ]
  },
  {
   "cell_type": "markdown",
   "metadata": {
    "application/vnd.databricks.v1+cell": {
     "cellMetadata": {},
     "inputWidgets": {},
     "nuid": "e5bbbc05-a894-44af-ac3e-a304398bd3be",
     "showTitle": false,
     "title": ""
    }
   },
   "source": [
    "For exactly one customer will have placed more orders than any other customer."
   ]
  },
  {
   "cell_type": "code",
   "execution_count": 0,
   "metadata": {
    "application/vnd.databricks.v1+cell": {
     "cellMetadata": {
      "byteLimit": 2048000,
      "rowLimit": 10000
     },
     "inputWidgets": {},
     "nuid": "ff7cba80-a0fa-4245-ba5f-658cfda55a7b",
     "showTitle": false,
     "title": ""
    }
   },
   "outputs": [
    {
     "output_type": "display_data",
     "data": {
      "text/html": [
       "<style scoped>\n",
       "  .table-result-container {\n",
       "    max-height: 300px;\n",
       "    overflow: auto;\n",
       "  }\n",
       "  table, th, td {\n",
       "    border: 1px solid black;\n",
       "    border-collapse: collapse;\n",
       "  }\n",
       "  th, td {\n",
       "    padding: 5px;\n",
       "  }\n",
       "  th {\n",
       "    text-align: left;\n",
       "  }\n",
       "</style><div class='table-result-container'><table class='table-result'><thead style='background-color: white'><tr><th>customer_number</th></tr></thead><tbody><tr><td>3</td></tr></tbody></table></div>"
      ]
     },
     "metadata": {
      "application/vnd.databricks.v1+output": {
       "addedWidgets": {},
       "aggData": [],
       "aggError": "",
       "aggOverflow": false,
       "aggSchema": [],
       "aggSeriesLimitReached": false,
       "aggType": "",
       "arguments": {},
       "columnCustomDisplayInfos": {},
       "data": [
        [
         3
        ]
       ],
       "datasetInfos": [],
       "dbfsResultPath": null,
       "isJsonSchema": true,
       "metadata": {},
       "overflow": false,
       "plotOptions": {
        "customPlotOptions": {},
        "displayType": "table",
        "pivotAggregation": null,
        "pivotColumns": null,
        "xColumns": null,
        "yColumns": null
       },
       "removedWidgets": [],
       "schema": [
        {
         "metadata": "{}",
         "name": "customer_number",
         "type": "\"integer\""
        }
       ],
       "type": "table"
      }
     },
     "output_type": "display_data"
    }
   ],
   "source": [
    "df_order_cnt = df.groupBy(\"customer_number\").agg(count(\"*\").alias(\"cnt\"))\n",
    "\n",
    "df_top_order = df_order_cnt.orderBy(col(\"cnt\").desc()).select(\"customer_number\").limit(1)\n",
    "\n",
    "display(df_top_order)"
   ]
  },
  {
   "cell_type": "markdown",
   "metadata": {
    "application/vnd.databricks.v1+cell": {
     "cellMetadata": {},
     "inputWidgets": {},
     "nuid": "3b7d0e5d-2d05-4807-baf3-85ecc2fc9928",
     "showTitle": false,
     "title": ""
    }
   },
   "source": [
    "If more than one customer have the largest number of orders:"
   ]
  },
  {
   "cell_type": "code",
   "execution_count": 0,
   "metadata": {
    "application/vnd.databricks.v1+cell": {
     "cellMetadata": {
      "byteLimit": 2048000,
      "rowLimit": 10000
     },
     "inputWidgets": {},
     "nuid": "3b58a4a8-b40b-4335-95c7-2dac660938d0",
     "showTitle": false,
     "title": ""
    }
   },
   "outputs": [
    {
     "output_type": "display_data",
     "data": {
      "text/html": [
       "<style scoped>\n",
       "  .table-result-container {\n",
       "    max-height: 300px;\n",
       "    overflow: auto;\n",
       "  }\n",
       "  table, th, td {\n",
       "    border: 1px solid black;\n",
       "    border-collapse: collapse;\n",
       "  }\n",
       "  th, td {\n",
       "    padding: 5px;\n",
       "  }\n",
       "  th {\n",
       "    text-align: left;\n",
       "  }\n",
       "</style><div class='table-result-container'><table class='table-result'><thead style='background-color: white'><tr><th>customer_number</th></tr></thead><tbody><tr><td>3</td></tr></tbody></table></div>"
      ]
     },
     "metadata": {
      "application/vnd.databricks.v1+output": {
       "addedWidgets": {},
       "aggData": [],
       "aggError": "",
       "aggOverflow": false,
       "aggSchema": [],
       "aggSeriesLimitReached": false,
       "aggType": "",
       "arguments": {},
       "columnCustomDisplayInfos": {},
       "data": [
        [
         3
        ]
       ],
       "datasetInfos": [],
       "dbfsResultPath": null,
       "isJsonSchema": true,
       "metadata": {},
       "overflow": false,
       "plotOptions": {
        "customPlotOptions": {},
        "displayType": "table",
        "pivotAggregation": null,
        "pivotColumns": null,
        "xColumns": null,
        "yColumns": null
       },
       "removedWidgets": [],
       "schema": [
        {
         "metadata": "{}",
         "name": "customer_number",
         "type": "\"integer\""
        }
       ],
       "type": "table"
      }
     },
     "output_type": "display_data"
    }
   ],
   "source": [
    "from pyspark.sql import functions as F\n",
    "from pyspark.sql.window import Window\n",
    "\n",
    "windowSpec = Window.orderBy(col(\"cnt\").desc())\n",
    "df_top_orders = (df_order_cnt\n",
    "                 .withColumn(\"rank\", F.dense_rank().over(windowSpec))\n",
    "                 .select(\"customer_number\")\n",
    "                 .filter(\"rank = 1\")\n",
    "                 )\n",
    "\n",
    "df_top_orders.display()"
   ]
  }
 ],
 "metadata": {
  "application/vnd.databricks.v1+notebook": {
   "dashboards": [],
   "language": "python",
   "notebookMetadata": {
    "pythonIndentUnit": 2
   },
   "notebookName": "586. Customer Placing the Largest Number of Orders",
   "widgets": {}
  }
 },
 "nbformat": 4,
 "nbformat_minor": 0
}
