{
 "cells": [
  {
   "cell_type": "markdown",
   "metadata": {
    "application/vnd.databricks.v1+cell": {
     "cellMetadata": {},
     "inputWidgets": {},
     "nuid": "bf48be32-f61f-4dad-ab49-e46af3efb05a",
     "showTitle": false,
     "title": ""
    }
   },
   "source": [
    "Table: Activity <br>\n",
    "+--------------+---------+<br>\n",
    "| Column Name | Type |<br>\n",
    "+--------------+---------+<br>\n",
    "| player_id | int |<br>\n",
    "| device_id | int |<br>\n",
    "| event_date | date |<br>\n",
    "| games_played | int |<br>\n",
    "+--------------+---------+<br>\n",
    "- (player_id, event_date) is the primary key of this table.\n",
    "- This table shows the activity of players of some game.\n",
    "- Each row is a record of a player who logged in and played a number of games\n",
    "- (possibly 0) before logging out on some day using some device.\n",
    "\n",
    "##### Write a SQL query that reports the device that is first logged in for each player.\n",
    "The query result format is in the following example:<br>\n",
    "Activity table:<br>\n",
    "+-----------+-----------+------------+--------------+<br>\n",
    "| player_id | device_id | event_date | games_played |<br>\n",
    "+-----------+-----------+------------+--------------+<br>\n",
    "| 1 | 2 | 2016-03-01 | 5 |<br>\n",
    "| 1 | 2 | 2016-05-02 | 6 |<br>\n",
    "| 2 | 3 | 2017-06-25 | 1 |<br>\n",
    "| 3 | 1 | 2016-03-02 | 0 |<br>\n",
    "| 3 | 4 | 2018-07-03 | 5 |<br>\n",
    "+-----------+-----------+------------+--------------+<br>\n",
    "Result table:<br>\n",
    "+-----------+-----------+<br>\n",
    "| player_id | device_id |<br>\n",
    "+-----------+-----------+<br>\n",
    "| 1 | 2 |<br>\n",
    "| 2 | 3 |<br>\n",
    "| 3 | 1 |<br>\n",
    "+-----------+-----------+<br>"
   ]
  },
  {
   "cell_type": "markdown",
   "metadata": {
    "application/vnd.databricks.v1+cell": {
     "cellMetadata": {},
     "inputWidgets": {},
     "nuid": "24ace6f6-6879-41d5-ac89-ccfe30ce1643",
     "showTitle": false,
     "title": ""
    }
   },
   "source": [
    "##### PySpark Solution"
   ]
  },
  {
   "cell_type": "code",
   "execution_count": 0,
   "metadata": {
    "application/vnd.databricks.v1+cell": {
     "cellMetadata": {
      "byteLimit": 2048000,
      "rowLimit": 10000
     },
     "inputWidgets": {},
     "nuid": "9057d806-9a5c-47bd-80ad-0a086d665f40",
     "showTitle": false,
     "title": ""
    }
   },
   "outputs": [
    {
     "output_type": "display_data",
     "data": {
      "text/html": [
       "<style scoped>\n",
       "  .table-result-container {\n",
       "    max-height: 300px;\n",
       "    overflow: auto;\n",
       "  }\n",
       "  table, th, td {\n",
       "    border: 1px solid black;\n",
       "    border-collapse: collapse;\n",
       "  }\n",
       "  th, td {\n",
       "    padding: 5px;\n",
       "  }\n",
       "  th {\n",
       "    text-align: left;\n",
       "  }\n",
       "</style><div class='table-result-container'><table class='table-result'><thead style='background-color: white'><tr><th>player_id</th><th>device_id</th><th>event_date</th><th>games_played</th></tr></thead><tbody><tr><td>1</td><td>2</td><td>2016-03-01</td><td>5</td></tr><tr><td>1</td><td>2</td><td>2016-05-02</td><td>6</td></tr><tr><td>2</td><td>3</td><td>2017-06-25</td><td>1</td></tr><tr><td>3</td><td>1</td><td>2016-03-02</td><td>0</td></tr><tr><td>3</td><td>4</td><td>2018-07-03</td><td>5</td></tr></tbody></table></div>"
      ]
     },
     "metadata": {
      "application/vnd.databricks.v1+output": {
       "addedWidgets": {},
       "aggData": [],
       "aggError": "",
       "aggOverflow": false,
       "aggSchema": [],
       "aggSeriesLimitReached": false,
       "aggType": "",
       "arguments": {},
       "columnCustomDisplayInfos": {},
       "data": [
        [
         1,
         2,
         "2016-03-01",
         5
        ],
        [
         1,
         2,
         "2016-05-02",
         6
        ],
        [
         2,
         3,
         "2017-06-25",
         1
        ],
        [
         3,
         1,
         "2016-03-02",
         0
        ],
        [
         3,
         4,
         "2018-07-03",
         5
        ]
       ],
       "datasetInfos": [],
       "dbfsResultPath": null,
       "isJsonSchema": true,
       "metadata": {},
       "overflow": false,
       "plotOptions": {
        "customPlotOptions": {},
        "displayType": "table",
        "pivotAggregation": null,
        "pivotColumns": null,
        "xColumns": null,
        "yColumns": null
       },
       "removedWidgets": [],
       "schema": [
        {
         "metadata": "{}",
         "name": "player_id",
         "type": "\"integer\""
        },
        {
         "metadata": "{}",
         "name": "device_id",
         "type": "\"integer\""
        },
        {
         "metadata": "{}",
         "name": "event_date",
         "type": "\"date\""
        },
        {
         "metadata": "{}",
         "name": "games_played",
         "type": "\"integer\""
        }
       ],
       "type": "table"
      }
     },
     "output_type": "display_data"
    }
   ],
   "source": [
    "from pyspark.sql.types import DateType\n",
    "schema = \"player_id int, device_id int, event_date string, games_played int\"\n",
    "data = [(1,\t2, \"2016-03-01\", 5),\n",
    "        (1,\t2, \"2016-05-02\", 6),\n",
    "        (2,\t3, \"2017-06-25\", 1),\n",
    "        (3,\t1, \"2016-03-02\", 0),\n",
    "        (3,\t4, \"2018-07-03\", 5)]\n",
    "\n",
    "df = spark.createDataFrame(data = data, schema = schema)\n",
    "\n",
    "df = df.withColumn(\"event_date\", df[\"event_date\"].cast(DateType()))\n",
    "df.display()"
   ]
  },
  {
   "cell_type": "code",
   "execution_count": 0,
   "metadata": {
    "application/vnd.databricks.v1+cell": {
     "cellMetadata": {
      "byteLimit": 2048000,
      "rowLimit": 10000
     },
     "inputWidgets": {},
     "nuid": "5d91c981-ae06-4ae2-bca2-8b7542bba9f8",
     "showTitle": false,
     "title": ""
    }
   },
   "outputs": [
    {
     "output_type": "stream",
     "name": "stdout",
     "output_type": "stream",
     "text": [
      "+---------+---------+\n|player_id|device_id|\n+---------+---------+\n|        1|        2|\n|        2|        3|\n|        3|        1|\n+---------+---------+\n\n"
     ]
    }
   ],
   "source": [
    "from pyspark.sql.window import Window\n",
    "from pyspark.sql.functions import rank\n",
    "\n",
    "windowSpec = Window.partitionBy(\"player_id\").orderBy(\"event_date\")\n",
    "\n",
    "df2 = (df\n",
    "       .withColumn(\"rank\", rank().over(windowSpec))\n",
    "       .select(\"player_id\", \"device_id\")\n",
    "       .filter(\"rank = 1\")\n",
    "       )\n",
    "\n",
    "df2.show()"
   ]
  }
 ],
 "metadata": {
  "application/vnd.databricks.v1+notebook": {
   "dashboards": [],
   "language": "python",
   "notebookMetadata": {
    "pythonIndentUnit": 2
   },
   "notebookName": "512. Game Play Analysis II",
   "widgets": {}
  }
 },
 "nbformat": 4,
 "nbformat_minor": 0
}
