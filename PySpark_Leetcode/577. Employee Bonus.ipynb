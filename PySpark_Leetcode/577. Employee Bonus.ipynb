{
 "cells": [
  {
   "cell_type": "markdown",
   "metadata": {
    "application/vnd.databricks.v1+cell": {
     "cellMetadata": {},
     "inputWidgets": {},
     "nuid": "7a0eeac4-4ed2-44ba-8bc2-8ee828b1429f",
     "showTitle": false,
     "title": ""
    }
   },
   "source": [
    "Table:Employee\n",
    "\n",
    "| empId | name | supervisor| salary |\n",
    "|-------|------|-----------|---------|\n",
    "| 1 | John | 3 | 1000 |\n",
    "| 2 | Dan | 3 | 2000 |\n",
    "| 3 | Brad | null | 4000 |\n",
    "| 4 | Thomas | 3 | 4000 |\n",
    "- empId is the primary key column for this table.\n",
    "\n",
    "Table: Bonus\n",
    "\n",
    "| empId | bonus |\n",
    "|-------|-------|\n",
    "| 2 | 500 |\n",
    "| 4 | 2000 |\n",
    "- empId is the primary key column for this table.\n",
    "\n",
    "**Select all employee's name and bonus whose bonus is < 1000.**\n",
    "\n",
    "Example ouput:\n",
    "\n",
    "| name | bonus |\n",
    "|-------|-------|\n",
    "| John | null |\n",
    "| Dan | 500 |\n",
    "| Brad | null |\n"
   ]
  },
  {
   "cell_type": "code",
   "execution_count": 0,
   "metadata": {
    "application/vnd.databricks.v1+cell": {
     "cellMetadata": {
      "byteLimit": 2048000,
      "rowLimit": 10000
     },
     "inputWidgets": {},
     "nuid": "27b47e9c-60f4-4d06-9653-2e0194d6ba1f",
     "showTitle": false,
     "title": ""
    }
   },
   "outputs": [
    {
     "output_type": "display_data",
     "data": {
      "text/html": [
       "<style scoped>\n",
       "  .table-result-container {\n",
       "    max-height: 300px;\n",
       "    overflow: auto;\n",
       "  }\n",
       "  table, th, td {\n",
       "    border: 1px solid black;\n",
       "    border-collapse: collapse;\n",
       "  }\n",
       "  th, td {\n",
       "    padding: 5px;\n",
       "  }\n",
       "  th {\n",
       "    text-align: left;\n",
       "  }\n",
       "</style><div class='table-result-container'><table class='table-result'><thead style='background-color: white'><tr><th>empId</th><th>name</th><th>supervisor</th><th>salary</th></tr></thead><tbody><tr><td>1</td><td>John</td><td>3</td><td>1000</td></tr><tr><td>2</td><td>Dan</td><td>3</td><td>2000</td></tr><tr><td>3</td><td>Brad</td><td>null</td><td>4000</td></tr><tr><td>4</td><td>Thomas</td><td>3</td><td>4000</td></tr></tbody></table></div>"
      ]
     },
     "metadata": {
      "application/vnd.databricks.v1+output": {
       "addedWidgets": {},
       "aggData": [],
       "aggError": "",
       "aggOverflow": false,
       "aggSchema": [],
       "aggSeriesLimitReached": false,
       "aggType": "",
       "arguments": {},
       "columnCustomDisplayInfos": {},
       "data": [
        [
         1,
         "John",
         3,
         1000
        ],
        [
         2,
         "Dan",
         3,
         2000
        ],
        [
         3,
         "Brad",
         null,
         4000
        ],
        [
         4,
         "Thomas",
         3,
         4000
        ]
       ],
       "datasetInfos": [],
       "dbfsResultPath": null,
       "isJsonSchema": true,
       "metadata": {},
       "overflow": false,
       "plotOptions": {
        "customPlotOptions": {},
        "displayType": "table",
        "pivotAggregation": null,
        "pivotColumns": null,
        "xColumns": null,
        "yColumns": null
       },
       "removedWidgets": [],
       "schema": [
        {
         "metadata": "{}",
         "name": "empId",
         "type": "\"integer\""
        },
        {
         "metadata": "{}",
         "name": "name",
         "type": "\"string\""
        },
        {
         "metadata": "{}",
         "name": "supervisor",
         "type": "\"integer\""
        },
        {
         "metadata": "{}",
         "name": "salary",
         "type": "\"integer\""
        }
       ],
       "type": "table"
      }
     },
     "output_type": "display_data"
    }
   ],
   "source": [
    "schema_emp = \"empId int, name string, supervisor int, salary int\"\n",
    "data_emp = [(1, \"John\",\t3,\t1000),\n",
    "        (2, \"Dan\",\t3,\t2000),\n",
    "        (3, \"Brad\",\tNone,\t4000),\n",
    "        (4, \"Thomas\",\t3,\t4000)]\n",
    "\n",
    "df_emp = spark.createDataFrame(data = data_emp, schema = schema_emp)\n",
    "\n",
    "display(df_emp)"
   ]
  },
  {
   "cell_type": "code",
   "execution_count": 0,
   "metadata": {
    "application/vnd.databricks.v1+cell": {
     "cellMetadata": {
      "byteLimit": 2048000,
      "rowLimit": 10000
     },
     "inputWidgets": {},
     "nuid": "de9cb6f0-2f72-40a0-a611-cc3cc90b6e60",
     "showTitle": false,
     "title": ""
    }
   },
   "outputs": [
    {
     "output_type": "display_data",
     "data": {
      "text/html": [
       "<style scoped>\n",
       "  .table-result-container {\n",
       "    max-height: 300px;\n",
       "    overflow: auto;\n",
       "  }\n",
       "  table, th, td {\n",
       "    border: 1px solid black;\n",
       "    border-collapse: collapse;\n",
       "  }\n",
       "  th, td {\n",
       "    padding: 5px;\n",
       "  }\n",
       "  th {\n",
       "    text-align: left;\n",
       "  }\n",
       "</style><div class='table-result-container'><table class='table-result'><thead style='background-color: white'><tr><th>empId</th><th>bonus</th></tr></thead><tbody><tr><td>2</td><td>500</td></tr><tr><td>4</td><td>2000</td></tr></tbody></table></div>"
      ]
     },
     "metadata": {
      "application/vnd.databricks.v1+output": {
       "addedWidgets": {},
       "aggData": [],
       "aggError": "",
       "aggOverflow": false,
       "aggSchema": [],
       "aggSeriesLimitReached": false,
       "aggType": "",
       "arguments": {},
       "columnCustomDisplayInfos": {},
       "data": [
        [
         2,
         500
        ],
        [
         4,
         2000
        ]
       ],
       "datasetInfos": [],
       "dbfsResultPath": null,
       "isJsonSchema": true,
       "metadata": {},
       "overflow": false,
       "plotOptions": {
        "customPlotOptions": {},
        "displayType": "table",
        "pivotAggregation": null,
        "pivotColumns": null,
        "xColumns": null,
        "yColumns": null
       },
       "removedWidgets": [],
       "schema": [
        {
         "metadata": "{}",
         "name": "empId",
         "type": "\"integer\""
        },
        {
         "metadata": "{}",
         "name": "bonus",
         "type": "\"integer\""
        }
       ],
       "type": "table"
      }
     },
     "output_type": "display_data"
    }
   ],
   "source": [
    "schema_bonus = \"empId int, bonus int\"\n",
    "data_bonus = [(2, 500), (4, 2000)]\n",
    "df_bonus = spark.createDataFrame(data_bonus, schema_bonus)\n",
    "display(df_bonus)"
   ]
  },
  {
   "cell_type": "code",
   "execution_count": 0,
   "metadata": {
    "application/vnd.databricks.v1+cell": {
     "cellMetadata": {
      "byteLimit": 2048000,
      "rowLimit": 10000
     },
     "inputWidgets": {},
     "nuid": "e819155b-c30a-479f-8155-afde490e676e",
     "showTitle": false,
     "title": ""
    }
   },
   "outputs": [
    {
     "output_type": "display_data",
     "data": {
      "text/html": [
       "<style scoped>\n",
       "  .table-result-container {\n",
       "    max-height: 300px;\n",
       "    overflow: auto;\n",
       "  }\n",
       "  table, th, td {\n",
       "    border: 1px solid black;\n",
       "    border-collapse: collapse;\n",
       "  }\n",
       "  th, td {\n",
       "    padding: 5px;\n",
       "  }\n",
       "  th {\n",
       "    text-align: left;\n",
       "  }\n",
       "</style><div class='table-result-container'><table class='table-result'><thead style='background-color: white'><tr><th>name</th><th>bonus</th></tr></thead><tbody><tr><td>John</td><td>null</td></tr><tr><td>Dan</td><td>500</td></tr><tr><td>Brad</td><td>null</td></tr></tbody></table></div>"
      ]
     },
     "metadata": {
      "application/vnd.databricks.v1+output": {
       "addedWidgets": {},
       "aggData": [],
       "aggError": "",
       "aggOverflow": false,
       "aggSchema": [],
       "aggSeriesLimitReached": false,
       "aggType": "",
       "arguments": {},
       "columnCustomDisplayInfos": {},
       "data": [
        [
         "John",
         null
        ],
        [
         "Dan",
         500
        ],
        [
         "Brad",
         null
        ]
       ],
       "datasetInfos": [],
       "dbfsResultPath": null,
       "isJsonSchema": true,
       "metadata": {},
       "overflow": false,
       "plotOptions": {
        "customPlotOptions": {},
        "displayType": "table",
        "pivotAggregation": null,
        "pivotColumns": null,
        "xColumns": null,
        "yColumns": null
       },
       "removedWidgets": [],
       "schema": [
        {
         "metadata": "{}",
         "name": "name",
         "type": "\"string\""
        },
        {
         "metadata": "{}",
         "name": "bonus",
         "type": "\"integer\""
        }
       ],
       "type": "table"
      }
     },
     "output_type": "display_data"
    }
   ],
   "source": [
    "df_bonus_less_than_1000 = (df_emp\n",
    "                           .join(df_bonus, [\"empId\"], \"left\")\n",
    "                           .filter(\"bonus < 1000 or bonus is null\")\n",
    "                           .select(\"name\", \"bonus\")\n",
    "                           )\n",
    "                           \n",
    "df_bonus_less_than_1000.display()"
   ]
  }
 ],
 "metadata": {
  "application/vnd.databricks.v1+notebook": {
   "dashboards": [],
   "language": "python",
   "notebookMetadata": {
    "pythonIndentUnit": 2
   },
   "notebookName": "577. Employee Bonus",
   "widgets": {}
  }
 },
 "nbformat": 4,
 "nbformat_minor": 0
}
