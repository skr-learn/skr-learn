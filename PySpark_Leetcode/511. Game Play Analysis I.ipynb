{
 "cells": [
  {
   "cell_type": "markdown",
   "metadata": {
    "application/vnd.databricks.v1+cell": {
     "cellMetadata": {},
     "inputWidgets": {},
     "nuid": "bfab6a1e-7aff-4546-9b09-adddea2263c2",
     "showTitle": false,
     "title": ""
    }
   },
   "source": [
    "Table: Activity\n",
    "| Column Name |    Type    |<br>",
    "|-------------|------------|<br>",
    "| player_id   | int        |<br>",
    "| device_id   | int        |<br>",
    "| event_date  | date       |<br>",
    "| games_played| int        |<br>",
    "\n",
    "- (player_id, event_date) is the primary key of this table.\n",
    "- This table shows the activity of players of some game.\n",
    "- Each row is a record of a player who logged in and played a number of games\n",
    "- (possibly 0) before logging out on some day using some device.\n",
    "\n",
    "##### Write an SQL query that reports the first login date for each player.\n",
    "\n",
    "The query result format is in the following example:\n",
    "\n",
    "Activity table:\n",
    "| player_id | device_id | event_date | games_played |<br>",
    "|-----------|-----------|------------|--------------|<br>",
    "| 1         | 2         | 2016-03-01 | 5            |<br>",
    "| 1         | 2         | 2016-05-02 | 6            |<br>",
    "| 2         | 3         | 2017-06-25 | 1            |<br>",
    "| 3         | 1         | 2016-03-02 | 0            |<br>",
    "| 3         | 4         | 2018-07-03 | 5            |<br>",
    "\n",
    "Result table: \n",
    "| player_id | first_login |<br>",
    "|-----------|-------------|<br>",
    "| 1         | 2016-03-01  |<br>",
    "| 2         | 2017-06-25  |<br>",
    "| 3         | 2016-03-02  |<br>"
   ]
  },
  {
   "cell_type": "markdown",
   "metadata": {
    "application/vnd.databricks.v1+cell": {
     "cellMetadata": {},
     "inputWidgets": {},
     "nuid": "b62573eb-ff95-4806-9c2e-5e5976006455",
     "showTitle": false,
     "title": ""
    }
   },
   "source": [
    "##### PySpark Solution"
   ]
  },
  {
   "cell_type": "code",
   "execution_count": 0,
   "metadata": {
    "application/vnd.databricks.v1+cell": {
     "cellMetadata": {
      "byteLimit": 2048000,
      "rowLimit": 10000
     },
     "inputWidgets": {},
     "nuid": "c047a9e4-b517-481c-adf4-d0c5430d59b9",
     "showTitle": false,
     "title": ""
    }
   },
   "outputs": [
    {
     "output_type": "display_data",
     "data": {
      "text/html": [
       "<style scoped>\n",
       "  .table-result-container {\n",
       "    max-height: 300px;\n",
       "    overflow: auto;\n",
       "  }\n",
       "  table, th, td {\n",
       "    border: 1px solid black;\n",
       "    border-collapse: collapse;\n",
       "  }\n",
       "  th, td {\n",
       "    padding: 5px;\n",
       "  }\n",
       "  th {\n",
       "    text-align: left;\n",
       "  }\n",
       "</style><div class='table-result-container'><table class='table-result'><thead style='background-color: white'><tr><th>player_id</th><th>device_id</th><th>event_date</th><th>games_played</th></tr></thead><tbody><tr><td>1</td><td>2</td><td>2016-03-01</td><td>5</td></tr><tr><td>1</td><td>2</td><td>2016-05-02</td><td>6</td></tr><tr><td>2</td><td>3</td><td>2017-06-25</td><td>1</td></tr><tr><td>3</td><td>1</td><td>2016-03-02</td><td>0</td></tr><tr><td>3</td><td>4</td><td>2018-07-03</td><td>5</td></tr></tbody></table></div>"
      ]
     },
     "metadata": {
      "application/vnd.databricks.v1+output": {
       "addedWidgets": {},
       "aggData": [],
       "aggError": "",
       "aggOverflow": false,
       "aggSchema": [],
       "aggSeriesLimitReached": false,
       "aggType": "",
       "arguments": {},
       "columnCustomDisplayInfos": {},
       "data": [
        [
         1,
         2,
         "2016-03-01",
         5
        ],
        [
         1,
         2,
         "2016-05-02",
         6
        ],
        [
         2,
         3,
         "2017-06-25",
         1
        ],
        [
         3,
         1,
         "2016-03-02",
         0
        ],
        [
         3,
         4,
         "2018-07-03",
         5
        ]
       ],
       "datasetInfos": [],
       "dbfsResultPath": null,
       "isJsonSchema": true,
       "metadata": {},
       "overflow": false,
       "plotOptions": {
        "customPlotOptions": {},
        "displayType": "table",
        "pivotAggregation": null,
        "pivotColumns": null,
        "xColumns": null,
        "yColumns": null
       },
       "removedWidgets": [],
       "schema": [
        {
         "metadata": "{}",
         "name": "player_id",
         "type": "\"integer\""
        },
        {
         "metadata": "{}",
         "name": "device_id",
         "type": "\"integer\""
        },
        {
         "metadata": "{}",
         "name": "event_date",
         "type": "\"date\""
        },
        {
         "metadata": "{}",
         "name": "games_played",
         "type": "\"integer\""
        }
       ],
       "type": "table"
      }
     },
     "output_type": "display_data"
    }
   ],
   "source": [
    "# from pyspark.sql.types import StructType, StructField, IntegerType, DateType\n",
    "\n",
    "# schema = StructType([\n",
    "#   StructField(\"player_id\", IntegerType(), True),\n",
    "#   StructField(\"device_id\", IntegerType(), True),\n",
    "#   StructField(\"event_date\", DateType(), True),\n",
    "#   StructField(\"games_played\", IntegerType(), True)\n",
    "# ])\n",
    "\n",
    "schema = \"player_id int, device_id int, event_date string, games_played int\"\n",
    "data = [(1,\t2, \"2016-03-01\", 5),\n",
    "        (1,\t2, \"2016-05-02\", 6),\n",
    "        (2,\t3, \"2017-06-25\", 1),\n",
    "        (3,\t1, \"2016-03-02\", 0),\n",
    "        (3,\t4, \"2018-07-03\", 5)]\n",
    "\n",
    "df = spark.createDataFrame(data = data, schema = schema)\n",
    "\n",
    "df = df.withColumn(\"event_date\", df[\"event_date\"].cast(DateType()))\n",
    "df.display()"
   ]
  },
  {
   "cell_type": "code",
   "execution_count": 0,
   "metadata": {
    "application/vnd.databricks.v1+cell": {
     "cellMetadata": {
      "byteLimit": 2048000,
      "rowLimit": 10000
     },
     "inputWidgets": {},
     "nuid": "b24879dc-c5d8-463b-a46a-83cadf1203b5",
     "showTitle": false,
     "title": ""
    }
   },
   "outputs": [
    {
     "output_type": "display_data",
     "data": {
      "text/html": [
       "<style scoped>\n",
       "  .table-result-container {\n",
       "    max-height: 300px;\n",
       "    overflow: auto;\n",
       "  }\n",
       "  table, th, td {\n",
       "    border: 1px solid black;\n",
       "    border-collapse: collapse;\n",
       "  }\n",
       "  th, td {\n",
       "    padding: 5px;\n",
       "  }\n",
       "  th {\n",
       "    text-align: left;\n",
       "  }\n",
       "</style><div class='table-result-container'><table class='table-result'><thead style='background-color: white'><tr><th>player_id</th></tr></thead><tbody><tr><td>1</td></tr><tr><td>2</td></tr><tr><td>3</td></tr></tbody></table></div>"
      ]
     },
     "metadata": {
      "application/vnd.databricks.v1+output": {
       "addedWidgets": {},
       "aggData": [],
       "aggError": "",
       "aggOverflow": false,
       "aggSchema": [],
       "aggSeriesLimitReached": false,
       "aggType": "",
       "arguments": {},
       "columnCustomDisplayInfos": {},
       "data": [
        [
         1
        ],
        [
         2
        ],
        [
         3
        ]
       ],
       "datasetInfos": [],
       "dbfsResultPath": null,
       "isJsonSchema": true,
       "metadata": {},
       "overflow": false,
       "plotOptions": {
        "customPlotOptions": {},
        "displayType": "table",
        "pivotAggregation": null,
        "pivotColumns": null,
        "xColumns": null,
        "yColumns": null
       },
       "removedWidgets": [],
       "schema": [
        {
         "metadata": "{}",
         "name": "player_id",
         "type": "\"integer\""
        }
       ],
       "type": "table"
      }
     },
     "output_type": "display_data"
    }
   ],
   "source": [
    "from pyspark.sql.functions import rank\n",
    "from pyspark.sql.window import Window\n",
    "\n",
    "windowSpec = Window.partitionBy(\"player_id\").orderBy(\"event_date\")\n",
    "\n",
    "df2 = (df\n",
    "       .withColumn(\"rank\", rank().over(windowSpec))\n",
    "       .select(\"player_id\")\n",
    "       .filter(\"rank = 1\")\n",
    "       )\n",
    "\n",
    "df2.display()"
   ]
  }
 ],
 "metadata": {
  "application/vnd.databricks.v1+notebook": {
   "dashboards": [],
   "language": "python",
   "notebookMetadata": {
    "pythonIndentUnit": 2
   },
   "notebookName": "511. Game Play Analysis I",
   "widgets": {}
  }
 },
 "nbformat": 4,
 "nbformat_minor": 0
}
