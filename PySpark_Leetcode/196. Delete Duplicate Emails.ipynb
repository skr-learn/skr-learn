{
 "cells": [
  {
   "cell_type": "markdown",
   "metadata": {
    "application/vnd.databricks.v1+cell": {
     "cellMetadata": {},
     "inputWidgets": {},
     "nuid": "3a50046b-bfb0-40e5-b22b-d5862292f6f8",
     "showTitle": false,
     "title": ""
    }
   },
   "source": [
    "\n",
    "##### Write a SQL query to delete all duplicate email entries in a table named Person, keeping only unique emails based on its smallest Id. <br>\n",
    "+----+------------------+<br>\n",
    "| Id | Email |<br>\n",
    "+----+------------------+<br>\n",
    "| 1 | john@example.com |<br>\n",
    "| 2 | bob@example.com |<br>\n",
    "| 3 | john@example.com |<br>\n",
    "| 4 | sam@example.com |<br>\n",
    "+----+------------------+<br>\n",
    "Id is the primary key column for this table.<br>\n",
    "\n",
    "For example, after running your query, the above Person table should have the following rows:<br>\n",
    "+----+------------------+<br>\n",
    "| Id | Email |<br>\n",
    "+----+------------------+<br>\n",
    "| 1 | john@example.com |<br>\n",
    "| 2 | bob@example.com |<br>\n",
    "+----+------------------+<br>\n",
    "\n",
    "Note:\n",
    "Your output is the whole Person table after executing your sql. Use delete statement."
   ]
  },
  {
   "cell_type": "markdown",
   "metadata": {
    "application/vnd.databricks.v1+cell": {
     "cellMetadata": {},
     "inputWidgets": {},
     "nuid": "585aca6e-be3a-4ab1-b7e1-7cefd1313b11",
     "showTitle": false,
     "title": ""
    }
   },
   "source": [
    "##### PySpark Solution"
   ]
  },
  {
   "cell_type": "code",
   "execution_count": 0,
   "metadata": {
    "application/vnd.databricks.v1+cell": {
     "cellMetadata": {
      "byteLimit": 2048000,
      "rowLimit": 10000
     },
     "inputWidgets": {},
     "nuid": "e046604d-49a5-45b2-a786-333294d88336",
     "showTitle": false,
     "title": ""
    }
   },
   "outputs": [
    {
     "output_type": "display_data",
     "data": {
      "text/html": [
       "<style scoped>\n",
       "  .table-result-container {\n",
       "    max-height: 300px;\n",
       "    overflow: auto;\n",
       "  }\n",
       "  table, th, td {\n",
       "    border: 1px solid black;\n",
       "    border-collapse: collapse;\n",
       "  }\n",
       "  th, td {\n",
       "    padding: 5px;\n",
       "  }\n",
       "  th {\n",
       "    text-align: left;\n",
       "  }\n",
       "</style><div class='table-result-container'><table class='table-result'><thead style='background-color: white'><tr><th>Id</th><th>Email</th></tr></thead><tbody><tr><td>1</td><td>john@example.com</td></tr><tr><td>2</td><td>rob@example.com</td></tr><tr><td>3</td><td>john@example.com</td></tr><tr><td>4</td><td>sam@example.com</td></tr></tbody></table></div>"
      ]
     },
     "metadata": {
      "application/vnd.databricks.v1+output": {
       "addedWidgets": {},
       "aggData": [],
       "aggError": "",
       "aggOverflow": false,
       "aggSchema": [],
       "aggSeriesLimitReached": false,
       "aggType": "",
       "arguments": {},
       "columnCustomDisplayInfos": {},
       "data": [
        [
         1,
         "john@example.com"
        ],
        [
         2,
         "rob@example.com"
        ],
        [
         3,
         "john@example.com"
        ],
        [
         4,
         "sam@example.com"
        ]
       ],
       "datasetInfos": [],
       "dbfsResultPath": null,
       "isJsonSchema": true,
       "metadata": {},
       "overflow": false,
       "plotOptions": {
        "customPlotOptions": {},
        "displayType": "table",
        "pivotAggregation": null,
        "pivotColumns": null,
        "xColumns": null,
        "yColumns": null
       },
       "removedWidgets": [],
       "schema": [
        {
         "metadata": "{}",
         "name": "Id",
         "type": "\"long\""
        },
        {
         "metadata": "{}",
         "name": "Email",
         "type": "\"string\""
        }
       ],
       "type": "table"
      }
     },
     "output_type": "display_data"
    }
   ],
   "source": [
    "df = (spark\n",
    "      .createDataFrame(\n",
    "        data = [(1, \"john@example.com\"), (2, \"rob@example.com\"), (3, \"john@example.com\"), (4, \"sam@example.com\")],\n",
    "        schema = [\"Id\", \"Email\"]\n",
    "        )\n",
    "      )\n",
    "\n",
    "display(df)"
   ]
  },
  {
   "cell_type": "code",
   "execution_count": 0,
   "metadata": {
    "application/vnd.databricks.v1+cell": {
     "cellMetadata": {
      "byteLimit": 2048000,
      "rowLimit": 10000
     },
     "inputWidgets": {},
     "nuid": "32b0efd6-40f1-4052-92cb-0005706dfb28",
     "showTitle": false,
     "title": ""
    }
   },
   "outputs": [
    {
     "output_type": "display_data",
     "data": {
      "text/html": [
       "<style scoped>\n",
       "  .table-result-container {\n",
       "    max-height: 300px;\n",
       "    overflow: auto;\n",
       "  }\n",
       "  table, th, td {\n",
       "    border: 1px solid black;\n",
       "    border-collapse: collapse;\n",
       "  }\n",
       "  th, td {\n",
       "    padding: 5px;\n",
       "  }\n",
       "  th {\n",
       "    text-align: left;\n",
       "  }\n",
       "</style><div class='table-result-container'><table class='table-result'><thead style='background-color: white'><tr><th>Id</th><th>Email</th></tr></thead><tbody><tr><td>1</td><td>john@example.com</td></tr><tr><td>2</td><td>rob@example.com</td></tr><tr><td>4</td><td>sam@example.com</td></tr></tbody></table></div>"
      ]
     },
     "metadata": {
      "application/vnd.databricks.v1+output": {
       "addedWidgets": {},
       "aggData": [],
       "aggError": "",
       "aggOverflow": false,
       "aggSchema": [],
       "aggSeriesLimitReached": false,
       "aggType": "",
       "arguments": {},
       "columnCustomDisplayInfos": {},
       "data": [
        [
         1,
         "john@example.com"
        ],
        [
         2,
         "rob@example.com"
        ],
        [
         4,
         "sam@example.com"
        ]
       ],
       "datasetInfos": [],
       "dbfsResultPath": null,
       "isJsonSchema": true,
       "metadata": {},
       "overflow": false,
       "plotOptions": {
        "customPlotOptions": {},
        "displayType": "table",
        "pivotAggregation": null,
        "pivotColumns": null,
        "xColumns": null,
        "yColumns": null
       },
       "removedWidgets": [],
       "schema": [
        {
         "metadata": "{}",
         "name": "Id",
         "type": "\"long\""
        },
        {
         "metadata": "{}",
         "name": "Email",
         "type": "\"string\""
        }
       ],
       "type": "table"
      }
     },
     "output_type": "display_data"
    }
   ],
   "source": [
    "df_email = df.dropDuplicates([\"Email\"])\n",
    "\n",
    "display(df_email)"
   ]
  }
 ],
 "metadata": {
  "application/vnd.databricks.v1+notebook": {
   "dashboards": [],
   "language": "python",
   "notebookMetadata": {
    "pythonIndentUnit": 2
   },
   "notebookName": "196. Delete Duplicate Emails",
   "widgets": {}
  }
 },
 "nbformat": 4,
 "nbformat_minor": 0
}
