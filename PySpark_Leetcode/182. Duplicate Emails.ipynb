{
 "cells": [
  {
   "cell_type": "markdown",
   "metadata": {
    "application/vnd.databricks.v1+cell": {
     "cellMetadata": {},
     "inputWidgets": {},
     "nuid": "006a35a2-8bd6-40b8-9626-59c7a4a726c9",
     "showTitle": false,
     "title": ""
    }
   },
   "source": [
    "##### 182. Duplicate Emails\n",
    "##### Write a SQL query to find all duplicate emails in a table named Person. <br>\n",
    "+----+---------+<br>\n",
    "| Id | Email |<br>\n",
    "+----+---------+<br>\n",
    "| 1 | a@b.com |<br>\n",
    "| 2 | c@d.com |<br>\n",
    "| 3 | a@b.com |<br>\n",
    "+----+---------+<br>\n",
    "For example, your query should return the following for the above table:<br>\n",
    "+---------+<br>\n",
    "| Email |<br>\n",
    "+---------+<br>\n",
    "| a@b.com |<br>\n",
    "+---------+<br>\n",
    "Note: All emails are in lowercase.<br>"
   ]
  },
  {
   "cell_type": "code",
   "execution_count": 0,
   "metadata": {
    "application/vnd.databricks.v1+cell": {
     "cellMetadata": {
      "byteLimit": 2048000,
      "rowLimit": 10000
     },
     "inputWidgets": {},
     "nuid": "89a5f041-7222-4c76-bd84-75580bb89698",
     "showTitle": false,
     "title": ""
    }
   },
   "outputs": [],
   "source": [
    "df_person = (spark\n",
    "            .createDataFrame(\n",
    "              data = [(1, \"a@b.com\"), (2, \"c@d.com\"), (3, \"a@b.com\")],\n",
    "              schema = ['Id', 'Email']\n",
    "              )\n",
    "            )"
   ]
  },
  {
   "cell_type": "code",
   "execution_count": 0,
   "metadata": {
    "application/vnd.databricks.v1+cell": {
     "cellMetadata": {
      "byteLimit": 2048000,
      "rowLimit": 10000
     },
     "inputWidgets": {},
     "nuid": "a3e5f898-8e67-4ce1-9ead-6b3a56fccab9",
     "showTitle": false,
     "title": ""
    }
   },
   "outputs": [
    {
     "output_type": "display_data",
     "data": {
      "text/html": [
       "<style scoped>\n",
       "  .table-result-container {\n",
       "    max-height: 300px;\n",
       "    overflow: auto;\n",
       "  }\n",
       "  table, th, td {\n",
       "    border: 1px solid black;\n",
       "    border-collapse: collapse;\n",
       "  }\n",
       "  th, td {\n",
       "    padding: 5px;\n",
       "  }\n",
       "  th {\n",
       "    text-align: left;\n",
       "  }\n",
       "</style><div class='table-result-container'><table class='table-result'><thead style='background-color: white'><tr><th>Email</th></tr></thead><tbody><tr><td>a@b.com</td></tr></tbody></table></div>"
      ]
     },
     "metadata": {
      "application/vnd.databricks.v1+output": {
       "addedWidgets": {},
       "aggData": [],
       "aggError": "",
       "aggOverflow": false,
       "aggSchema": [],
       "aggSeriesLimitReached": false,
       "aggType": "",
       "arguments": {},
       "columnCustomDisplayInfos": {},
       "data": [
        [
         "a@b.com"
        ]
       ],
       "datasetInfos": [],
       "dbfsResultPath": null,
       "isJsonSchema": true,
       "metadata": {},
       "overflow": false,
       "plotOptions": {
        "customPlotOptions": {},
        "displayType": "table",
        "pivotAggregation": null,
        "pivotColumns": null,
        "xColumns": null,
        "yColumns": null
       },
       "removedWidgets": [],
       "schema": [
        {
         "metadata": "{}",
         "name": "Email",
         "type": "\"string\""
        }
       ],
       "type": "table"
      }
     },
     "output_type": "display_data"
    }
   ],
   "source": [
    "df_email = (df_person\n",
    "            .groupBy(\"Email\")\n",
    "            .count().withColumnRenamed(\"count\",\"cnt\")\n",
    "            .filter(\"cnt > 1\")\n",
    "            .select(\"Email\")\n",
    "            )\n",
    "\n",
    "display(df_email)"
   ]
  }
 ],
 "metadata": {
  "application/vnd.databricks.v1+notebook": {
   "dashboards": [],
   "language": "python",
   "notebookMetadata": {
    "pythonIndentUnit": 2
   },
   "notebookName": "182. Duplicate Emails",
   "widgets": {}
  }
 },
 "nbformat": 4,
 "nbformat_minor": 0
}
