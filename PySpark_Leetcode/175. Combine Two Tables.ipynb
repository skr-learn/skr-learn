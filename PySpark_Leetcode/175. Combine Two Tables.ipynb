{
 "cells": [
  {
   "cell_type": "markdown",
   "metadata": {
    "application/vnd.databricks.v1+cell": {
     "cellMetadata": {},
     "inputWidgets": {},
     "nuid": "9dcb2875-31b1-433e-a1b5-0d32e24b922f",
     "showTitle": false,
     "title": ""
    }
   },
   "source": [
    "##### 175. Combine Two Tables\n",
    "\n",
    "- Table: Person <br>\n",
    "+-------------+---------+<br>\n",
    "| Column Name | Type |<br>\n",
    "+-------------+---------+<br>\n",
    "| PersonId | int |<br>\n",
    "| FirstName | varchar |<br>\n",
    "| LastName | varchar |<br>\n",
    "+-------------+---------+<br>\n",
    "PersonId is the primary key column for this table.<br>\n",
    "- Table: Address<br>\n",
    "+-------------+---------+<br>\n",
    "| Column Name | Type |<br>\n",
    "+-------------+---------+<br>\n",
    "| AddressId | int |<br>\n",
    "| PersonId | int |<br>\n",
    "| City | varchar |<br>\n",
    "| State | varchar |<br>\n",
    "+-------------+---------+<br>\n",
    "AddressId is the primary key column for this table.<br>\n",
    "\n",
    "##### Write a SQL query for a report that provides the following information for each person in the Person table, regardless if there is an address for each of those people: \n",
    "  - FirstName, LastName, City, State"
   ]
  },
  {
   "cell_type": "markdown",
   "metadata": {
    "application/vnd.databricks.v1+cell": {
     "cellMetadata": {},
     "inputWidgets": {},
     "nuid": "2a881a28-2aa1-4879-8d9d-cc8e8099bbee",
     "showTitle": false,
     "title": ""
    }
   },
   "source": [
    "##### PySpark Solution"
   ]
  },
  {
   "cell_type": "code",
   "execution_count": 0,
   "metadata": {
    "application/vnd.databricks.v1+cell": {
     "cellMetadata": {
      "byteLimit": 2048000,
      "rowLimit": 10000
     },
     "inputWidgets": {},
     "nuid": "6b6f2184-123f-467b-ba95-8e857a273b46",
     "showTitle": false,
     "title": ""
    }
   },
   "outputs": [],
   "source": [
    "cols_person = ['PersonId', 'FirstName', 'LastName']\n",
    "cols_address = ['AddressId', 'PersonId', 'City', 'Country']\n",
    "\n",
    "data_person = [(25, \"Alice\", \"Sheron\"),\n",
    "               (30, \"Bob\", \"San\"),\n",
    "               (35, \"Charlie\", \"Angeles\"),\n",
    "               (45, \"Samson\", \"Ignis\")]\n",
    "\n",
    "data_address = [('123AB', '25', 'Washington', 'USA'),\n",
    "                ('345CC', '30', 'New York', 'USA'),\n",
    "                ('888RD', '35', 'California', 'USA'),\n",
    "                ('233HJ', '40', 'Beijing', 'China')]\n",
    "\n",
    "df_person = spark.createDataFrame(data = data_person, schema = cols_person)\n",
    "df_address = spark.createDataFrame(data = data_address, schema = cols_address)"
   ]
  },
  {
   "cell_type": "code",
   "execution_count": 0,
   "metadata": {
    "application/vnd.databricks.v1+cell": {
     "cellMetadata": {
      "byteLimit": 2048000,
      "rowLimit": 10000
     },
     "inputWidgets": {},
     "nuid": "23693b9c-c3ad-42b5-a2e2-8486e6ff8e7e",
     "showTitle": false,
     "title": ""
    }
   },
   "outputs": [
    {
     "output_type": "display_data",
     "data": {
      "text/html": [
       "<style scoped>\n",
       "  .table-result-container {\n",
       "    max-height: 300px;\n",
       "    overflow: auto;\n",
       "  }\n",
       "  table, th, td {\n",
       "    border: 1px solid black;\n",
       "    border-collapse: collapse;\n",
       "  }\n",
       "  th, td {\n",
       "    padding: 5px;\n",
       "  }\n",
       "  th {\n",
       "    text-align: left;\n",
       "  }\n",
       "</style><div class='table-result-container'><table class='table-result'><thead style='background-color: white'><tr><th>FirstName</th><th>LastName</th><th>City</th><th>Country</th></tr></thead><tbody><tr><td>Alice</td><td>Sheron</td><td>Washington</td><td>USA</td></tr><tr><td>Bob</td><td>San</td><td>New York</td><td>USA</td></tr><tr><td>Charlie</td><td>Angeles</td><td>California</td><td>USA</td></tr><tr><td>Samson</td><td>Ignis</td><td>null</td><td>null</td></tr></tbody></table></div>"
      ]
     },
     "metadata": {
      "application/vnd.databricks.v1+output": {
       "addedWidgets": {},
       "aggData": [],
       "aggError": "",
       "aggOverflow": false,
       "aggSchema": [],
       "aggSeriesLimitReached": false,
       "aggType": "",
       "arguments": {},
       "columnCustomDisplayInfos": {},
       "data": [
        [
         "Alice",
         "Sheron",
         "Washington",
         "USA"
        ],
        [
         "Bob",
         "San",
         "New York",
         "USA"
        ],
        [
         "Charlie",
         "Angeles",
         "California",
         "USA"
        ],
        [
         "Samson",
         "Ignis",
         null,
         null
        ]
       ],
       "datasetInfos": [],
       "dbfsResultPath": null,
       "isJsonSchema": true,
       "metadata": {},
       "overflow": false,
       "plotOptions": {
        "customPlotOptions": {},
        "displayType": "table",
        "pivotAggregation": null,
        "pivotColumns": null,
        "xColumns": null,
        "yColumns": null
       },
       "removedWidgets": [],
       "schema": [
        {
         "metadata": "{}",
         "name": "FirstName",
         "type": "\"string\""
        },
        {
         "metadata": "{}",
         "name": "LastName",
         "type": "\"string\""
        },
        {
         "metadata": "{}",
         "name": "City",
         "type": "\"string\""
        },
        {
         "metadata": "{}",
         "name": "Country",
         "type": "\"string\""
        }
       ],
       "type": "table"
      }
     },
     "output_type": "display_data"
    }
   ],
   "source": [
    "df_report = df_person.join(df_address, 'PersonId', 'left').select(\"FirstName\", \"LastName\", \"City\", \"Country\")\n",
    "\n",
    "df_report.display()"
   ]
  }
 ],
 "metadata": {
  "application/vnd.databricks.v1+notebook": {
   "dashboards": [],
   "language": "python",
   "notebookMetadata": {
    "pythonIndentUnit": 2
   },
   "notebookName": "175. Combine Two Tables",
   "widgets": {}
  }
 },
 "nbformat": 4,
 "nbformat_minor": 0
}
