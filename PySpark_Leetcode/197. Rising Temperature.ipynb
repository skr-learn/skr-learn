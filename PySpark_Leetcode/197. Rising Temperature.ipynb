{
 "cells": [
  {
   "cell_type": "markdown",
   "metadata": {
    "application/vnd.databricks.v1+cell": {
     "cellMetadata": {},
     "inputWidgets": {},
     "nuid": "25a3e11a-71a5-4b8d-ac05-6f5b41e1f0b7",
     "showTitle": false,
     "title": ""
    }
   },
   "source": [
    "##### Given a Weather table, write a SQL query to find all dates' Ids with higher temperature compared to its previous (yesterday's) dates.\n",
    "+---------+------------------+------------------+<br>\n",
    "| Id(INT) | RecordDate(DATE) | Temperature(INT) |<br>\n",
    "+---------+------------------+------------------+<br>\n",
    "| 1 | 2015-01-01 | 10 |<br>\n",
    "| 2 | 2015-01-02 | 25 |<br>\n",
    "| 3 | 2015-01-03 | 20 |<br>\n",
    "| 4 | 2015-01-04 | 30 |<br>\n",
    "+---------+------------------+------------------+<br>\n",
    "For example, return the following Ids for the above Weather table:<br>\n",
    "+----+<br>\n",
    "| Id |<br>\n",
    "+----+<br>\n",
    "| 2 |<br>\n",
    "| 4 |<br>\n",
    "+----+<br>"
   ]
  },
  {
   "cell_type": "markdown",
   "metadata": {
    "application/vnd.databricks.v1+cell": {
     "cellMetadata": {},
     "inputWidgets": {},
     "nuid": "3ecd2853-fa5b-445e-8685-4f6fe4d60a95",
     "showTitle": false,
     "title": ""
    }
   },
   "source": [
    "##### PySpark Solution"
   ]
  },
  {
   "cell_type": "code",
   "execution_count": 0,
   "metadata": {
    "application/vnd.databricks.v1+cell": {
     "cellMetadata": {
      "byteLimit": 2048000,
      "rowLimit": 10000
     },
     "inputWidgets": {},
     "nuid": "8d955598-a96e-4020-a6b2-3bd2864b5031",
     "showTitle": false,
     "title": ""
    }
   },
   "outputs": [
    {
     "output_type": "stream",
     "name": "stdout",
     "output_type": "stream",
     "text": [
      "+---+----------+-----------+\n| Id|RecordDate|Temperature|\n+---+----------+-----------+\n|  1|2015-01-01|         10|\n|  2|2015-01-02|         25|\n|  3|2015-01-03|         20|\n|  4|2015-01-04|         30|\n+---+----------+-----------+\n\n"
     ]
    }
   ],
   "source": [
    "from pyspark.sql.types import StructType, StructField, IntegerType, StringType, DateType\n",
    "\n",
    "data = [(1, '2015-01-01', 10), (2, '2015-01-02', 25), (3, '2015-01-03', 20), (4, '2015-01-04', 30)]\n",
    "\n",
    "schema = StructType([\n",
    "    StructField('Id', IntegerType(), True),\n",
    "    StructField('RecordDate', StringType(), True),\n",
    "    StructField('Temperature', IntegerType(), True)\n",
    "])\n",
    "\n",
    "df = spark.createDataFrame(data, schema=schema)\n",
    "\n",
    "# Convert 'RecordDate' column to DateType\n",
    "df = df.withColumn('RecordDate', df['RecordDate'].cast(DateType()))\n",
    "\n",
    "df.show()"
   ]
  },
  {
   "cell_type": "code",
   "execution_count": 0,
   "metadata": {
    "application/vnd.databricks.v1+cell": {
     "cellMetadata": {
      "byteLimit": 2048000,
      "rowLimit": 10000
     },
     "inputWidgets": {},
     "nuid": "21340b86-31ab-4b31-ac12-853293f7bed4",
     "showTitle": false,
     "title": ""
    }
   },
   "outputs": [
    {
     "output_type": "stream",
     "name": "stdout",
     "output_type": "stream",
     "text": [
      "+---+\n| Id|\n+---+\n|  2|\n|  4|\n+---+\n\n"
     ]
    }
   ],
   "source": [
    "from pyspark.sql.functions import lag\n",
    "from pyspark.sql.window import Window\n",
    "\n",
    "df2 = (df\n",
    "       .withColumn(\"lag\", lag(\"Temperature\", 1).over(Window.orderBy('RecordDate')))\n",
    "       .select('Id')\n",
    "       .filter(\"Temperature > lag\")\n",
    "       )\n",
    "\n",
    "df2.show()"
   ]
  }
 ],
 "metadata": {
  "application/vnd.databricks.v1+notebook": {
   "dashboards": [],
   "language": "python",
   "notebookMetadata": {
    "pythonIndentUnit": 2
   },
   "notebookName": "197. Rising Temperature",
   "widgets": {}
  }
 },
 "nbformat": 4,
 "nbformat_minor": 0
}
