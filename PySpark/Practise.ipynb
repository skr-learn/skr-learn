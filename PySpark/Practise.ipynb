{
 "cells": [
  {
   "cell_type": "markdown",
   "metadata": {
    "application/vnd.databricks.v1+cell": {
     "cellMetadata": {},
     "inputWidgets": {},
     "nuid": "9dcb2875-31b1-433e-a1b5-0d32e24b922f",
     "showTitle": false,
     "title": ""
    }
   },
   "source": [
    "##### 175. Combine Two Tables\n",
    "\n",
    "- Table: Person <br>\n",
    "+-------------+---------+<br>\n",
    "| Column Name | Type |<br>\n",
    "+-------------+---------+<br>\n",
    "| PersonId | int |<br>\n",
    "| FirstName | varchar |<br>\n",
    "| LastName | varchar |<br>\n",
    "+-------------+---------+<br>\n",
    "PersonId is the primary key column for this table.<br>\n",
    "- Table: Address<br>\n",
    "+-------------+---------+<br>\n",
    "| Column Name | Type |<br>\n",
    "+-------------+---------+<br>\n",
    "| AddressId | int |<br>\n",
    "| PersonId | int |<br>\n",
    "| City | varchar |<br>\n",
    "| State | varchar |<br>\n",
    "+-------------+---------+<br>\n",
    "AddressId is the primary key column for this table.<br>\n",
    "\n",
    "##### Write a SQL query for a report that provides the following information for each person in the Person table, regardless if there is an address for each of those people: \n",
    "  - FirstName, LastName, City, State"
   ]
  },
  {
   "cell_type": "code",
   "execution_count": 0,
   "metadata": {
    "application/vnd.databricks.v1+cell": {
     "cellMetadata": {
      "byteLimit": 2048000,
      "rowLimit": 10000
     },
     "inputWidgets": {},
     "nuid": "6b6f2184-123f-467b-ba95-8e857a273b46",
     "showTitle": false,
     "title": ""
    }
   },
   "outputs": [],
   "source": [
    "cols_person = ['PersonId', 'FirstName', 'LastName']\n",
    "cols_address = ['AddressId', 'PersonId', 'City', 'Country']\n",
    "\n",
    "data_person = [(25, \"Alice\", \"Sheron\"),\n",
    "               (30, \"Bob\", \"San\"),\n",
    "               (35, \"Charlie\", \"Angeles\"),\n",
    "               (45, \"Samson\", \"Ignis\")]\n",
    "\n",
    "data_address = [('123AB', '25', 'Washington', 'USA'),\n",
    "                ('345CC', '30', 'New York', 'USA'),\n",
    "                ('888RD', '35', 'California', 'USA'),\n",
    "                ('233HJ', '40', 'Beijing', 'China')]\n",
    "\n",
    "df_person = spark.createDataFrame(data = data_person, schema = cols_person)\n",
    "df_address = spark.createDataFrame(data = data_address, schema = cols_address)"
   ]
  },
  {
   "cell_type": "code",
   "execution_count": 0,
   "metadata": {
    "application/vnd.databricks.v1+cell": {
     "cellMetadata": {
      "byteLimit": 2048000,
      "rowLimit": 10000
     },
     "inputWidgets": {},
     "nuid": "23693b9c-c3ad-42b5-a2e2-8486e6ff8e7e",
     "showTitle": false,
     "title": ""
    }
   },
   "outputs": [
    {
     "output_type": "display_data",
     "data": {
      "text/html": [
       "<style scoped>\n",
       "  .table-result-container {\n",
       "    max-height: 300px;\n",
       "    overflow: auto;\n",
       "  }\n",
       "  table, th, td {\n",
       "    border: 1px solid black;\n",
       "    border-collapse: collapse;\n",
       "  }\n",
       "  th, td {\n",
       "    padding: 5px;\n",
       "  }\n",
       "  th {\n",
       "    text-align: left;\n",
       "  }\n",
       "</style><div class='table-result-container'><table class='table-result'><thead style='background-color: white'><tr><th>FirstName</th><th>LastName</th><th>City</th><th>Country</th></tr></thead><tbody><tr><td>Alice</td><td>Sheron</td><td>Washington</td><td>USA</td></tr><tr><td>Bob</td><td>San</td><td>New York</td><td>USA</td></tr><tr><td>Charlie</td><td>Angeles</td><td>California</td><td>USA</td></tr><tr><td>Samson</td><td>Ignis</td><td>null</td><td>null</td></tr></tbody></table></div>"
      ]
     },
     "metadata": {
      "application/vnd.databricks.v1+output": {
       "addedWidgets": {},
       "aggData": [],
       "aggError": "",
       "aggOverflow": false,
       "aggSchema": [],
       "aggSeriesLimitReached": false,
       "aggType": "",
       "arguments": {},
       "columnCustomDisplayInfos": {},
       "data": [
        [
         "Alice",
         "Sheron",
         "Washington",
         "USA"
        ],
        [
         "Bob",
         "San",
         "New York",
         "USA"
        ],
        [
         "Charlie",
         "Angeles",
         "California",
         "USA"
        ],
        [
         "Samson",
         "Ignis",
         null,
         null
        ]
       ],
       "datasetInfos": [],
       "dbfsResultPath": null,
       "isJsonSchema": true,
       "metadata": {},
       "overflow": false,
       "plotOptions": {
        "customPlotOptions": {},
        "displayType": "table",
        "pivotAggregation": null,
        "pivotColumns": null,
        "xColumns": null,
        "yColumns": null
       },
       "removedWidgets": [],
       "schema": [
        {
         "metadata": "{}",
         "name": "FirstName",
         "type": "\"string\""
        },
        {
         "metadata": "{}",
         "name": "LastName",
         "type": "\"string\""
        },
        {
         "metadata": "{}",
         "name": "City",
         "type": "\"string\""
        },
        {
         "metadata": "{}",
         "name": "Country",
         "type": "\"string\""
        }
       ],
       "type": "table"
      }
     },
     "output_type": "display_data"
    }
   ],
   "source": [
    "df_report = df_person.join(df_address, 'PersonId', 'left').select(\"FirstName\", \"LastName\", \"City\", \"Country\")\n",
    "\n",
    "df_report.display()"
   ]
  },
  {
   "cell_type": "markdown",
   "metadata": {
    "application/vnd.databricks.v1+cell": {
     "cellMetadata": {},
     "inputWidgets": {},
     "nuid": "cf26f5f3-7614-4aeb-8cf8-797abf1c62b5",
     "showTitle": false,
     "title": ""
    }
   },
   "source": [
    "##### 176. Second Highest Salary\n",
    "Write a SQL query to get the second highest salary from the Employee table.<br>\n",
    "+----+--------+<br>\n",
    "| Id | Salary |<br>\n",
    "+----+--------+<br>\n",
    "| 1 | 100 |<br>\n",
    "| 2 | 200 |<br>\n",
    "| 3 | 300 |<br>\n",
    "+----+--------+<br>\n",
    "\n",
    "##### For example, given the above Employee table, the query should return 200 as the second highest salary. If there is no second highest salary, then the query should return null.<br>\n",
    "+---------------------+<br>\n",
    "| SecondHighestSalary |<br>\n",
    "+---------------------+<br>\n",
    "| 200 |<br>\n",
    "+---------------------+<br>"
   ]
  },
  {
   "cell_type": "code",
   "execution_count": 0,
   "metadata": {
    "application/vnd.databricks.v1+cell": {
     "cellMetadata": {
      "byteLimit": 2048000,
      "rowLimit": 10000
     },
     "inputWidgets": {},
     "nuid": "8b5112ec-5e14-4adb-bb1c-18cc4e76e9e5",
     "showTitle": false,
     "title": ""
    }
   },
   "outputs": [
    {
     "output_type": "display_data",
     "data": {
      "text/html": [
       "<style scoped>\n",
       "  .table-result-container {\n",
       "    max-height: 300px;\n",
       "    overflow: auto;\n",
       "  }\n",
       "  table, th, td {\n",
       "    border: 1px solid black;\n",
       "    border-collapse: collapse;\n",
       "  }\n",
       "  th, td {\n",
       "    padding: 5px;\n",
       "  }\n",
       "  th {\n",
       "    text-align: left;\n",
       "  }\n",
       "</style><div class='table-result-container'><table class='table-result'><thead style='background-color: white'><tr><th>Id</th><th>Salary</th></tr></thead><tbody><tr><td>1</td><td>100</td></tr><tr><td>1</td><td>200</td></tr><tr><td>1</td><td>300</td></tr><tr><td>1</td><td>400</td></tr></tbody></table></div>"
      ]
     },
     "metadata": {
      "application/vnd.databricks.v1+output": {
       "addedWidgets": {},
       "aggData": [],
       "aggError": "",
       "aggOverflow": false,
       "aggSchema": [],
       "aggSeriesLimitReached": false,
       "aggType": "",
       "arguments": {},
       "columnCustomDisplayInfos": {},
       "data": [
        [
         1,
         100
        ],
        [
         1,
         200
        ],
        [
         1,
         300
        ],
        [
         1,
         400
        ]
       ],
       "datasetInfos": [],
       "dbfsResultPath": null,
       "isJsonSchema": true,
       "metadata": {},
       "overflow": false,
       "plotOptions": {
        "customPlotOptions": {},
        "displayType": "table",
        "pivotAggregation": null,
        "pivotColumns": null,
        "xColumns": null,
        "yColumns": null
       },
       "removedWidgets": [],
       "schema": [
        {
         "metadata": "{}",
         "name": "Id",
         "type": "\"long\""
        },
        {
         "metadata": "{}",
         "name": "Salary",
         "type": "\"long\""
        }
       ],
       "type": "table"
      }
     },
     "output_type": "display_data"
    }
   ],
   "source": [
    "df_sal = spark.createDataFrame(data = [(1, 100), (1, 200), (1, 300), (1, 400)], schema = ['Id', 'Salary'])\n",
    "df_sal.display()"
   ]
  },
  {
   "cell_type": "code",
   "execution_count": 0,
   "metadata": {
    "application/vnd.databricks.v1+cell": {
     "cellMetadata": {
      "byteLimit": 2048000,
      "rowLimit": 10000
     },
     "inputWidgets": {},
     "nuid": "0e05b732-8fd8-4bb7-8d4a-43ab8b7ec0e8",
     "showTitle": false,
     "title": ""
    }
   },
   "outputs": [
    {
     "output_type": "display_data",
     "data": {
      "text/html": [
       "<style scoped>\n",
       "  .table-result-container {\n",
       "    max-height: 300px;\n",
       "    overflow: auto;\n",
       "  }\n",
       "  table, th, td {\n",
       "    border: 1px solid black;\n",
       "    border-collapse: collapse;\n",
       "  }\n",
       "  th, td {\n",
       "    padding: 5px;\n",
       "  }\n",
       "  th {\n",
       "    text-align: left;\n",
       "  }\n",
       "</style><div class='table-result-container'><table class='table-result'><thead style='background-color: white'><tr><th>SecondHighestSalary</th></tr></thead><tbody><tr><td>200</td></tr></tbody></table></div>"
      ]
     },
     "metadata": {
      "application/vnd.databricks.v1+output": {
       "addedWidgets": {},
       "aggData": [],
       "aggError": "",
       "aggOverflow": false,
       "aggSchema": [],
       "aggSeriesLimitReached": false,
       "aggType": "",
       "arguments": {},
       "columnCustomDisplayInfos": {},
       "data": [
        [
         200
        ]
       ],
       "datasetInfos": [],
       "dbfsResultPath": null,
       "isJsonSchema": true,
       "metadata": {},
       "overflow": false,
       "plotOptions": {
        "customPlotOptions": {},
        "displayType": "table",
        "pivotAggregation": null,
        "pivotColumns": null,
        "xColumns": null,
        "yColumns": null
       },
       "removedWidgets": [],
       "schema": [
        {
         "metadata": "{}",
         "name": "SecondHighestSalary",
         "type": "\"long\""
        }
       ],
       "type": "table"
      }
     },
     "output_type": "display_data"
    }
   ],
   "source": [
    "from pyspark.sql.functions import dense_rank, col\n",
    "from pyspark.sql.window import Window\n",
    "\n",
    "windowSpec = Window.partitionBy('Id').orderBy('Salary')\n",
    "\n",
    "df_2nd_highest_sal = (df_sal\n",
    "                      .withColumn('rank', dense_rank().over(windowSpec))\n",
    "                      .filter(col(\"rank\") == 2)\n",
    "                      .withColumnRenamed(\"Salary\", \"SecondHighestSalary\")\n",
    "                      .drop(\"Id\")\n",
    "                      .drop(\"rank\")\n",
    "                      )\n",
    "\n",
    "df_2nd_highest_sal.display()"
   ]
  },
  {
   "cell_type": "markdown",
   "metadata": {
    "application/vnd.databricks.v1+cell": {
     "cellMetadata": {},
     "inputWidgets": {},
     "nuid": "783967a2-2c5a-46bc-bf20-645616b956c1",
     "showTitle": false,
     "title": ""
    }
   },
   "source": [
    "##### 177. Nth Highest Salary\n",
    "\n",
    "##### Write a SQL query to get the nth highest salary from the Employee table. <br>\n",
    "+----+--------+<br>\n",
    "| Id | Salary |<br>\n",
    "+----+--------+<br>\n",
    "| 1 | 100 |<br>\n",
    "| 2 | 200 |<br>\n",
    "| 3 | 300 |<br>\n",
    "+----+--------+<br>\n",
    "For example, given the above Employee table, the nth highest salary where n = 2 is 200. If there is no nth highest salary, then the query should return null.<br>\n",
    "+------------------------+<br>\n",
    "| getNthHighestSalary(2) |<br>\n",
    "+------------------------+<br>\n",
    "| 200 |<br>\n",
    "+------------------------+<br>"
   ]
  },
  {
   "cell_type": "code",
   "execution_count": 0,
   "metadata": {
    "application/vnd.databricks.v1+cell": {
     "cellMetadata": {
      "byteLimit": 2048000,
      "rowLimit": 10000
     },
     "inputWidgets": {},
     "nuid": "17937c06-c9bb-4a72-892d-8741d76ba570",
     "showTitle": false,
     "title": ""
    }
   },
   "outputs": [],
   "source": [
    "def nthHighestSalary(df, n):\n",
    "  df_nth_highest_sal = (df_sal\n",
    "                      .withColumn('rank', dense_rank().over(windowSpec))\n",
    "                      .filter(col(\"rank\") == n)\n",
    "                      .withColumnRenamed(\"Salary\", f\"{n}th_HighestSalary\")\n",
    "                      .drop(\"Id\")\n",
    "                      .drop(\"rank\")\n",
    "                      )\n",
    "  return df_nth_highest_sal"
   ]
  },
  {
   "cell_type": "code",
   "execution_count": 0,
   "metadata": {
    "application/vnd.databricks.v1+cell": {
     "cellMetadata": {
      "byteLimit": 2048000,
      "rowLimit": 10000
     },
     "inputWidgets": {},
     "nuid": "804b039c-4e76-4e63-a334-535eca0ebfb4",
     "showTitle": false,
     "title": ""
    }
   },
   "outputs": [
    {
     "output_type": "display_data",
     "data": {
      "text/html": [
       "<style scoped>\n",
       "  .table-result-container {\n",
       "    max-height: 300px;\n",
       "    overflow: auto;\n",
       "  }\n",
       "  table, th, td {\n",
       "    border: 1px solid black;\n",
       "    border-collapse: collapse;\n",
       "  }\n",
       "  th, td {\n",
       "    padding: 5px;\n",
       "  }\n",
       "  th {\n",
       "    text-align: left;\n",
       "  }\n",
       "</style><div class='table-result-container'><table class='table-result'><thead style='background-color: white'><tr><th>5th_HighestSalary</th></tr></thead><tbody></tbody></table></div>"
      ]
     },
     "metadata": {
      "application/vnd.databricks.v1+output": {
       "addedWidgets": {},
       "aggData": [],
       "aggError": "",
       "aggOverflow": false,
       "aggSchema": [],
       "aggSeriesLimitReached": false,
       "aggType": "",
       "arguments": {},
       "columnCustomDisplayInfos": {},
       "data": [],
       "datasetInfos": [],
       "dbfsResultPath": null,
       "isJsonSchema": true,
       "metadata": {},
       "overflow": false,
       "plotOptions": {
        "customPlotOptions": {},
        "displayType": "table",
        "pivotAggregation": null,
        "pivotColumns": null,
        "xColumns": null,
        "yColumns": null
       },
       "removedWidgets": [],
       "schema": [
        {
         "metadata": "{}",
         "name": "5th_HighestSalary",
         "type": "\"long\""
        }
       ],
       "type": "table"
      }
     },
     "output_type": "display_data"
    }
   ],
   "source": [
    "n = 5\n",
    "display(nthHighestSalary(df_sal, n))"
   ]
  },
  {
   "cell_type": "code",
   "execution_count": 0,
   "metadata": {
    "application/vnd.databricks.v1+cell": {
     "cellMetadata": {
      "byteLimit": 2048000,
      "rowLimit": 10000
     },
     "inputWidgets": {},
     "nuid": "f7a35f4e-ceee-405e-a1d3-360900ebde8e",
     "showTitle": false,
     "title": ""
    }
   },
   "outputs": [
    {
     "output_type": "display_data",
     "data": {
      "text/html": [
       "<style scoped>\n",
       "  .table-result-container {\n",
       "    max-height: 300px;\n",
       "    overflow: auto;\n",
       "  }\n",
       "  table, th, td {\n",
       "    border: 1px solid black;\n",
       "    border-collapse: collapse;\n",
       "  }\n",
       "  th, td {\n",
       "    padding: 5px;\n",
       "  }\n",
       "  th {\n",
       "    text-align: left;\n",
       "  }\n",
       "</style><div class='table-result-container'><table class='table-result'><thead style='background-color: white'><tr><th>3th_HighestSalary</th></tr></thead><tbody><tr><td>300</td></tr></tbody></table></div>"
      ]
     },
     "metadata": {
      "application/vnd.databricks.v1+output": {
       "addedWidgets": {},
       "aggData": [],
       "aggError": "",
       "aggOverflow": false,
       "aggSchema": [],
       "aggSeriesLimitReached": false,
       "aggType": "",
       "arguments": {},
       "columnCustomDisplayInfos": {},
       "data": [
        [
         300
        ]
       ],
       "datasetInfos": [],
       "dbfsResultPath": null,
       "isJsonSchema": true,
       "metadata": {},
       "overflow": false,
       "plotOptions": {
        "customPlotOptions": {},
        "displayType": "table",
        "pivotAggregation": null,
        "pivotColumns": null,
        "xColumns": null,
        "yColumns": null
       },
       "removedWidgets": [],
       "schema": [
        {
         "metadata": "{}",
         "name": "3th_HighestSalary",
         "type": "\"long\""
        }
       ],
       "type": "table"
      }
     },
     "output_type": "display_data"
    }
   ],
   "source": [
    "n = 3\n",
    "display(nthHighestSalary(df_sal, n))"
   ]
  },
  {
   "cell_type": "markdown",
   "metadata": {
    "application/vnd.databricks.v1+cell": {
     "cellMetadata": {},
     "inputWidgets": {},
     "nuid": "b22391c1-c1cf-4e18-925d-e11f681027a3",
     "showTitle": false,
     "title": ""
    }
   },
   "source": [
    "##### 178. Rank Scores\n",
    "\n",
    "##### Write a SQL query to rank scores. If there is a tie between two scores, both should have the same ranking. Note that after a tie, the next ranking number should be the next consecutive integer value. In other words, there should be no \"holes\" between ranks. <br>\n",
    "+----+-------+<br>\n",
    "| Id | Score |<br>\n",
    "+----+-------+<br>\n",
    "| 1 | 3.50 |<br>\n",
    "| 2 | 3.65 |<br>\n",
    "| 3 | 4.00 |<br>\n",
    "| 4 | 3.85 |<br>\n",
    "| 5 | 4.00 |<br>\n",
    "| 6 | 3.65 |<br>\n",
    "+----+-------+<br>\n",
    "For example, given the above Scores table, your query should generate the following report (order by highest score):<br>\n",
    "+-------+------+<br>\n",
    "| Score | Rank |<br>\n",
    "+-------+------+<br>\n",
    "| 4.00 | 1 |<br>\n",
    "| 4.00 | 1 |<br>\n",
    "| 3.85 | 2 |<br>\n",
    "| 3.65 | 3 |<br>\n",
    "| 3.65 | 3 |<br>\n",
    "| 3.50 | 4 |<br>\n",
    "+-------+------+<br>"
   ]
  },
  {
   "cell_type": "code",
   "execution_count": 0,
   "metadata": {
    "application/vnd.databricks.v1+cell": {
     "cellMetadata": {
      "byteLimit": 2048000,
      "rowLimit": 10000
     },
     "inputWidgets": {},
     "nuid": "9206dd69-674e-49bf-9ece-6f14cb4fcde4",
     "showTitle": false,
     "title": ""
    }
   },
   "outputs": [],
   "source": [
    "df_score = (spark\n",
    "            .createDataFrame(\n",
    "              data = [(1, 3.50), (2, 3.65), (3, 4.00), (4, 3.85), (5, 4.00), (6, 3.65)],\n",
    "              schema = ['Id', 'Score']\n",
    "              )\n",
    "            )\n",
    "\n",
    "# df_score.display()"
   ]
  },
  {
   "cell_type": "code",
   "execution_count": 0,
   "metadata": {
    "application/vnd.databricks.v1+cell": {
     "cellMetadata": {
      "byteLimit": 2048000,
      "rowLimit": 10000
     },
     "inputWidgets": {},
     "nuid": "97418d3d-0e2d-480d-948d-956038a49c20",
     "showTitle": false,
     "title": ""
    }
   },
   "outputs": [
    {
     "output_type": "display_data",
     "data": {
      "text/html": [
       "<style scoped>\n",
       "  .table-result-container {\n",
       "    max-height: 300px;\n",
       "    overflow: auto;\n",
       "  }\n",
       "  table, th, td {\n",
       "    border: 1px solid black;\n",
       "    border-collapse: collapse;\n",
       "  }\n",
       "  th, td {\n",
       "    padding: 5px;\n",
       "  }\n",
       "  th {\n",
       "    text-align: left;\n",
       "  }\n",
       "</style><div class='table-result-container'><table class='table-result'><thead style='background-color: white'><tr><th>Score</th><th>Rank</th></tr></thead><tbody><tr><td>4.0</td><td>1</td></tr><tr><td>4.0</td><td>1</td></tr><tr><td>3.85</td><td>2</td></tr><tr><td>3.65</td><td>3</td></tr><tr><td>3.65</td><td>3</td></tr><tr><td>3.5</td><td>4</td></tr></tbody></table></div>"
      ]
     },
     "metadata": {
      "application/vnd.databricks.v1+output": {
       "addedWidgets": {},
       "aggData": [],
       "aggError": "",
       "aggOverflow": false,
       "aggSchema": [],
       "aggSeriesLimitReached": false,
       "aggType": "",
       "arguments": {},
       "columnCustomDisplayInfos": {},
       "data": [
        [
         4.0,
         1
        ],
        [
         4.0,
         1
        ],
        [
         3.85,
         2
        ],
        [
         3.65,
         3
        ],
        [
         3.65,
         3
        ],
        [
         3.5,
         4
        ]
       ],
       "datasetInfos": [],
       "dbfsResultPath": null,
       "isJsonSchema": true,
       "metadata": {},
       "overflow": false,
       "plotOptions": {
        "customPlotOptions": {},
        "displayType": "table",
        "pivotAggregation": null,
        "pivotColumns": null,
        "xColumns": null,
        "yColumns": null
       },
       "removedWidgets": [],
       "schema": [
        {
         "metadata": "{}",
         "name": "Score",
         "type": "\"double\""
        },
        {
         "metadata": "{}",
         "name": "Rank",
         "type": "\"integer\""
        }
       ],
       "type": "table"
      }
     },
     "output_type": "display_data"
    }
   ],
   "source": [
    "from pyspark.sql.window import Window\n",
    "from pyspark.sql.functions import dense_rank\n",
    "\n",
    "scoreWindow = Window.orderBy(col('Score').desc())\n",
    "\n",
    "df_score_rank = (df_score\n",
    "                 .withColumn('Rank', dense_rank().over(scoreWindow))\n",
    "                 .drop('Id')\n",
    "                 )\n",
    "                 \n",
    "df_score_rank.display()"
   ]
  },
  {
   "cell_type": "markdown",
   "metadata": {
    "application/vnd.databricks.v1+cell": {
     "cellMetadata": {},
     "inputWidgets": {},
     "nuid": "f485ef7e-f700-4b0f-80af-6049b4a90df2",
     "showTitle": false,
     "title": ""
    }
   },
   "source": [
    "##### 180. Consecutive Numbers\n",
    "\n",
    "##### Write a SQL query to find all numbers that appear at least three times consecutively. <br>\n",
    "+----+-----+<br>\n",
    "| Id | Num |<br>\n",
    "+----+-----+<br>\n",
    "| 1 | 1 |<br>\n",
    "| 2 | 1 |<br>\n",
    "| 3 | 1 |<br>\n",
    "| 4 | 2 |<br>\n",
    "| 5 | 1 |<br>\n",
    "| 6 | 2 |<br>\n",
    "| 7 | 2 |<br>\n",
    "+----+-----+<br>\n",
    "For example, given the above Logs table, 1 is the only number that appears consecutively for at least three times.<br>\n",
    "+-----------------+<br>\n",
    "| ConsecutiveNums |<br>\n",
    "+-----------------+<br>\n",
    "| 1 |<br>\n",
    "+-----------------+<br>"
   ]
  },
  {
   "cell_type": "code",
   "execution_count": 0,
   "metadata": {
    "application/vnd.databricks.v1+cell": {
     "cellMetadata": {
      "byteLimit": 2048000,
      "rowLimit": 10000
     },
     "inputWidgets": {},
     "nuid": "dd084d81-0900-47fd-92f7-e46de508d089",
     "showTitle": false,
     "title": ""
    }
   },
   "outputs": [],
   "source": [
    "df_num = (spark\n",
    "          .createDataFrame(\n",
    "            data = [(1,1), (2,1), (3,1), (4,2), (5,2), (6,2), (7,3), (8,1), (9,3)],\n",
    "            schema = ['Id', 'Num']\n",
    "            )\n",
    "          )\n",
    "\n",
    "# df_num.display()"
   ]
  },
  {
   "cell_type": "code",
   "execution_count": 0,
   "metadata": {
    "application/vnd.databricks.v1+cell": {
     "cellMetadata": {
      "byteLimit": 2048000,
      "rowLimit": 10000
     },
     "inputWidgets": {},
     "nuid": "23b92249-b1cc-4a75-930b-23e8c8d294ef",
     "showTitle": false,
     "title": ""
    }
   },
   "outputs": [
    {
     "output_type": "display_data",
     "data": {
      "text/html": [
       "<style scoped>\n",
       "  .table-result-container {\n",
       "    max-height: 300px;\n",
       "    overflow: auto;\n",
       "  }\n",
       "  table, th, td {\n",
       "    border: 1px solid black;\n",
       "    border-collapse: collapse;\n",
       "  }\n",
       "  th, td {\n",
       "    padding: 5px;\n",
       "  }\n",
       "  th {\n",
       "    text-align: left;\n",
       "  }\n",
       "</style><div class='table-result-container'><table class='table-result'><thead style='background-color: white'><tr><th>Id</th><th>Num</th><th>Next_num</th><th>Next_to_next_num</th></tr></thead><tbody><tr><td>1</td><td>1</td><td>1</td><td>1</td></tr><tr><td>2</td><td>1</td><td>1</td><td>2</td></tr><tr><td>3</td><td>1</td><td>2</td><td>2</td></tr><tr><td>4</td><td>2</td><td>2</td><td>2</td></tr><tr><td>5</td><td>2</td><td>2</td><td>3</td></tr><tr><td>6</td><td>2</td><td>3</td><td>1</td></tr><tr><td>7</td><td>3</td><td>1</td><td>3</td></tr><tr><td>8</td><td>1</td><td>3</td><td>null</td></tr><tr><td>9</td><td>3</td><td>null</td><td>null</td></tr></tbody></table></div>"
      ]
     },
     "metadata": {
      "application/vnd.databricks.v1+output": {
       "addedWidgets": {},
       "aggData": [],
       "aggError": "",
       "aggOverflow": false,
       "aggSchema": [],
       "aggSeriesLimitReached": false,
       "aggType": "",
       "arguments": {},
       "columnCustomDisplayInfos": {},
       "data": [
        [
         1,
         1,
         1,
         1
        ],
        [
         2,
         1,
         1,
         2
        ],
        [
         3,
         1,
         2,
         2
        ],
        [
         4,
         2,
         2,
         2
        ],
        [
         5,
         2,
         2,
         3
        ],
        [
         6,
         2,
         3,
         1
        ],
        [
         7,
         3,
         1,
         3
        ],
        [
         8,
         1,
         3,
         null
        ],
        [
         9,
         3,
         null,
         null
        ]
       ],
       "datasetInfos": [],
       "dbfsResultPath": null,
       "isJsonSchema": true,
       "metadata": {},
       "overflow": false,
       "plotOptions": {
        "customPlotOptions": {},
        "displayType": "table",
        "pivotAggregation": null,
        "pivotColumns": null,
        "xColumns": null,
        "yColumns": null
       },
       "removedWidgets": [],
       "schema": [
        {
         "metadata": "{}",
         "name": "Id",
         "type": "\"long\""
        },
        {
         "metadata": "{}",
         "name": "Num",
         "type": "\"long\""
        },
        {
         "metadata": "{}",
         "name": "Next_num",
         "type": "\"long\""
        },
        {
         "metadata": "{}",
         "name": "Next_to_next_num",
         "type": "\"long\""
        }
       ],
       "type": "table"
      }
     },
     "output_type": "display_data"
    },
    {
     "output_type": "display_data",
     "data": {
      "text/html": [
       "<style scoped>\n",
       "  .table-result-container {\n",
       "    max-height: 300px;\n",
       "    overflow: auto;\n",
       "  }\n",
       "  table, th, td {\n",
       "    border: 1px solid black;\n",
       "    border-collapse: collapse;\n",
       "  }\n",
       "  th, td {\n",
       "    padding: 5px;\n",
       "  }\n",
       "  th {\n",
       "    text-align: left;\n",
       "  }\n",
       "</style><div class='table-result-container'><table class='table-result'><thead style='background-color: white'><tr><th>ConsecutiveNums</th></tr></thead><tbody><tr><td>1</td></tr><tr><td>2</td></tr></tbody></table></div>"
      ]
     },
     "metadata": {
      "application/vnd.databricks.v1+output": {
       "addedWidgets": {},
       "aggData": [],
       "aggError": "",
       "aggOverflow": false,
       "aggSchema": [],
       "aggSeriesLimitReached": false,
       "aggType": "",
       "arguments": {},
       "columnCustomDisplayInfos": {},
       "data": [
        [
         1
        ],
        [
         2
        ]
       ],
       "datasetInfos": [],
       "dbfsResultPath": null,
       "isJsonSchema": true,
       "metadata": {},
       "overflow": false,
       "plotOptions": {
        "customPlotOptions": {},
        "displayType": "table",
        "pivotAggregation": null,
        "pivotColumns": null,
        "xColumns": null,
        "yColumns": null
       },
       "removedWidgets": [],
       "schema": [
        {
         "metadata": "{}",
         "name": "ConsecutiveNums",
         "type": "\"long\""
        }
       ],
       "type": "table"
      }
     },
     "output_type": "display_data"
    }
   ],
   "source": [
    "from pyspark.sql.functions import lead\n",
    "\n",
    "df_num_lead = (df_num\n",
    "               .withColumn(\"Next_num\", lead('Num', 1).over(Window.orderBy('Id')))\n",
    "               .withColumn(\"Next_to_next_num\", lead('Next_num', 1).over(Window.orderBy('Id')))\n",
    "               )\n",
    "\n",
    "df_num_lead.display()\n",
    "\n",
    "df_num_most = (df_num_lead\n",
    "               .filter((col(\"Num\") == col(\"Next_num\")) & (col(\"Next_num\") == col(\"Next_to_next_num\")))\n",
    "               .select(col(\"Num\").alias(\"ConsecutiveNums\"))\n",
    "               )\n",
    "\n",
    "df_num_most.display()"
   ]
  },
  {
   "cell_type": "markdown",
   "metadata": {
    "application/vnd.databricks.v1+cell": {
     "cellMetadata": {},
     "inputWidgets": {},
     "nuid": "c05511ef-0141-4216-b57f-e6745b1d7e80",
     "showTitle": false,
     "title": ""
    }
   },
   "source": [
    "##### 181. Employees Earning More Than Their Managers\n",
    "\n",
    "The Employee table holds all employees including their managers. Every employee has an Id, and there is also a column for the manager Id.<br>\n",
    "+----+-------+--------+-----------+<br>\n",
    "| Id | Name | Salary | ManagerId |<br>\n",
    "+----+-------+--------+-----------+<br>\n",
    "| 1 | Joe | 70000 | 3 |<br>\n",
    "| 2 | Henry | 80000 | 4 |<br>\n",
    "| 3 | Sam | 60000 | NULL |<br>\n",
    "| 4 | Max | 90000 | NULL |<br>\n",
    "+----+-------+--------+-----------+<br>\n",
    "\n",
    "##### Given the Employee table, write a SQL query that finds out employees who earn more than their managers. For the above table, Joe is the only employee who earns more than his manager.<br>\n",
    "+----------+<br>\n",
    "| Employee |<br>\n",
    "+----------+<br>\n",
    "| Joe |<br>\n",
    "+----------+<br>"
   ]
  },
  {
   "cell_type": "code",
   "execution_count": 0,
   "metadata": {
    "application/vnd.databricks.v1+cell": {
     "cellMetadata": {
      "byteLimit": 2048000,
      "rowLimit": 10000
     },
     "inputWidgets": {},
     "nuid": "22241d33-490e-443b-a5c8-5c516e8bfceb",
     "showTitle": false,
     "title": ""
    }
   },
   "outputs": [],
   "source": [
    "df_emp = (spark\n",
    "          .createDataFrame(\n",
    "            data = [(1, 'Joe', 70000, 3),\n",
    "                    (2, 'Henry', 80000, 4),\n",
    "                    (3, 'Sam', 60000, None),\n",
    "                    (4, 'Max', 90000, None)\n",
    "                    ],\n",
    "            schema = ['Id', 'Name', 'Salary', 'ManagerId']\n",
    "            )\n",
    "          )\n",
    "\n",
    "# display(df_emp)"
   ]
  },
  {
   "cell_type": "code",
   "execution_count": 0,
   "metadata": {
    "application/vnd.databricks.v1+cell": {
     "cellMetadata": {
      "byteLimit": 2048000,
      "rowLimit": 10000
     },
     "inputWidgets": {},
     "nuid": "4cb11de1-cbfd-47ac-b2ee-fc1578906b86",
     "showTitle": false,
     "title": ""
    }
   },
   "outputs": [
    {
     "output_type": "display_data",
     "data": {
      "text/html": [
       "<style scoped>\n",
       "  .table-result-container {\n",
       "    max-height: 300px;\n",
       "    overflow: auto;\n",
       "  }\n",
       "  table, th, td {\n",
       "    border: 1px solid black;\n",
       "    border-collapse: collapse;\n",
       "  }\n",
       "  th, td {\n",
       "    padding: 5px;\n",
       "  }\n",
       "  th {\n",
       "    text-align: left;\n",
       "  }\n",
       "</style><div class='table-result-container'><table class='table-result'><thead style='background-color: white'><tr><th>Name</th></tr></thead><tbody><tr><td>Joe</td></tr></tbody></table></div>"
      ]
     },
     "metadata": {
      "application/vnd.databricks.v1+output": {
       "addedWidgets": {},
       "aggData": [],
       "aggError": "",
       "aggOverflow": false,
       "aggSchema": [],
       "aggSeriesLimitReached": false,
       "aggType": "",
       "arguments": {},
       "columnCustomDisplayInfos": {},
       "data": [
        [
         "Joe"
        ]
       ],
       "datasetInfos": [],
       "dbfsResultPath": null,
       "isJsonSchema": true,
       "metadata": {},
       "overflow": false,
       "plotOptions": {
        "customPlotOptions": {},
        "displayType": "table",
        "pivotAggregation": null,
        "pivotColumns": null,
        "xColumns": null,
        "yColumns": null
       },
       "removedWidgets": [],
       "schema": [
        {
         "metadata": "{}",
         "name": "Name",
         "type": "\"string\""
        }
       ],
       "type": "table"
      }
     },
     "output_type": "display_data"
    }
   ],
   "source": [
    "from pyspark.sql.functions import col\n",
    "\n",
    "df_emp_man = (df_emp.alias(\"emp\")\n",
    "              .join(df_emp.alias(\"manager\"),\n",
    "                    col(\"emp.ManagerId\") == col(\"manager.Id\"),\n",
    "                    'inner'\n",
    "                    )\n",
    "              .filter(col(\"emp.Salary\") > col(\"manager.Salary\"))\n",
    "              .select(col(\"emp.Name\"))\n",
    "              )\n",
    "\n",
    "df_emp_man.display()"
   ]
  }
 ],
 "metadata": {
  "application/vnd.databricks.v1+notebook": {
   "dashboards": [],
   "language": "python",
   "notebookMetadata": {
    "pythonIndentUnit": 2
   },
   "notebookName": "Practise",
   "widgets": {}
  }
 },
 "nbformat": 4,
 "nbformat_minor": 0
}
